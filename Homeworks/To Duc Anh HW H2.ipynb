{
 "cells": [
  {
   "cell_type": "markdown",
   "source": [
    "I refered the K-means Clustering on website : \"https://machinelearningcoban.com/2017/01/01/kmeans/\" while doing this\n",
    "homework, so there will be similarities in the codebase.\n",
    "\n",
    "Trying to follow the given paths."
   ],
   "metadata": {
    "collapsed": false,
    "pycharm": {
     "name": "#%% md\n"
    }
   }
  },
  {
   "cell_type": "markdown",
   "source": [
    "Import libraries:\n",
    "\n",
    "Note: Set seed = 200"
   ],
   "metadata": {
    "collapsed": false
   }
  },
  {
   "cell_type": "code",
   "execution_count": 34,
   "metadata": {
    "collapsed": true
   },
   "outputs": [],
   "source": [
    "import numpy as np\n",
    "import matplotlib.pyplot as plt\n",
    "from scipy.spatial.distance import cdist\n",
    "import logging\n",
    "np.random.seed(200)"
   ]
  },
  {
   "cell_type": "markdown",
   "source": [
    "The below function will display the graph, i set the markersize equal to 1 to have a better visualization\n",
    "\n",
    "Set the scale to equal, that means 1 unit horizontal == 1 unit vertical in the plot"
   ],
   "metadata": {
    "collapsed": false
   }
  },
  {
   "cell_type": "code",
   "execution_count": 35,
   "outputs": [],
   "source": [
    "def display(dataset, label):\n",
    "    x0 = dataset[label == 0, :]\n",
    "    x1 = dataset[label == 1, :]\n",
    "    x2 = dataset[label == 2, :]\n",
    "\n",
    "    plt.plot(x0[:, 0], x0[:, 1], 'b^', markersize = 1)\n",
    "    plt.plot(x1[:, 0], x1[:, 1], 'go', markersize = 1)\n",
    "    plt.plot(x2[:, 0], x2[:, 1], 'rs', markersize = 1)\n",
    "\n",
    "    plt.axis('equal')\n",
    "    plt.plot()\n",
    "    plt.show()"
   ],
   "metadata": {
    "collapsed": false,
    "pycharm": {
     "name": "#%%\n"
    }
   }
  },
  {
   "cell_type": "markdown",
   "source": [
    "The below function choose random point in the cluster as initial centers"
   ],
   "metadata": {
    "collapsed": false
   }
  },
  {
   "cell_type": "code",
   "execution_count": 36,
   "outputs": [],
   "source": [
    "def choose_centers(dataset, k):\n",
    "    return dataset[np.random.choice(dataset.shape[0], k, replace=False)]"
   ],
   "metadata": {
    "collapsed": false,
    "pycharm": {
     "name": "#%%\n"
    }
   }
  },
  {
   "cell_type": "markdown",
   "source": [
    "The below function assign the label for points in clusters by the distance between that point and all of the centers\n",
    "\n",
    "The label for a point in a cluster is the label of the center which is closest to the point"
   ],
   "metadata": {
    "collapsed": false
   }
  },
  {
   "cell_type": "code",
   "execution_count": 37,
   "outputs": [],
   "source": [
    "def assign_labels(dataset, centers):\n",
    "    D = cdist(dataset, centers)\n",
    "    D2 = centers[0] - dataset\n",
    "    D3 = centers[1] - dataset\n",
    "    D4 = centers[2] - dataset\n",
    "    # print(D)\n",
    "    # print('Distance between center and points:',D2)\n",
    "    return np.argmin(D, axis = 1)"
   ],
   "metadata": {
    "collapsed": false,
    "pycharm": {
     "name": "#%%\n"
    }
   }
  },
  {
   "cell_type": "markdown",
   "source": [
    "The below function is to update the center to minimize the total average distance between center and all the points in\n",
    "the cluster.\n",
    "\n",
    "The function will create an zero filled array with size (k, dataset.shape[1])) and set it as centers to work with\n",
    "-> quick note: since we are dealing with 2-D space so the centers will have the size of (k,2)"
   ],
   "metadata": {
    "collapsed": false
   }
  },
  {
   "cell_type": "code",
   "execution_count": 38,
   "outputs": [],
   "source": [
    "def update_centers(dataset, labels, k):\n",
    "    centers = np.zeros((k, dataset.shape[1]))\n",
    "    for index in range(k):\n",
    "        Xk = dataset[labels == index, :]\n",
    "        centers[index,:] = np.mean(Xk, axis = 0)\n",
    "    return centers"
   ],
   "metadata": {
    "collapsed": false,
    "pycharm": {
     "name": "#%%\n"
    }
   }
  },
  {
   "cell_type": "markdown",
   "source": [
    "The below function check if converged, if converged -> 2 set contain old centers and new centers+ are the same\n",
    "\n",
    "-> New and center are the same -> same set\n",
    "\n",
    "Alternative way -> set threshold that is a very small number, if the distance between old and new center are smaller\n",
    "than that threshold -> converged. Else return False"
   ],
   "metadata": {
    "collapsed": false
   }
  },
  {
   "cell_type": "code",
   "execution_count": 39,
   "outputs": [],
   "source": [
    "def converged(centers, new_centers):\n",
    "    # logging.info([tuple(a) for a in centers])\n",
    "    return (set([tuple(a) for a in centers]) == set([tuple(a) for a in new_centers]))"
   ],
   "metadata": {
    "collapsed": false,
    "pycharm": {
     "name": "#%%\n"
    }
   }
  },
  {
   "cell_type": "markdown",
   "source": [
    "The below function will first choose 3 random points and set it as the 3 initial centers\n",
    "\n",
    "Assume that point is a center of the cluster, add that point into the list named \"labels\" to label the point\n",
    "accordingly, test if that point satisfies that the average distance between that point and all the points in the cluster\n",
    "is the smallest. If that point satisfies, break and return"
   ],
   "metadata": {
    "collapsed": false
   }
  },
  {
   "cell_type": "code",
   "execution_count": 40,
   "outputs": [],
   "source": [
    "def kmeans(dataset, k):\n",
    "    centers = [choose_centers(dataset, k)]\n",
    "    labels = []\n",
    "    it = 0\n",
    "    # print(dataset)\n",
    "    # print('center:',centers)\n",
    "    while True:\n",
    "        labels.append(assign_labels(dataset, centers[-1]))\n",
    "        new_centers = update_centers(dataset, labels[-1], k)\n",
    "        if converged(centers[-1], new_centers):\n",
    "            break\n",
    "        centers.append(new_centers)\n",
    "        it += 1\n",
    "    return centers, labels, it\n"
   ],
   "metadata": {
    "collapsed": false,
    "pycharm": {
     "name": "#%%\n"
    }
   }
  },
  {
   "cell_type": "markdown",
   "source": [
    "Clusters created with multivariate_normal() function in numpy.random to ensure data follows\n",
    "multivariate normal distribution\n",
    "\n",
    "Working with 3 clusters, if you want to work with more custers, modify the code, create more means and clusters\n",
    "\n",
    "REMEMBER TO KEEP THE SAME COVARIANCE!!! Well you actually can change the covariance, but each cluster would not be as\n",
    "round as the value $$ \\begin{bmatrix}1 & 0\\\\0 & 1\\end{bmatrix} $$"
   ],
   "metadata": {
    "collapsed": false,
    "pycharm": {
     "name": "#%% md\n"
    }
   }
  },
  {
   "cell_type": "code",
   "execution_count": 41,
   "outputs": [],
   "source": [
    "means = [[-1, -1], [4, 4], [8, 12]]\n",
    "cov = [[1, 0], [0, 1]]\n",
    "\n",
    "n = int(input('Enter size of cluster'))\n",
    "x0 = np.random.multivariate_normal(mean=means[0], cov=cov, size=n)\n",
    "x1 = np.random.multivariate_normal(mean=means[1], cov=cov, size=n)\n",
    "x2 = np.random.multivariate_normal(mean=means[2], cov=cov, size=n)\n"
   ],
   "metadata": {
    "collapsed": false,
    "pycharm": {
     "name": "#%%\n"
    }
   }
  },
  {
   "cell_type": "markdown",
   "source": [
    "Concatenate all generated data into one array using np.concatenate, axis = 0 -> stack on each other\n",
    "\n",
    "Create labels using number * the length of each cluster, then transpose it into a [m*1] matrix, with m = the number of\n",
    "elements in each cluster time the number of clusters, if you add more clusters to the game, add more label to the\n",
    "original_label"
   ],
   "metadata": {
    "collapsed": false,
    "pycharm": {
     "name": "#%% md\n"
    }
   }
  },
  {
   "cell_type": "code",
   "execution_count": 42,
   "outputs": [],
   "source": [
    "dataset = np.concatenate((x0, x1, x2), axis = 0)\n",
    "k = 3\n",
    "original_label = np.asarray([0]*n + [1]*n + [2]*n).T"
   ],
   "metadata": {
    "collapsed": false,
    "pycharm": {
     "name": "#%%\n"
    }
   }
  },
  {
   "cell_type": "markdown",
   "source": [
    "Preview the first 10 rows of the dataset:"
   ],
   "metadata": {
    "collapsed": false,
    "pycharm": {
     "name": "#%% md\n"
    }
   }
  },
  {
   "cell_type": "code",
   "execution_count": 43,
   "outputs": [
    {
     "name": "stdout",
     "output_type": "stream",
     "text": [
      "x0: \n",
      " [[-2.45094825  0.91095313]\n",
      " [-0.28812085 -1.24773829]\n",
      " [-0.63853377 -1.03294967]\n",
      " [-1.22134672 -0.52274322]\n",
      " [-1.69193937 -0.20799407]\n",
      " [-0.92675087  0.30328603]\n",
      " [-0.78651851  0.01734895]\n",
      " [ 0.91171178 -1.52967163]\n",
      " [ 0.84213516 -2.05723508]\n",
      " [-1.86291629 -0.7623685 ]]\n",
      "x1: \n",
      " [[4.61090189 2.7525294 ]\n",
      " [3.92283665 4.89036877]\n",
      " [3.19322883 4.5250177 ]\n",
      " [2.9656238  5.2661541 ]\n",
      " [2.14677443 4.5703336 ]\n",
      " [4.65157147 3.58259757]\n",
      " [5.22966113 3.24183308]\n",
      " [4.24054772 4.44117643]\n",
      " [4.35833277 3.98376062]\n",
      " [7.01664084 4.46088029]]\n",
      "x2: \n",
      " [[ 8.27908796 12.74709227]\n",
      " [ 9.80824535 12.4590455 ]\n",
      " [ 9.43995837 12.71939161]\n",
      " [ 8.61388639 13.88161533]\n",
      " [ 8.30032348 11.94830242]\n",
      " [ 8.76579435 11.60060451]\n",
      " [ 7.15832163 12.56170275]\n",
      " [ 8.48045613  9.72848075]\n",
      " [ 8.67405648 11.61942812]\n",
      " [ 9.28888795 12.57371471]]\n"
     ]
    }
   ],
   "source": [
    "print('x0: \\n',x0[:10])\n",
    "print('x1: \\n',x1[:10])\n",
    "print('x2: \\n',x2[:10])"
   ],
   "metadata": {
    "collapsed": false,
    "pycharm": {
     "name": "#%%\n"
    }
   }
  },
  {
   "cell_type": "code",
   "execution_count": 44,
   "outputs": [
    {
     "name": "stdout",
     "output_type": "stream",
     "text": [
      "The algorithm took : 3 iterations\n",
      "Centers found:\n",
      "[[ 8.03991528 11.97544959]\n",
      " [ 3.96919596  3.97343368]\n",
      " [-1.03054085 -0.99594141]]\n",
      "[[-1, -1], [4, 4], [8, 12]]\n"
     ]
    },
    {
     "data": {
      "text/plain": "<Figure size 432x288 with 1 Axes>",
      "image/png": "[encoded data removed]"
     },
     "metadata": {
      "needs_background": "light"
     },
     "output_type": "display_data"
    }
   ],
   "source": [
    "centers, labels, it = kmeans(dataset, k)\n",
    "print('The algorithm took :',it, 'iterations')\n",
    "print('Centers found:')\n",
    "final_centers = centers[-1]\n",
    "print(final_centers)\n",
    "print(means)\n",
    "display(dataset, labels[-1])"
   ],
   "metadata": {
    "collapsed": false,
    "pycharm": {
     "name": "#%%\n"
    }
   }
  },
  {
   "cell_type": "code",
   "execution_count": 44,
   "outputs": [],
   "source": [],
   "metadata": {
    "collapsed": false,
    "pycharm": {
     "name": "#%%\n"
    }
   }
  }
 ],
 "metadata": {
  "kernelspec": {
   "name": "pycharm-eaa1fcfe",
   "language": "python",
   "display_name": "PyCharm (Data-preparation)"
  },
  "language_info": {
   "codemirror_mode": {
    "name": "ipython",
    "version": 2
   },
   "file_extension": ".py",
   "mimetype": "text/x-python",
   "name": "python",
   "nbconvert_exporter": "python",
   "pygments_lexer": "ipython2",
   "version": "2.7.6"
  }
 },
 "nbformat": 4,
 "nbformat_minor": 0
}