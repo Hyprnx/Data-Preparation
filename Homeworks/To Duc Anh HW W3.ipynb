{
 "cells": [
  {
   "cell_type": "code",
   "execution_count": 98,
   "metadata": {
    "collapsed": true
   },
   "outputs": [],
   "source": [
    "import pandas as pd"
   ]
  },
  {
   "cell_type": "markdown",
   "source": [
    "# Problems"
   ],
   "metadata": {
    "collapsed": false
   }
  },
  {
   "cell_type": "markdown",
   "source": [
    "Read the earthquakes.csv file and do the following tasks:\n",
    "* How many earthquake have magType 'ml' and type 'explosion'?\n",
    "* Calculate the mean of mag in Alaska\n",
    "* The distance is smaller than 100km, example: \"62km W of Cantwell, Alaska\".\n",
    "* Calculate the mean of mag in each quarter (q1:m1-m3, q2: m4-m6, q3: m7-m9, q4: m10-12), the \"time\" field stores the\n",
    "milliseconds from 1/1/1970, hint: timestamp."
   ],
   "metadata": {
    "collapsed": false,
    "pycharm": {
     "name": "#%% md\n"
    }
   }
  },
  {
   "cell_type": "markdown",
   "source": [
    "# Read file"
   ],
   "metadata": {
    "collapsed": false
   }
  },
  {
   "cell_type": "code",
   "execution_count": 99,
   "outputs": [
    {
     "data": {
      "text/plain": "     alert  cdi        code  \\\n0      NaN  NaN    37389218   \n1      NaN  NaN    37389202   \n2      NaN  4.4    37389194   \n3      NaN  NaN    37389186   \n4      NaN  NaN    73096941   \n...    ...  ...         ...   \n9327   NaN  NaN    73086771   \n9328   NaN  NaN    38063967   \n9329   NaN  NaN  2018261000   \n9330   NaN  NaN    38063959   \n9331   NaN  NaN    38063935   \n\n                                                 detail      dmin  felt  \\\n0     https://earthquake.usgs.gov/fdsnws/event/1/que...  0.008693   NaN   \n1     https://earthquake.usgs.gov/fdsnws/event/1/que...  0.020030   NaN   \n2     https://earthquake.usgs.gov/fdsnws/event/1/que...  0.021370  28.0   \n3     https://earthquake.usgs.gov/fdsnws/event/1/que...  0.026180   NaN   \n4     https://earthquake.usgs.gov/fdsnws/event/1/que...  0.077990   NaN   \n...                                                 ...       ...   ...   \n9327  https://earthquake.usgs.gov/fdsnws/event/1/que...  0.018060   NaN   \n9328  https://earthquake.usgs.gov/fdsnws/event/1/que...  0.030410   NaN   \n9329  https://earthquake.usgs.gov/fdsnws/event/1/que...  0.452600   NaN   \n9330  https://earthquake.usgs.gov/fdsnws/event/1/que...  0.018650   NaN   \n9331  https://earthquake.usgs.gov/fdsnws/event/1/que...  0.016980   NaN   \n\n        gap             ids   mag magType  ...  sources     status  \\\n0      85.0    ,ci37389218,  1.35      ml  ...     ,ci,  automatic   \n1      79.0    ,ci37389202,  1.29      ml  ...     ,ci,  automatic   \n2      21.0    ,ci37389194,  3.42      ml  ...     ,ci,  automatic   \n3      39.0    ,ci37389186,  0.44      ml  ...     ,ci,  automatic   \n4     192.0    ,nc73096941,  2.16      md  ...     ,nc,  automatic   \n...     ...             ...   ...     ...  ...      ...        ...   \n9327  185.0    ,nc73086771,  0.62      md  ...     ,nc,   reviewed   \n9328   50.0    ,ci38063967,  1.00      ml  ...     ,ci,   reviewed   \n9329  276.0  ,pr2018261000,  2.40      md  ...     ,pr,   reviewed   \n9330   61.0    ,ci38063959,  1.10      ml  ...     ,ci,   reviewed   \n9331   39.0    ,ci38063935,  0.66      ml  ...     ,ci,   reviewed   \n\n               time                                     title  tsunami  \\\n0     1539475168010             M 1.4 - 9km NE of Aguanga, CA        0   \n1     1539475129610             M 1.3 - 9km NE of Aguanga, CA        0   \n2     1539475062610             M 3.4 - 8km NE of Aguanga, CA        0   \n3     1539474978070             M 0.4 - 9km NE of Aguanga, CA        0   \n4     1539474716050             M 2.2 - 10km NW of Avenal, CA        0   \n...             ...                                       ...      ...   \n9327  1537230228060      M 0.6 - 9km ENE of Mammoth Lakes, CA        0   \n9328  1537230135130               M 1.0 - 3km W of Julian, CA        0   \n9329  1537229908180  M 2.4 - 35km NNE of Hatillo, Puerto Rico        0   \n9330  1537229545350             M 1.1 - 9km NE of Aguanga, CA        0   \n9331  1537228864470             M 0.7 - 9km NE of Aguanga, CA        0   \n\n            type                                              types     tz  \\\n0     earthquake         ,geoserve,nearby-cities,origin,phase-data, -480.0   \n1     earthquake         ,geoserve,nearby-cities,origin,phase-data, -480.0   \n2     earthquake  ,dyfi,focal-mechanism,geoserve,nearby-cities,o... -480.0   \n3     earthquake         ,geoserve,nearby-cities,origin,phase-data, -480.0   \n4     earthquake  ,geoserve,nearby-cities,origin,phase-data,scit... -480.0   \n...          ...                                                ...    ...   \n9327  earthquake         ,geoserve,nearby-cities,origin,phase-data, -480.0   \n9328  earthquake  ,geoserve,nearby-cities,origin,phase-data,scit... -480.0   \n9329  earthquake                       ,geoserve,origin,phase-data, -240.0   \n9330  earthquake  ,focal-mechanism,geoserve,nearby-cities,origin... -480.0   \n9331  earthquake  ,focal-mechanism,geoserve,nearby-cities,origin... -480.0   \n\n            updated                                                url  \n0     1539475395144  https://earthquake.usgs.gov/earthquakes/eventp...  \n1     1539475253925  https://earthquake.usgs.gov/earthquakes/eventp...  \n2     1539536756176  https://earthquake.usgs.gov/earthquakes/eventp...  \n3     1539475196167  https://earthquake.usgs.gov/earthquakes/eventp...  \n4     1539477547926  https://earthquake.usgs.gov/earthquakes/eventp...  \n...             ...                                                ...  \n9327  1537285598315  https://earthquake.usgs.gov/earthquakes/eventp...  \n9328  1537276800970  https://earthquake.usgs.gov/earthquakes/eventp...  \n9329  1537243777410  https://earthquake.usgs.gov/earthquakes/eventp...  \n9330  1537230211640  https://earthquake.usgs.gov/earthquakes/eventp...  \n9331  1537305830770  https://earthquake.usgs.gov/earthquakes/eventp...  \n\n[9332 rows x 26 columns]",
      "text/html": "<div>\n<style scoped>\n    .dataframe tbody tr th:only-of-type {\n        vertical-align: middle;\n    }\n\n    .dataframe tbody tr th {\n        vertical-align: top;\n    }\n\n    .dataframe thead th {\n        text-align: right;\n    }\n</style>\n<table border=\"1\" class=\"dataframe\">\n  <thead>\n    <tr style=\"text-align: right;\">\n      <th></th>\n      <th>alert</th>\n      <th>cdi</th>\n      <th>code</th>\n      <th>detail</th>\n      <th>dmin</th>\n      <th>felt</th>\n      <th>gap</th>\n      <th>ids</th>\n      <th>mag</th>\n      <th>magType</th>\n      <th>...</th>\n      <th>sources</th>\n      <th>status</th>\n      <th>time</th>\n      <th>title</th>\n      <th>tsunami</th>\n      <th>type</th>\n      <th>types</th>\n      <th>tz</th>\n      <th>updated</th>\n      <th>url</th>\n    </tr>\n  </thead>\n  <tbody>\n    <tr>\n      <th>0</th>\n      <td>NaN</td>\n      <td>NaN</td>\n      <td>37389218</td>\n      <td>https://earthquake.usgs.gov/fdsnws/event/1/que...</td>\n      <td>0.008693</td>\n      <td>NaN</td>\n      <td>85.0</td>\n      <td>,ci37389218,</td>\n      <td>1.35</td>\n      <td>ml</td>\n      <td>...</td>\n      <td>,ci,</td>\n      <td>automatic</td>\n      <td>1539475168010</td>\n      <td>M 1.4 - 9km NE of Aguanga, CA</td>\n      <td>0</td>\n      <td>earthquake</td>\n      <td>,geoserve,nearby-cities,origin,phase-data,</td>\n      <td>-480.0</td>\n      <td>1539475395144</td>\n      <td>https://earthquake.usgs.gov/earthquakes/eventp...</td>\n    </tr>\n    <tr>\n      <th>1</th>\n      <td>NaN</td>\n      <td>NaN</td>\n      <td>37389202</td>\n      <td>https://earthquake.usgs.gov/fdsnws/event/1/que...</td>\n      <td>0.020030</td>\n      <td>NaN</td>\n      <td>79.0</td>\n      <td>,ci37389202,</td>\n      <td>1.29</td>\n      <td>ml</td>\n      <td>...</td>\n      <td>,ci,</td>\n      <td>automatic</td>\n      <td>1539475129610</td>\n      <td>M 1.3 - 9km NE of Aguanga, CA</td>\n      <td>0</td>\n      <td>earthquake</td>\n      <td>,geoserve,nearby-cities,origin,phase-data,</td>\n      <td>-480.0</td>\n      <td>1539475253925</td>\n      <td>https://earthquake.usgs.gov/earthquakes/eventp...</td>\n    </tr>\n    <tr>\n      <th>2</th>\n      <td>NaN</td>\n      <td>4.4</td>\n      <td>37389194</td>\n      <td>https://earthquake.usgs.gov/fdsnws/event/1/que...</td>\n      <td>0.021370</td>\n      <td>28.0</td>\n      <td>21.0</td>\n      <td>,ci37389194,</td>\n      <td>3.42</td>\n      <td>ml</td>\n      <td>...</td>\n      <td>,ci,</td>\n      <td>automatic</td>\n      <td>1539475062610</td>\n      <td>M 3.4 - 8km NE of Aguanga, CA</td>\n      <td>0</td>\n      <td>earthquake</td>\n      <td>,dyfi,focal-mechanism,geoserve,nearby-cities,o...</td>\n      <td>-480.0</td>\n      <td>1539536756176</td>\n      <td>https://earthquake.usgs.gov/earthquakes/eventp...</td>\n    </tr>\n    <tr>\n      <th>3</th>\n      <td>NaN</td>\n      <td>NaN</td>\n      <td>37389186</td>\n      <td>https://earthquake.usgs.gov/fdsnws/event/1/que...</td>\n      <td>0.026180</td>\n      <td>NaN</td>\n      <td>39.0</td>\n      <td>,ci37389186,</td>\n      <td>0.44</td>\n      <td>ml</td>\n      <td>...</td>\n      <td>,ci,</td>\n      <td>automatic</td>\n      <td>1539474978070</td>\n      <td>M 0.4 - 9km NE of Aguanga, CA</td>\n      <td>0</td>\n      <td>earthquake</td>\n      <td>,geoserve,nearby-cities,origin,phase-data,</td>\n      <td>-480.0</td>\n      <td>1539475196167</td>\n      <td>https://earthquake.usgs.gov/earthquakes/eventp...</td>\n    </tr>\n    <tr>\n      <th>4</th>\n      <td>NaN</td>\n      <td>NaN</td>\n      <td>73096941</td>\n      <td>https://earthquake.usgs.gov/fdsnws/event/1/que...</td>\n      <td>0.077990</td>\n      <td>NaN</td>\n      <td>192.0</td>\n      <td>,nc73096941,</td>\n      <td>2.16</td>\n      <td>md</td>\n      <td>...</td>\n      <td>,nc,</td>\n      <td>automatic</td>\n      <td>1539474716050</td>\n      <td>M 2.2 - 10km NW of Avenal, CA</td>\n      <td>0</td>\n      <td>earthquake</td>\n      <td>,geoserve,nearby-cities,origin,phase-data,scit...</td>\n      <td>-480.0</td>\n      <td>1539477547926</td>\n      <td>https://earthquake.usgs.gov/earthquakes/eventp...</td>\n    </tr>\n    <tr>\n      <th>...</th>\n      <td>...</td>\n      <td>...</td>\n      <td>...</td>\n      <td>...</td>\n      <td>...</td>\n      <td>...</td>\n      <td>...</td>\n      <td>...</td>\n      <td>...</td>\n      <td>...</td>\n      <td>...</td>\n      <td>...</td>\n      <td>...</td>\n      <td>...</td>\n      <td>...</td>\n      <td>...</td>\n      <td>...</td>\n      <td>...</td>\n      <td>...</td>\n      <td>...</td>\n      <td>...</td>\n    </tr>\n    <tr>\n      <th>9327</th>\n      <td>NaN</td>\n      <td>NaN</td>\n      <td>73086771</td>\n      <td>https://earthquake.usgs.gov/fdsnws/event/1/que...</td>\n      <td>0.018060</td>\n      <td>NaN</td>\n      <td>185.0</td>\n      <td>,nc73086771,</td>\n      <td>0.62</td>\n      <td>md</td>\n      <td>...</td>\n      <td>,nc,</td>\n      <td>reviewed</td>\n      <td>1537230228060</td>\n      <td>M 0.6 - 9km ENE of Mammoth Lakes, CA</td>\n      <td>0</td>\n      <td>earthquake</td>\n      <td>,geoserve,nearby-cities,origin,phase-data,</td>\n      <td>-480.0</td>\n      <td>1537285598315</td>\n      <td>https://earthquake.usgs.gov/earthquakes/eventp...</td>\n    </tr>\n    <tr>\n      <th>9328</th>\n      <td>NaN</td>\n      <td>NaN</td>\n      <td>38063967</td>\n      <td>https://earthquake.usgs.gov/fdsnws/event/1/que...</td>\n      <td>0.030410</td>\n      <td>NaN</td>\n      <td>50.0</td>\n      <td>,ci38063967,</td>\n      <td>1.00</td>\n      <td>ml</td>\n      <td>...</td>\n      <td>,ci,</td>\n      <td>reviewed</td>\n      <td>1537230135130</td>\n      <td>M 1.0 - 3km W of Julian, CA</td>\n      <td>0</td>\n      <td>earthquake</td>\n      <td>,geoserve,nearby-cities,origin,phase-data,scit...</td>\n      <td>-480.0</td>\n      <td>1537276800970</td>\n      <td>https://earthquake.usgs.gov/earthquakes/eventp...</td>\n    </tr>\n    <tr>\n      <th>9329</th>\n      <td>NaN</td>\n      <td>NaN</td>\n      <td>2018261000</td>\n      <td>https://earthquake.usgs.gov/fdsnws/event/1/que...</td>\n      <td>0.452600</td>\n      <td>NaN</td>\n      <td>276.0</td>\n      <td>,pr2018261000,</td>\n      <td>2.40</td>\n      <td>md</td>\n      <td>...</td>\n      <td>,pr,</td>\n      <td>reviewed</td>\n      <td>1537229908180</td>\n      <td>M 2.4 - 35km NNE of Hatillo, Puerto Rico</td>\n      <td>0</td>\n      <td>earthquake</td>\n      <td>,geoserve,origin,phase-data,</td>\n      <td>-240.0</td>\n      <td>1537243777410</td>\n      <td>https://earthquake.usgs.gov/earthquakes/eventp...</td>\n    </tr>\n    <tr>\n      <th>9330</th>\n      <td>NaN</td>\n      <td>NaN</td>\n      <td>38063959</td>\n      <td>https://earthquake.usgs.gov/fdsnws/event/1/que...</td>\n      <td>0.018650</td>\n      <td>NaN</td>\n      <td>61.0</td>\n      <td>,ci38063959,</td>\n      <td>1.10</td>\n      <td>ml</td>\n      <td>...</td>\n      <td>,ci,</td>\n      <td>reviewed</td>\n      <td>1537229545350</td>\n      <td>M 1.1 - 9km NE of Aguanga, CA</td>\n      <td>0</td>\n      <td>earthquake</td>\n      <td>,focal-mechanism,geoserve,nearby-cities,origin...</td>\n      <td>-480.0</td>\n      <td>1537230211640</td>\n      <td>https://earthquake.usgs.gov/earthquakes/eventp...</td>\n    </tr>\n    <tr>\n      <th>9331</th>\n      <td>NaN</td>\n      <td>NaN</td>\n      <td>38063935</td>\n      <td>https://earthquake.usgs.gov/fdsnws/event/1/que...</td>\n      <td>0.016980</td>\n      <td>NaN</td>\n      <td>39.0</td>\n      <td>,ci38063935,</td>\n      <td>0.66</td>\n      <td>ml</td>\n      <td>...</td>\n      <td>,ci,</td>\n      <td>reviewed</td>\n      <td>1537228864470</td>\n      <td>M 0.7 - 9km NE of Aguanga, CA</td>\n      <td>0</td>\n      <td>earthquake</td>\n      <td>,focal-mechanism,geoserve,nearby-cities,origin...</td>\n      <td>-480.0</td>\n      <td>1537305830770</td>\n      <td>https://earthquake.usgs.gov/earthquakes/eventp...</td>\n    </tr>\n  </tbody>\n</table>\n<p>9332 rows × 26 columns</p>\n</div>"
     },
     "execution_count": 99,
     "metadata": {},
     "output_type": "execute_result"
    }
   ],
   "source": [
    "data = pd.read_csv('C:/Users/toduc/OneDrive - National Economics University/Desktop/NEU/Machine Learning/Visualization/Data/earthquakes.csv', sep=',')\n",
    "data"
   ],
   "metadata": {
    "collapsed": false,
    "pycharm": {
     "name": "#%%\n"
    }
   }
  },
  {
   "cell_type": "markdown",
   "source": [
    "# Get column's names"
   ],
   "metadata": {
    "collapsed": false
   }
  },
  {
   "cell_type": "code",
   "execution_count": 100,
   "outputs": [
    {
     "data": {
      "text/plain": "Index(['alert', 'cdi', 'code', 'detail', 'dmin', 'felt', 'gap', 'ids', 'mag',\n       'magType', 'mmi', 'net', 'nst', 'place', 'rms', 'sig', 'sources',\n       'status', 'time', 'title', 'tsunami', 'type', 'types', 'tz', 'updated',\n       'url'],\n      dtype='object')"
     },
     "execution_count": 100,
     "metadata": {},
     "output_type": "execute_result"
    }
   ],
   "source": [
    "data.columns"
   ],
   "metadata": {
    "collapsed": false,
    "pycharm": {
     "name": "#%%\n"
    }
   }
  },
  {
   "cell_type": "markdown",
   "source": [
    "# Earthquakes that have magType 'ml' and type 'explosion'"
   ],
   "metadata": {
    "collapsed": false,
    "pycharm": {
     "name": "#%% md\n"
    }
   }
  },
  {
   "cell_type": "code",
   "execution_count": 101,
   "outputs": [
    {
     "data": {
      "text/plain": "79"
     },
     "execution_count": 101,
     "metadata": {},
     "output_type": "execute_result"
    }
   ],
   "source": [
    "len(data[data['magType'].str.contains('ml') & data['type'].str.contains('explosion')])"
   ],
   "metadata": {
    "collapsed": false,
    "pycharm": {
     "name": "#%%\n"
    }
   }
  },
  {
   "cell_type": "markdown",
   "source": [
    "# Earthquakes in Alaska"
   ],
   "metadata": {
    "collapsed": false
   }
  },
  {
   "cell_type": "code",
   "execution_count": 102,
   "outputs": [
    {
     "name": "stdout",
     "output_type": "stream",
     "text": [
      "(3665, 26)\n"
     ]
    },
    {
     "data": {
      "text/plain": "     alert  cdi      code                                             detail  \\\n6      NaN  NaN  20280432  https://earthquake.usgs.gov/fdsnws/event/1/que...   \n18     NaN  NaN  20280424  https://earthquake.usgs.gov/fdsnws/event/1/que...   \n21     NaN  NaN  20280421  https://earthquake.usgs.gov/fdsnws/event/1/que...   \n26     NaN  NaN  20280415  https://earthquake.usgs.gov/fdsnws/event/1/que...   \n27     NaN  NaN  20280412  https://earthquake.usgs.gov/fdsnws/event/1/que...   \n...    ...  ...       ...                                                ...   \n9310   NaN  NaN  20257039  https://earthquake.usgs.gov/fdsnws/event/1/que...   \n9312   NaN  NaN  20257031  https://earthquake.usgs.gov/fdsnws/event/1/que...   \n9313   NaN  NaN  20257028  https://earthquake.usgs.gov/fdsnws/event/1/que...   \n9314   NaN  NaN  20257026  https://earthquake.usgs.gov/fdsnws/event/1/que...   \n9318   NaN  NaN  20257023  https://earthquake.usgs.gov/fdsnws/event/1/que...   \n\n      dmin  felt  gap                      ids  mag magType  ...  sources  \\\n6      NaN   NaN  NaN             ,ak20280432,  1.7      ml  ...     ,ak,   \n18     NaN   NaN  NaN             ,ak20280424,  2.0      ml  ...     ,ak,   \n21     NaN   NaN  NaN             ,ak20280421,  1.7      ml  ...     ,ak,   \n26     NaN   NaN  NaN  ,ak20280415,us1000hbta,  2.8      ml  ...  ,ak,us,   \n27     NaN   NaN  NaN             ,ak20280412,  1.1      ml  ...     ,ak,   \n...    ...   ...  ...                      ...  ...     ...  ...      ...   \n9310   NaN   NaN  NaN             ,ak20257039,  1.1      ml  ...     ,ak,   \n9312   NaN   NaN  NaN             ,ak20257031,  2.5      ml  ...     ,ak,   \n9313   NaN   NaN  NaN             ,ak20257028,  1.5      ml  ...     ,ak,   \n9314   NaN   NaN  NaN             ,ak20257026,  2.0      ml  ...     ,ak,   \n9318   NaN   NaN  NaN             ,ak20257023,  1.1      ml  ...     ,ak,   \n\n         status           time                                        title  \\\n6     automatic  1539473176017         M 1.7 - 105km W of Talkeetna, Alaska   \n18    automatic  1539468687232         M 2.0 - 57km SSW of Kaktovik, Alaska   \n21    automatic  1539467905609           M 1.7 - 64km SSW of Salcha, Alaska   \n26    automatic  1539466288954  M 2.8 - 111km NNW of Arctic Village, Alaska   \n27    automatic  1539465520462    M 1.1 - 43km S of Redoubt Volcano, Alaska   \n...         ...            ...                                          ...   \n9310  automatic  1537233698073    M 1.1 - 59km NNE of Sutton-Alpine, Alaska   \n9312  automatic  1537233039227   M 2.5 - 134km NW of Arctic Village, Alaska   \n9313  automatic  1537232989781         M 1.5 - 88km ESE of Whittier, Alaska   \n9314  automatic  1537232951978  M 2.0 - 132km WNW of Arctic Village, Alaska   \n9318   reviewed  1537232056478              M 1.1 - 11km E of Healy, Alaska   \n\n      tsunami        type                         types     tz        updated  \\\n6           0  earthquake             ,geoserve,origin, -540.0  1539473596465   \n18          0  earthquake             ,geoserve,origin, -540.0  1539469037574   \n21          0  earthquake             ,geoserve,origin, -540.0  1539468224954   \n26          0  earthquake  ,geoserve,origin,phase-data, -540.0  1539478515040   \n27          0  earthquake             ,geoserve,origin, -540.0  1539465930832   \n...       ...         ...                           ...    ...            ...   \n9310        0  earthquake             ,geoserve,origin, -540.0  1537234527258   \n9312        0  earthquake             ,geoserve,origin, -540.0  1537233354029   \n9313        0  earthquake             ,geoserve,origin, -540.0  1537233353793   \n9314        0  earthquake             ,geoserve,origin, -540.0  1537233252966   \n9318        0  earthquake  ,geoserve,origin,phase-data, -540.0  1537294676737   \n\n                                                    url  \n6     https://earthquake.usgs.gov/earthquakes/eventp...  \n18    https://earthquake.usgs.gov/earthquakes/eventp...  \n21    https://earthquake.usgs.gov/earthquakes/eventp...  \n26    https://earthquake.usgs.gov/earthquakes/eventp...  \n27    https://earthquake.usgs.gov/earthquakes/eventp...  \n...                                                 ...  \n9310  https://earthquake.usgs.gov/earthquakes/eventp...  \n9312  https://earthquake.usgs.gov/earthquakes/eventp...  \n9313  https://earthquake.usgs.gov/earthquakes/eventp...  \n9314  https://earthquake.usgs.gov/earthquakes/eventp...  \n9318  https://earthquake.usgs.gov/earthquakes/eventp...  \n\n[3665 rows x 26 columns]",
      "text/html": "<div>\n<style scoped>\n    .dataframe tbody tr th:only-of-type {\n        vertical-align: middle;\n    }\n\n    .dataframe tbody tr th {\n        vertical-align: top;\n    }\n\n    .dataframe thead th {\n        text-align: right;\n    }\n</style>\n<table border=\"1\" class=\"dataframe\">\n  <thead>\n    <tr style=\"text-align: right;\">\n      <th></th>\n      <th>alert</th>\n      <th>cdi</th>\n      <th>code</th>\n      <th>detail</th>\n      <th>dmin</th>\n      <th>felt</th>\n      <th>gap</th>\n      <th>ids</th>\n      <th>mag</th>\n      <th>magType</th>\n      <th>...</th>\n      <th>sources</th>\n      <th>status</th>\n      <th>time</th>\n      <th>title</th>\n      <th>tsunami</th>\n      <th>type</th>\n      <th>types</th>\n      <th>tz</th>\n      <th>updated</th>\n      <th>url</th>\n    </tr>\n  </thead>\n  <tbody>\n    <tr>\n      <th>6</th>\n      <td>NaN</td>\n      <td>NaN</td>\n      <td>20280432</td>\n      <td>https://earthquake.usgs.gov/fdsnws/event/1/que...</td>\n      <td>NaN</td>\n      <td>NaN</td>\n      <td>NaN</td>\n      <td>,ak20280432,</td>\n      <td>1.7</td>\n      <td>ml</td>\n      <td>...</td>\n      <td>,ak,</td>\n      <td>automatic</td>\n      <td>1539473176017</td>\n      <td>M 1.7 - 105km W of Talkeetna, Alaska</td>\n      <td>0</td>\n      <td>earthquake</td>\n      <td>,geoserve,origin,</td>\n      <td>-540.0</td>\n      <td>1539473596465</td>\n      <td>https://earthquake.usgs.gov/earthquakes/eventp...</td>\n    </tr>\n    <tr>\n      <th>18</th>\n      <td>NaN</td>\n      <td>NaN</td>\n      <td>20280424</td>\n      <td>https://earthquake.usgs.gov/fdsnws/event/1/que...</td>\n      <td>NaN</td>\n      <td>NaN</td>\n      <td>NaN</td>\n      <td>,ak20280424,</td>\n      <td>2.0</td>\n      <td>ml</td>\n      <td>...</td>\n      <td>,ak,</td>\n      <td>automatic</td>\n      <td>1539468687232</td>\n      <td>M 2.0 - 57km SSW of Kaktovik, Alaska</td>\n      <td>0</td>\n      <td>earthquake</td>\n      <td>,geoserve,origin,</td>\n      <td>-540.0</td>\n      <td>1539469037574</td>\n      <td>https://earthquake.usgs.gov/earthquakes/eventp...</td>\n    </tr>\n    <tr>\n      <th>21</th>\n      <td>NaN</td>\n      <td>NaN</td>\n      <td>20280421</td>\n      <td>https://earthquake.usgs.gov/fdsnws/event/1/que...</td>\n      <td>NaN</td>\n      <td>NaN</td>\n      <td>NaN</td>\n      <td>,ak20280421,</td>\n      <td>1.7</td>\n      <td>ml</td>\n      <td>...</td>\n      <td>,ak,</td>\n      <td>automatic</td>\n      <td>1539467905609</td>\n      <td>M 1.7 - 64km SSW of Salcha, Alaska</td>\n      <td>0</td>\n      <td>earthquake</td>\n      <td>,geoserve,origin,</td>\n      <td>-540.0</td>\n      <td>1539468224954</td>\n      <td>https://earthquake.usgs.gov/earthquakes/eventp...</td>\n    </tr>\n    <tr>\n      <th>26</th>\n      <td>NaN</td>\n      <td>NaN</td>\n      <td>20280415</td>\n      <td>https://earthquake.usgs.gov/fdsnws/event/1/que...</td>\n      <td>NaN</td>\n      <td>NaN</td>\n      <td>NaN</td>\n      <td>,ak20280415,us1000hbta,</td>\n      <td>2.8</td>\n      <td>ml</td>\n      <td>...</td>\n      <td>,ak,us,</td>\n      <td>automatic</td>\n      <td>1539466288954</td>\n      <td>M 2.8 - 111km NNW of Arctic Village, Alaska</td>\n      <td>0</td>\n      <td>earthquake</td>\n      <td>,geoserve,origin,phase-data,</td>\n      <td>-540.0</td>\n      <td>1539478515040</td>\n      <td>https://earthquake.usgs.gov/earthquakes/eventp...</td>\n    </tr>\n    <tr>\n      <th>27</th>\n      <td>NaN</td>\n      <td>NaN</td>\n      <td>20280412</td>\n      <td>https://earthquake.usgs.gov/fdsnws/event/1/que...</td>\n      <td>NaN</td>\n      <td>NaN</td>\n      <td>NaN</td>\n      <td>,ak20280412,</td>\n      <td>1.1</td>\n      <td>ml</td>\n      <td>...</td>\n      <td>,ak,</td>\n      <td>automatic</td>\n      <td>1539465520462</td>\n      <td>M 1.1 - 43km S of Redoubt Volcano, Alaska</td>\n      <td>0</td>\n      <td>earthquake</td>\n      <td>,geoserve,origin,</td>\n      <td>-540.0</td>\n      <td>1539465930832</td>\n      <td>https://earthquake.usgs.gov/earthquakes/eventp...</td>\n    </tr>\n    <tr>\n      <th>...</th>\n      <td>...</td>\n      <td>...</td>\n      <td>...</td>\n      <td>...</td>\n      <td>...</td>\n      <td>...</td>\n      <td>...</td>\n      <td>...</td>\n      <td>...</td>\n      <td>...</td>\n      <td>...</td>\n      <td>...</td>\n      <td>...</td>\n      <td>...</td>\n      <td>...</td>\n      <td>...</td>\n      <td>...</td>\n      <td>...</td>\n      <td>...</td>\n      <td>...</td>\n      <td>...</td>\n    </tr>\n    <tr>\n      <th>9310</th>\n      <td>NaN</td>\n      <td>NaN</td>\n      <td>20257039</td>\n      <td>https://earthquake.usgs.gov/fdsnws/event/1/que...</td>\n      <td>NaN</td>\n      <td>NaN</td>\n      <td>NaN</td>\n      <td>,ak20257039,</td>\n      <td>1.1</td>\n      <td>ml</td>\n      <td>...</td>\n      <td>,ak,</td>\n      <td>automatic</td>\n      <td>1537233698073</td>\n      <td>M 1.1 - 59km NNE of Sutton-Alpine, Alaska</td>\n      <td>0</td>\n      <td>earthquake</td>\n      <td>,geoserve,origin,</td>\n      <td>-540.0</td>\n      <td>1537234527258</td>\n      <td>https://earthquake.usgs.gov/earthquakes/eventp...</td>\n    </tr>\n    <tr>\n      <th>9312</th>\n      <td>NaN</td>\n      <td>NaN</td>\n      <td>20257031</td>\n      <td>https://earthquake.usgs.gov/fdsnws/event/1/que...</td>\n      <td>NaN</td>\n      <td>NaN</td>\n      <td>NaN</td>\n      <td>,ak20257031,</td>\n      <td>2.5</td>\n      <td>ml</td>\n      <td>...</td>\n      <td>,ak,</td>\n      <td>automatic</td>\n      <td>1537233039227</td>\n      <td>M 2.5 - 134km NW of Arctic Village, Alaska</td>\n      <td>0</td>\n      <td>earthquake</td>\n      <td>,geoserve,origin,</td>\n      <td>-540.0</td>\n      <td>1537233354029</td>\n      <td>https://earthquake.usgs.gov/earthquakes/eventp...</td>\n    </tr>\n    <tr>\n      <th>9313</th>\n      <td>NaN</td>\n      <td>NaN</td>\n      <td>20257028</td>\n      <td>https://earthquake.usgs.gov/fdsnws/event/1/que...</td>\n      <td>NaN</td>\n      <td>NaN</td>\n      <td>NaN</td>\n      <td>,ak20257028,</td>\n      <td>1.5</td>\n      <td>ml</td>\n      <td>...</td>\n      <td>,ak,</td>\n      <td>automatic</td>\n      <td>1537232989781</td>\n      <td>M 1.5 - 88km ESE of Whittier, Alaska</td>\n      <td>0</td>\n      <td>earthquake</td>\n      <td>,geoserve,origin,</td>\n      <td>-540.0</td>\n      <td>1537233353793</td>\n      <td>https://earthquake.usgs.gov/earthquakes/eventp...</td>\n    </tr>\n    <tr>\n      <th>9314</th>\n      <td>NaN</td>\n      <td>NaN</td>\n      <td>20257026</td>\n      <td>https://earthquake.usgs.gov/fdsnws/event/1/que...</td>\n      <td>NaN</td>\n      <td>NaN</td>\n      <td>NaN</td>\n      <td>,ak20257026,</td>\n      <td>2.0</td>\n      <td>ml</td>\n      <td>...</td>\n      <td>,ak,</td>\n      <td>automatic</td>\n      <td>1537232951978</td>\n      <td>M 2.0 - 132km WNW of Arctic Village, Alaska</td>\n      <td>0</td>\n      <td>earthquake</td>\n      <td>,geoserve,origin,</td>\n      <td>-540.0</td>\n      <td>1537233252966</td>\n      <td>https://earthquake.usgs.gov/earthquakes/eventp...</td>\n    </tr>\n    <tr>\n      <th>9318</th>\n      <td>NaN</td>\n      <td>NaN</td>\n      <td>20257023</td>\n      <td>https://earthquake.usgs.gov/fdsnws/event/1/que...</td>\n      <td>NaN</td>\n      <td>NaN</td>\n      <td>NaN</td>\n      <td>,ak20257023,</td>\n      <td>1.1</td>\n      <td>ml</td>\n      <td>...</td>\n      <td>,ak,</td>\n      <td>reviewed</td>\n      <td>1537232056478</td>\n      <td>M 1.1 - 11km E of Healy, Alaska</td>\n      <td>0</td>\n      <td>earthquake</td>\n      <td>,geoserve,origin,phase-data,</td>\n      <td>-540.0</td>\n      <td>1537294676737</td>\n      <td>https://earthquake.usgs.gov/earthquakes/eventp...</td>\n    </tr>\n  </tbody>\n</table>\n<p>3665 rows × 26 columns</p>\n</div>"
     },
     "execution_count": 102,
     "metadata": {},
     "output_type": "execute_result"
    }
   ],
   "source": [
    "alaska = data[data['title'].str.endswith('Alaska')]\n",
    "print(alaska.shape)\n",
    "alaska"
   ],
   "metadata": {
    "collapsed": false,
    "pycharm": {
     "name": "#%%\n"
    }
   }
  },
  {
   "cell_type": "markdown",
   "source": [
    "# Earthquakes in Alaska mean"
   ],
   "metadata": {
    "collapsed": false
   }
  },
  {
   "cell_type": "code",
   "execution_count": 103,
   "outputs": [
    {
     "data": {
      "text/plain": "1.4655525238744929"
     },
     "execution_count": 103,
     "metadata": {},
     "output_type": "execute_result"
    }
   ],
   "source": [
    "alaska['mag'].mean()"
   ],
   "metadata": {
    "collapsed": false,
    "pycharm": {
     "name": "#%%\n"
    }
   }
  },
  {
   "cell_type": "markdown",
   "source": [
    "# Data Preparation to calculate distance of earthquakes in Alaska that is smaller than 100km"
   ],
   "metadata": {
    "collapsed": false,
    "pycharm": {
     "name": "#%% md\n"
    }
   }
  },
  {
   "cell_type": "code",
   "execution_count": 104,
   "outputs": [
    {
     "data": {
      "text/plain": "18      57km\n21      64km\n27      43km\n28      86km\n31      79km\n        ... \n9305    49km\n9308    70km\n9310    59km\n9313    88km\n9318    11km\nName: 3, Length: 2777, dtype: object"
     },
     "execution_count": 104,
     "metadata": {},
     "output_type": "execute_result"
    }
   ],
   "source": [
    "title = alaska['title'].str.split(\" \", expand = True)\n",
    "km = title[3]\n",
    "distance = km[km.str.len() < 5]\n",
    "distance"
   ],
   "metadata": {
    "collapsed": false,
    "pycharm": {
     "name": "#%%\n"
    }
   }
  },
  {
   "cell_type": "markdown",
   "source": [
    "# Distance earthquake in Alaska that distance is smaller than 100km"
   ],
   "metadata": {
    "collapsed": false
   }
  },
  {
   "cell_type": "code",
   "execution_count": 105,
   "outputs": [
    {
     "data": {
      "text/plain": "     alert  cdi      code                                             detail  \\\n18     NaN  NaN  20280424  https://earthquake.usgs.gov/fdsnws/event/1/que...   \n21     NaN  NaN  20280421  https://earthquake.usgs.gov/fdsnws/event/1/que...   \n27     NaN  NaN  20280412  https://earthquake.usgs.gov/fdsnws/event/1/que...   \n28     NaN  NaN  20280407  https://earthquake.usgs.gov/fdsnws/event/1/que...   \n31     NaN  NaN  20280403  https://earthquake.usgs.gov/fdsnws/event/1/que...   \n...    ...  ...       ...                                                ...   \n9305   NaN  NaN  61780021  https://earthquake.usgs.gov/fdsnws/event/1/que...   \n9308   NaN  NaN  20257044  https://earthquake.usgs.gov/fdsnws/event/1/que...   \n9310   NaN  NaN  20257039  https://earthquake.usgs.gov/fdsnws/event/1/que...   \n9313   NaN  NaN  20257028  https://earthquake.usgs.gov/fdsnws/event/1/que...   \n9318   NaN  NaN  20257023  https://earthquake.usgs.gov/fdsnws/event/1/que...   \n\n         dmin  felt    gap           ids   mag magType  ...  sources  \\\n18        NaN   NaN    NaN  ,ak20280424,  2.00      ml  ...     ,ak,   \n21        NaN   NaN    NaN  ,ak20280421,  1.70      ml  ...     ,ak,   \n27        NaN   NaN    NaN  ,ak20280412,  1.10      ml  ...     ,ak,   \n28        NaN   NaN    NaN  ,ak20280407,  1.80      ml  ...     ,ak,   \n31        NaN   NaN    NaN  ,ak20280403,  2.30      ml  ...     ,ak,   \n...       ...   ...    ...           ...   ...     ...  ...      ...   \n9305  0.04097   NaN  299.0  ,av61780021, -0.27      ml  ...     ,av,   \n9308      NaN   NaN    NaN  ,ak20257044,  2.10      ml  ...     ,ak,   \n9310      NaN   NaN    NaN  ,ak20257039,  1.10      ml  ...     ,ak,   \n9313      NaN   NaN    NaN  ,ak20257028,  1.50      ml  ...     ,ak,   \n9318      NaN   NaN    NaN  ,ak20257023,  1.10      ml  ...     ,ak,   \n\n         status           time                                      title  \\\n18    automatic  1539468687232       M 2.0 - 57km SSW of Kaktovik, Alaska   \n21    automatic  1539467905609         M 1.7 - 64km SSW of Salcha, Alaska   \n27    automatic  1539465520462  M 1.1 - 43km S of Redoubt Volcano, Alaska   \n28    automatic  1539464607849    M 1.8 - 86km SW of Anchor Point, Alaska   \n31    automatic  1539462724148        M 2.3 - 79km SW of Kaktovik, Alaska   \n...         ...            ...                                        ...   \n9305   reviewed  1537235444640  M -0.3 - 49km W of Tanaga Volcano, Alaska   \n9308   reviewed  1537234649752        M 2.1 - 70km NW of Nikolski, Alaska   \n9310  automatic  1537233698073  M 1.1 - 59km NNE of Sutton-Alpine, Alaska   \n9313  automatic  1537232989781       M 1.5 - 88km ESE of Whittier, Alaska   \n9318   reviewed  1537232056478            M 1.1 - 11km E of Healy, Alaska   \n\n      tsunami        type                         types     tz        updated  \\\n18          0  earthquake             ,geoserve,origin, -540.0  1539469037574   \n21          0  earthquake             ,geoserve,origin, -540.0  1539468224954   \n27          0  earthquake             ,geoserve,origin, -540.0  1539465930832   \n28          0  earthquake             ,geoserve,origin, -540.0  1539464959401   \n31          0  earthquake             ,geoserve,origin, -540.0  1539463033137   \n...       ...         ...                           ...    ...            ...   \n9305        0  earthquake  ,geoserve,origin,phase-data, -600.0  1537390716340   \n9308        0  earthquake  ,geoserve,origin,phase-data, -660.0  1537295159684   \n9310        0  earthquake             ,geoserve,origin, -540.0  1537234527258   \n9313        0  earthquake             ,geoserve,origin, -540.0  1537233353793   \n9318        0  earthquake  ,geoserve,origin,phase-data, -540.0  1537294676737   \n\n                                                    url  \n18    https://earthquake.usgs.gov/earthquakes/eventp...  \n21    https://earthquake.usgs.gov/earthquakes/eventp...  \n27    https://earthquake.usgs.gov/earthquakes/eventp...  \n28    https://earthquake.usgs.gov/earthquakes/eventp...  \n31    https://earthquake.usgs.gov/earthquakes/eventp...  \n...                                                 ...  \n9305  https://earthquake.usgs.gov/earthquakes/eventp...  \n9308  https://earthquake.usgs.gov/earthquakes/eventp...  \n9310  https://earthquake.usgs.gov/earthquakes/eventp...  \n9313  https://earthquake.usgs.gov/earthquakes/eventp...  \n9318  https://earthquake.usgs.gov/earthquakes/eventp...  \n\n[2777 rows x 26 columns]",
      "text/html": "<div>\n<style scoped>\n    .dataframe tbody tr th:only-of-type {\n        vertical-align: middle;\n    }\n\n    .dataframe tbody tr th {\n        vertical-align: top;\n    }\n\n    .dataframe thead th {\n        text-align: right;\n    }\n</style>\n<table border=\"1\" class=\"dataframe\">\n  <thead>\n    <tr style=\"text-align: right;\">\n      <th></th>\n      <th>alert</th>\n      <th>cdi</th>\n      <th>code</th>\n      <th>detail</th>\n      <th>dmin</th>\n      <th>felt</th>\n      <th>gap</th>\n      <th>ids</th>\n      <th>mag</th>\n      <th>magType</th>\n      <th>...</th>\n      <th>sources</th>\n      <th>status</th>\n      <th>time</th>\n      <th>title</th>\n      <th>tsunami</th>\n      <th>type</th>\n      <th>types</th>\n      <th>tz</th>\n      <th>updated</th>\n      <th>url</th>\n    </tr>\n  </thead>\n  <tbody>\n    <tr>\n      <th>18</th>\n      <td>NaN</td>\n      <td>NaN</td>\n      <td>20280424</td>\n      <td>https://earthquake.usgs.gov/fdsnws/event/1/que...</td>\n      <td>NaN</td>\n      <td>NaN</td>\n      <td>NaN</td>\n      <td>,ak20280424,</td>\n      <td>2.00</td>\n      <td>ml</td>\n      <td>...</td>\n      <td>,ak,</td>\n      <td>automatic</td>\n      <td>1539468687232</td>\n      <td>M 2.0 - 57km SSW of Kaktovik, Alaska</td>\n      <td>0</td>\n      <td>earthquake</td>\n      <td>,geoserve,origin,</td>\n      <td>-540.0</td>\n      <td>1539469037574</td>\n      <td>https://earthquake.usgs.gov/earthquakes/eventp...</td>\n    </tr>\n    <tr>\n      <th>21</th>\n      <td>NaN</td>\n      <td>NaN</td>\n      <td>20280421</td>\n      <td>https://earthquake.usgs.gov/fdsnws/event/1/que...</td>\n      <td>NaN</td>\n      <td>NaN</td>\n      <td>NaN</td>\n      <td>,ak20280421,</td>\n      <td>1.70</td>\n      <td>ml</td>\n      <td>...</td>\n      <td>,ak,</td>\n      <td>automatic</td>\n      <td>1539467905609</td>\n      <td>M 1.7 - 64km SSW of Salcha, Alaska</td>\n      <td>0</td>\n      <td>earthquake</td>\n      <td>,geoserve,origin,</td>\n      <td>-540.0</td>\n      <td>1539468224954</td>\n      <td>https://earthquake.usgs.gov/earthquakes/eventp...</td>\n    </tr>\n    <tr>\n      <th>27</th>\n      <td>NaN</td>\n      <td>NaN</td>\n      <td>20280412</td>\n      <td>https://earthquake.usgs.gov/fdsnws/event/1/que...</td>\n      <td>NaN</td>\n      <td>NaN</td>\n      <td>NaN</td>\n      <td>,ak20280412,</td>\n      <td>1.10</td>\n      <td>ml</td>\n      <td>...</td>\n      <td>,ak,</td>\n      <td>automatic</td>\n      <td>1539465520462</td>\n      <td>M 1.1 - 43km S of Redoubt Volcano, Alaska</td>\n      <td>0</td>\n      <td>earthquake</td>\n      <td>,geoserve,origin,</td>\n      <td>-540.0</td>\n      <td>1539465930832</td>\n      <td>https://earthquake.usgs.gov/earthquakes/eventp...</td>\n    </tr>\n    <tr>\n      <th>28</th>\n      <td>NaN</td>\n      <td>NaN</td>\n      <td>20280407</td>\n      <td>https://earthquake.usgs.gov/fdsnws/event/1/que...</td>\n      <td>NaN</td>\n      <td>NaN</td>\n      <td>NaN</td>\n      <td>,ak20280407,</td>\n      <td>1.80</td>\n      <td>ml</td>\n      <td>...</td>\n      <td>,ak,</td>\n      <td>automatic</td>\n      <td>1539464607849</td>\n      <td>M 1.8 - 86km SW of Anchor Point, Alaska</td>\n      <td>0</td>\n      <td>earthquake</td>\n      <td>,geoserve,origin,</td>\n      <td>-540.0</td>\n      <td>1539464959401</td>\n      <td>https://earthquake.usgs.gov/earthquakes/eventp...</td>\n    </tr>\n    <tr>\n      <th>31</th>\n      <td>NaN</td>\n      <td>NaN</td>\n      <td>20280403</td>\n      <td>https://earthquake.usgs.gov/fdsnws/event/1/que...</td>\n      <td>NaN</td>\n      <td>NaN</td>\n      <td>NaN</td>\n      <td>,ak20280403,</td>\n      <td>2.30</td>\n      <td>ml</td>\n      <td>...</td>\n      <td>,ak,</td>\n      <td>automatic</td>\n      <td>1539462724148</td>\n      <td>M 2.3 - 79km SW of Kaktovik, Alaska</td>\n      <td>0</td>\n      <td>earthquake</td>\n      <td>,geoserve,origin,</td>\n      <td>-540.0</td>\n      <td>1539463033137</td>\n      <td>https://earthquake.usgs.gov/earthquakes/eventp...</td>\n    </tr>\n    <tr>\n      <th>...</th>\n      <td>...</td>\n      <td>...</td>\n      <td>...</td>\n      <td>...</td>\n      <td>...</td>\n      <td>...</td>\n      <td>...</td>\n      <td>...</td>\n      <td>...</td>\n      <td>...</td>\n      <td>...</td>\n      <td>...</td>\n      <td>...</td>\n      <td>...</td>\n      <td>...</td>\n      <td>...</td>\n      <td>...</td>\n      <td>...</td>\n      <td>...</td>\n      <td>...</td>\n      <td>...</td>\n    </tr>\n    <tr>\n      <th>9305</th>\n      <td>NaN</td>\n      <td>NaN</td>\n      <td>61780021</td>\n      <td>https://earthquake.usgs.gov/fdsnws/event/1/que...</td>\n      <td>0.04097</td>\n      <td>NaN</td>\n      <td>299.0</td>\n      <td>,av61780021,</td>\n      <td>-0.27</td>\n      <td>ml</td>\n      <td>...</td>\n      <td>,av,</td>\n      <td>reviewed</td>\n      <td>1537235444640</td>\n      <td>M -0.3 - 49km W of Tanaga Volcano, Alaska</td>\n      <td>0</td>\n      <td>earthquake</td>\n      <td>,geoserve,origin,phase-data,</td>\n      <td>-600.0</td>\n      <td>1537390716340</td>\n      <td>https://earthquake.usgs.gov/earthquakes/eventp...</td>\n    </tr>\n    <tr>\n      <th>9308</th>\n      <td>NaN</td>\n      <td>NaN</td>\n      <td>20257044</td>\n      <td>https://earthquake.usgs.gov/fdsnws/event/1/que...</td>\n      <td>NaN</td>\n      <td>NaN</td>\n      <td>NaN</td>\n      <td>,ak20257044,</td>\n      <td>2.10</td>\n      <td>ml</td>\n      <td>...</td>\n      <td>,ak,</td>\n      <td>reviewed</td>\n      <td>1537234649752</td>\n      <td>M 2.1 - 70km NW of Nikolski, Alaska</td>\n      <td>0</td>\n      <td>earthquake</td>\n      <td>,geoserve,origin,phase-data,</td>\n      <td>-660.0</td>\n      <td>1537295159684</td>\n      <td>https://earthquake.usgs.gov/earthquakes/eventp...</td>\n    </tr>\n    <tr>\n      <th>9310</th>\n      <td>NaN</td>\n      <td>NaN</td>\n      <td>20257039</td>\n      <td>https://earthquake.usgs.gov/fdsnws/event/1/que...</td>\n      <td>NaN</td>\n      <td>NaN</td>\n      <td>NaN</td>\n      <td>,ak20257039,</td>\n      <td>1.10</td>\n      <td>ml</td>\n      <td>...</td>\n      <td>,ak,</td>\n      <td>automatic</td>\n      <td>1537233698073</td>\n      <td>M 1.1 - 59km NNE of Sutton-Alpine, Alaska</td>\n      <td>0</td>\n      <td>earthquake</td>\n      <td>,geoserve,origin,</td>\n      <td>-540.0</td>\n      <td>1537234527258</td>\n      <td>https://earthquake.usgs.gov/earthquakes/eventp...</td>\n    </tr>\n    <tr>\n      <th>9313</th>\n      <td>NaN</td>\n      <td>NaN</td>\n      <td>20257028</td>\n      <td>https://earthquake.usgs.gov/fdsnws/event/1/que...</td>\n      <td>NaN</td>\n      <td>NaN</td>\n      <td>NaN</td>\n      <td>,ak20257028,</td>\n      <td>1.50</td>\n      <td>ml</td>\n      <td>...</td>\n      <td>,ak,</td>\n      <td>automatic</td>\n      <td>1537232989781</td>\n      <td>M 1.5 - 88km ESE of Whittier, Alaska</td>\n      <td>0</td>\n      <td>earthquake</td>\n      <td>,geoserve,origin,</td>\n      <td>-540.0</td>\n      <td>1537233353793</td>\n      <td>https://earthquake.usgs.gov/earthquakes/eventp...</td>\n    </tr>\n    <tr>\n      <th>9318</th>\n      <td>NaN</td>\n      <td>NaN</td>\n      <td>20257023</td>\n      <td>https://earthquake.usgs.gov/fdsnws/event/1/que...</td>\n      <td>NaN</td>\n      <td>NaN</td>\n      <td>NaN</td>\n      <td>,ak20257023,</td>\n      <td>1.10</td>\n      <td>ml</td>\n      <td>...</td>\n      <td>,ak,</td>\n      <td>reviewed</td>\n      <td>1537232056478</td>\n      <td>M 1.1 - 11km E of Healy, Alaska</td>\n      <td>0</td>\n      <td>earthquake</td>\n      <td>,geoserve,origin,phase-data,</td>\n      <td>-540.0</td>\n      <td>1537294676737</td>\n      <td>https://earthquake.usgs.gov/earthquakes/eventp...</td>\n    </tr>\n  </tbody>\n</table>\n<p>2777 rows × 26 columns</p>\n</div>"
     },
     "execution_count": 105,
     "metadata": {},
     "output_type": "execute_result"
    }
   ],
   "source": [
    "data.iloc[distance.index]"
   ],
   "metadata": {
    "collapsed": false,
    "pycharm": {
     "name": "#%%\n"
    }
   }
  },
  {
   "cell_type": "markdown",
   "source": [
    "# Convert earthquakes in Unix time to human time"
   ],
   "metadata": {
    "collapsed": false,
    "pycharm": {
     "name": "#%% md\n"
    }
   }
  },
  {
   "cell_type": "code",
   "execution_count": 107,
   "outputs": [
    {
     "data": {
      "text/plain": "<pandas.core.groupby.generic.SeriesGroupBy object at 0x0C069B98>"
     },
     "execution_count": 107,
     "metadata": {},
     "output_type": "execute_result"
    }
   ],
   "source": [
    "time = data['time']\n",
    "time = pd.to_datetime(time, unit='ms')\n",
    "time = time.dt.quarter\n",
    "time\n"
   ],
   "metadata": {
    "collapsed": false,
    "pycharm": {
     "name": "#%%\n"
    }
   }
  },
  {
   "cell_type": "code",
   "execution_count": 106,
   "outputs": [],
   "source": [],
   "metadata": {
    "collapsed": false,
    "pycharm": {
     "name": "#%%\n"
    }
   }
  },
  {
   "cell_type": "code",
   "execution_count": 106,
   "outputs": [],
   "source": [],
   "metadata": {
    "collapsed": false,
    "pycharm": {
     "name": "#%%\n"
    }
   }
  }
 ],
 "metadata": {
  "kernelspec": {
   "name": "pycharm-eaa1fcfe",
   "language": "python",
   "display_name": "PyCharm (Data-preparation)"
  },
  "language_info": {
   "codemirror_mode": {
    "name": "ipython",
    "version": 2
   },
   "file_extension": ".py",
   "mimetype": "text/x-python",
   "name": "python",
   "nbconvert_exporter": "python",
   "pygments_lexer": "ipython2",
   "version": "2.7.6"
  }
 },
 "nbformat": 4,
 "nbformat_minor": 0
}