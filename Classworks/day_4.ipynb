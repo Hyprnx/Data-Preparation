{
 "cells": [
  {
   "cell_type": "markdown",
   "source": [
    "# Import libraries"
   ],
   "metadata": {
    "collapsed": false
   }
  },
  {
   "cell_type": "code",
   "execution_count": 273,
   "metadata": {
    "collapsed": true
   },
   "outputs": [],
   "source": [
    "import pandas as pd"
   ]
  },
  {
   "cell_type": "markdown",
   "source": [
    "# Ex.1"
   ],
   "metadata": {
    "collapsed": false
   }
  },
  {
   "cell_type": "markdown",
   "source": [
    "a) Read in the aapl.csv, amzn.csv, fb.csv, goog.csv, and nflx.csv files."
   ],
   "metadata": {
    "collapsed": false,
    "pycharm": {
     "name": "#%% md\n"
    }
   }
  },
  {
   "cell_type": "code",
   "execution_count": 274,
   "outputs": [
    {
     "data": {
      "text/plain": "           date        high         low        open       close    volume\n0    2018-01-02  181.580002  177.550003  177.679993  181.419998  18151900\n1    2018-01-03  184.779999  181.330002  181.880005  184.669998  16886600\n2    2018-01-04  186.210007  184.100006  184.899994  184.330002  13880900\n3    2018-01-05  186.899994  184.929993  185.589996  186.850006  13574500\n4    2018-01-08  188.899994  186.330002  187.199997  188.279999  17994700\n..          ...         ...         ...         ...         ...       ...\n246  2018-12-24  129.740005  123.019997  123.099998  124.059998  22066000\n247  2018-12-26  134.240005  125.889999  126.000000  134.179993  39723400\n248  2018-12-27  134.990005  129.669998  132.440002  134.520004  31202500\n249  2018-12-28  135.919998  132.199997  135.339996  133.199997  22627600\n250  2018-12-31  134.639999  129.949997  134.449997  131.089996  24625300\n\n[251 rows x 6 columns]",
      "text/html": "<div>\n<style scoped>\n    .dataframe tbody tr th:only-of-type {\n        vertical-align: middle;\n    }\n\n    .dataframe tbody tr th {\n        vertical-align: top;\n    }\n\n    .dataframe thead th {\n        text-align: right;\n    }\n</style>\n<table border=\"1\" class=\"dataframe\">\n  <thead>\n    <tr style=\"text-align: right;\">\n      <th></th>\n      <th>date</th>\n      <th>high</th>\n      <th>low</th>\n      <th>open</th>\n      <th>close</th>\n      <th>volume</th>\n    </tr>\n  </thead>\n  <tbody>\n    <tr>\n      <th>0</th>\n      <td>2018-01-02</td>\n      <td>181.580002</td>\n      <td>177.550003</td>\n      <td>177.679993</td>\n      <td>181.419998</td>\n      <td>18151900</td>\n    </tr>\n    <tr>\n      <th>1</th>\n      <td>2018-01-03</td>\n      <td>184.779999</td>\n      <td>181.330002</td>\n      <td>181.880005</td>\n      <td>184.669998</td>\n      <td>16886600</td>\n    </tr>\n    <tr>\n      <th>2</th>\n      <td>2018-01-04</td>\n      <td>186.210007</td>\n      <td>184.100006</td>\n      <td>184.899994</td>\n      <td>184.330002</td>\n      <td>13880900</td>\n    </tr>\n    <tr>\n      <th>3</th>\n      <td>2018-01-05</td>\n      <td>186.899994</td>\n      <td>184.929993</td>\n      <td>185.589996</td>\n      <td>186.850006</td>\n      <td>13574500</td>\n    </tr>\n    <tr>\n      <th>4</th>\n      <td>2018-01-08</td>\n      <td>188.899994</td>\n      <td>186.330002</td>\n      <td>187.199997</td>\n      <td>188.279999</td>\n      <td>17994700</td>\n    </tr>\n    <tr>\n      <th>...</th>\n      <td>...</td>\n      <td>...</td>\n      <td>...</td>\n      <td>...</td>\n      <td>...</td>\n      <td>...</td>\n    </tr>\n    <tr>\n      <th>246</th>\n      <td>2018-12-24</td>\n      <td>129.740005</td>\n      <td>123.019997</td>\n      <td>123.099998</td>\n      <td>124.059998</td>\n      <td>22066000</td>\n    </tr>\n    <tr>\n      <th>247</th>\n      <td>2018-12-26</td>\n      <td>134.240005</td>\n      <td>125.889999</td>\n      <td>126.000000</td>\n      <td>134.179993</td>\n      <td>39723400</td>\n    </tr>\n    <tr>\n      <th>248</th>\n      <td>2018-12-27</td>\n      <td>134.990005</td>\n      <td>129.669998</td>\n      <td>132.440002</td>\n      <td>134.520004</td>\n      <td>31202500</td>\n    </tr>\n    <tr>\n      <th>249</th>\n      <td>2018-12-28</td>\n      <td>135.919998</td>\n      <td>132.199997</td>\n      <td>135.339996</td>\n      <td>133.199997</td>\n      <td>22627600</td>\n    </tr>\n    <tr>\n      <th>250</th>\n      <td>2018-12-31</td>\n      <td>134.639999</td>\n      <td>129.949997</td>\n      <td>134.449997</td>\n      <td>131.089996</td>\n      <td>24625300</td>\n    </tr>\n  </tbody>\n</table>\n<p>251 rows × 6 columns</p>\n</div>"
     },
     "execution_count": 274,
     "metadata": {},
     "output_type": "execute_result"
    }
   ],
   "source": [
    "fb = pd.read_csv('C:/Users/toduc/OneDrive - National Economics University/Desktop/NEU/Machine Learning/Visualization/Data/fb.csv', sep=',')\n",
    "fb"
   ],
   "metadata": {
    "collapsed": false,
    "pycharm": {
     "name": "#%%\n"
    }
   }
  },
  {
   "cell_type": "code",
   "execution_count": 275,
   "outputs": [
    {
     "data": {
      "text/plain": "           date       high        low       open      close       volume\n0    2018-01-02  43.075001  42.314999  42.540001  43.064999  102223600.0\n1    2018-01-03  43.637501  42.990002  43.132500  43.057499  118071600.0\n2    2018-01-04  43.367500  43.020000  43.134998  43.257500   89738400.0\n3    2018-01-05  43.842499  43.262501  43.360001  43.750000   94640000.0\n4    2018-01-08  43.902500  43.482498  43.587502  43.587502   82271200.0\n..          ...        ...        ...        ...        ...          ...\n246  2018-12-24  37.887501  36.647499  37.037498  36.707500  148676800.0\n247  2018-12-26  39.307499  36.680000  37.075001  39.292500  234330000.0\n248  2018-12-27  39.192501  37.517502  38.959999  39.037498  212468400.0\n249  2018-12-28  39.630001  38.637501  39.375000  39.057499  169165600.0\n250  2018-12-31  39.840000  39.119999  39.632500  39.435001  140014000.0\n\n[251 rows x 6 columns]",
      "text/html": "<div>\n<style scoped>\n    .dataframe tbody tr th:only-of-type {\n        vertical-align: middle;\n    }\n\n    .dataframe tbody tr th {\n        vertical-align: top;\n    }\n\n    .dataframe thead th {\n        text-align: right;\n    }\n</style>\n<table border=\"1\" class=\"dataframe\">\n  <thead>\n    <tr style=\"text-align: right;\">\n      <th></th>\n      <th>date</th>\n      <th>high</th>\n      <th>low</th>\n      <th>open</th>\n      <th>close</th>\n      <th>volume</th>\n    </tr>\n  </thead>\n  <tbody>\n    <tr>\n      <th>0</th>\n      <td>2018-01-02</td>\n      <td>43.075001</td>\n      <td>42.314999</td>\n      <td>42.540001</td>\n      <td>43.064999</td>\n      <td>102223600.0</td>\n    </tr>\n    <tr>\n      <th>1</th>\n      <td>2018-01-03</td>\n      <td>43.637501</td>\n      <td>42.990002</td>\n      <td>43.132500</td>\n      <td>43.057499</td>\n      <td>118071600.0</td>\n    </tr>\n    <tr>\n      <th>2</th>\n      <td>2018-01-04</td>\n      <td>43.367500</td>\n      <td>43.020000</td>\n      <td>43.134998</td>\n      <td>43.257500</td>\n      <td>89738400.0</td>\n    </tr>\n    <tr>\n      <th>3</th>\n      <td>2018-01-05</td>\n      <td>43.842499</td>\n      <td>43.262501</td>\n      <td>43.360001</td>\n      <td>43.750000</td>\n      <td>94640000.0</td>\n    </tr>\n    <tr>\n      <th>4</th>\n      <td>2018-01-08</td>\n      <td>43.902500</td>\n      <td>43.482498</td>\n      <td>43.587502</td>\n      <td>43.587502</td>\n      <td>82271200.0</td>\n    </tr>\n    <tr>\n      <th>...</th>\n      <td>...</td>\n      <td>...</td>\n      <td>...</td>\n      <td>...</td>\n      <td>...</td>\n      <td>...</td>\n    </tr>\n    <tr>\n      <th>246</th>\n      <td>2018-12-24</td>\n      <td>37.887501</td>\n      <td>36.647499</td>\n      <td>37.037498</td>\n      <td>36.707500</td>\n      <td>148676800.0</td>\n    </tr>\n    <tr>\n      <th>247</th>\n      <td>2018-12-26</td>\n      <td>39.307499</td>\n      <td>36.680000</td>\n      <td>37.075001</td>\n      <td>39.292500</td>\n      <td>234330000.0</td>\n    </tr>\n    <tr>\n      <th>248</th>\n      <td>2018-12-27</td>\n      <td>39.192501</td>\n      <td>37.517502</td>\n      <td>38.959999</td>\n      <td>39.037498</td>\n      <td>212468400.0</td>\n    </tr>\n    <tr>\n      <th>249</th>\n      <td>2018-12-28</td>\n      <td>39.630001</td>\n      <td>38.637501</td>\n      <td>39.375000</td>\n      <td>39.057499</td>\n      <td>169165600.0</td>\n    </tr>\n    <tr>\n      <th>250</th>\n      <td>2018-12-31</td>\n      <td>39.840000</td>\n      <td>39.119999</td>\n      <td>39.632500</td>\n      <td>39.435001</td>\n      <td>140014000.0</td>\n    </tr>\n  </tbody>\n</table>\n<p>251 rows × 6 columns</p>\n</div>"
     },
     "execution_count": 275,
     "metadata": {},
     "output_type": "execute_result"
    }
   ],
   "source": [
    "aapl = pd.read_csv('C:/Users/toduc/OneDrive - National Economics University/Desktop/NEU/Machine Learning/Visualization/Data/aapl.csv', sep=',')\n",
    "aapl"
   ],
   "metadata": {
    "collapsed": false,
    "pycharm": {
     "name": "#%%\n"
    }
   }
  },
  {
   "cell_type": "code",
   "execution_count": 276,
   "outputs": [
    {
     "data": {
      "text/plain": "           date         high          low         open        close    volume\n0    2018-01-02  1190.000000  1170.510010  1172.000000  1189.010010   2694500\n1    2018-01-03  1205.489990  1188.300049  1188.300049  1204.199951   3108800\n2    2018-01-04  1215.869995  1204.660034  1205.000000  1209.589966   3022100\n3    2018-01-05  1229.140015  1210.000000  1217.510010  1229.140015   3544700\n4    2018-01-08  1253.079956  1232.030029  1236.000000  1246.869995   4279500\n..          ...          ...          ...          ...          ...       ...\n246  2018-12-24  1396.030029  1307.000000  1346.000000  1343.959961   7220000\n247  2018-12-26  1473.160034  1363.010010  1368.890015  1470.900024  10411800\n248  2018-12-27  1469.000000  1390.310059  1454.199951  1461.640015   9722000\n249  2018-12-28  1513.469971  1449.000000  1473.349976  1478.020020   8829000\n250  2018-12-31  1520.760010  1487.000000  1510.800049  1501.969971   6954500\n\n[251 rows x 6 columns]",
      "text/html": "<div>\n<style scoped>\n    .dataframe tbody tr th:only-of-type {\n        vertical-align: middle;\n    }\n\n    .dataframe tbody tr th {\n        vertical-align: top;\n    }\n\n    .dataframe thead th {\n        text-align: right;\n    }\n</style>\n<table border=\"1\" class=\"dataframe\">\n  <thead>\n    <tr style=\"text-align: right;\">\n      <th></th>\n      <th>date</th>\n      <th>high</th>\n      <th>low</th>\n      <th>open</th>\n      <th>close</th>\n      <th>volume</th>\n    </tr>\n  </thead>\n  <tbody>\n    <tr>\n      <th>0</th>\n      <td>2018-01-02</td>\n      <td>1190.000000</td>\n      <td>1170.510010</td>\n      <td>1172.000000</td>\n      <td>1189.010010</td>\n      <td>2694500</td>\n    </tr>\n    <tr>\n      <th>1</th>\n      <td>2018-01-03</td>\n      <td>1205.489990</td>\n      <td>1188.300049</td>\n      <td>1188.300049</td>\n      <td>1204.199951</td>\n      <td>3108800</td>\n    </tr>\n    <tr>\n      <th>2</th>\n      <td>2018-01-04</td>\n      <td>1215.869995</td>\n      <td>1204.660034</td>\n      <td>1205.000000</td>\n      <td>1209.589966</td>\n      <td>3022100</td>\n    </tr>\n    <tr>\n      <th>3</th>\n      <td>2018-01-05</td>\n      <td>1229.140015</td>\n      <td>1210.000000</td>\n      <td>1217.510010</td>\n      <td>1229.140015</td>\n      <td>3544700</td>\n    </tr>\n    <tr>\n      <th>4</th>\n      <td>2018-01-08</td>\n      <td>1253.079956</td>\n      <td>1232.030029</td>\n      <td>1236.000000</td>\n      <td>1246.869995</td>\n      <td>4279500</td>\n    </tr>\n    <tr>\n      <th>...</th>\n      <td>...</td>\n      <td>...</td>\n      <td>...</td>\n      <td>...</td>\n      <td>...</td>\n      <td>...</td>\n    </tr>\n    <tr>\n      <th>246</th>\n      <td>2018-12-24</td>\n      <td>1396.030029</td>\n      <td>1307.000000</td>\n      <td>1346.000000</td>\n      <td>1343.959961</td>\n      <td>7220000</td>\n    </tr>\n    <tr>\n      <th>247</th>\n      <td>2018-12-26</td>\n      <td>1473.160034</td>\n      <td>1363.010010</td>\n      <td>1368.890015</td>\n      <td>1470.900024</td>\n      <td>10411800</td>\n    </tr>\n    <tr>\n      <th>248</th>\n      <td>2018-12-27</td>\n      <td>1469.000000</td>\n      <td>1390.310059</td>\n      <td>1454.199951</td>\n      <td>1461.640015</td>\n      <td>9722000</td>\n    </tr>\n    <tr>\n      <th>249</th>\n      <td>2018-12-28</td>\n      <td>1513.469971</td>\n      <td>1449.000000</td>\n      <td>1473.349976</td>\n      <td>1478.020020</td>\n      <td>8829000</td>\n    </tr>\n    <tr>\n      <th>250</th>\n      <td>2018-12-31</td>\n      <td>1520.760010</td>\n      <td>1487.000000</td>\n      <td>1510.800049</td>\n      <td>1501.969971</td>\n      <td>6954500</td>\n    </tr>\n  </tbody>\n</table>\n<p>251 rows × 6 columns</p>\n</div>"
     },
     "execution_count": 276,
     "metadata": {},
     "output_type": "execute_result"
    }
   ],
   "source": [
    "amzn = pd.read_csv('C:/Users/toduc/OneDrive - National Economics University/Desktop/NEU/Machine Learning/Visualization/Data/amzn.csv', sep=',')\n",
    "amzn"
   ],
   "metadata": {
    "collapsed": false,
    "pycharm": {
     "name": "#%%\n"
    }
   }
  },
  {
   "cell_type": "code",
   "execution_count": 277,
   "outputs": [
    {
     "data": {
      "text/plain": "           date         high          low         open        close   volume\n0    2018-01-02  1066.939941  1045.229980  1048.339966  1065.000000  1237600\n1    2018-01-03  1086.290039  1063.209961  1064.310059  1082.479980  1430200\n2    2018-01-04  1093.569946  1084.001953  1088.000000  1086.400024  1004600\n3    2018-01-05  1104.250000  1092.000000  1094.000000  1102.229980  1279100\n4    2018-01-08  1111.270020  1101.619995  1102.229980  1106.939941  1047600\n..          ...          ...          ...          ...          ...      ...\n246  2018-12-24  1003.539978   970.109985   973.900024   976.219971  1590300\n247  2018-12-26  1040.000000   983.000000   989.010010  1039.459961  2373300\n248  2018-12-27  1043.890015   997.000000  1017.150024  1043.880005  2109800\n249  2018-12-28  1055.560059  1033.099976  1049.619995  1037.079956  1414800\n250  2018-12-31  1052.699951  1023.590027  1050.959961  1035.609985  1493300\n\n[251 rows x 6 columns]",
      "text/html": "<div>\n<style scoped>\n    .dataframe tbody tr th:only-of-type {\n        vertical-align: middle;\n    }\n\n    .dataframe tbody tr th {\n        vertical-align: top;\n    }\n\n    .dataframe thead th {\n        text-align: right;\n    }\n</style>\n<table border=\"1\" class=\"dataframe\">\n  <thead>\n    <tr style=\"text-align: right;\">\n      <th></th>\n      <th>date</th>\n      <th>high</th>\n      <th>low</th>\n      <th>open</th>\n      <th>close</th>\n      <th>volume</th>\n    </tr>\n  </thead>\n  <tbody>\n    <tr>\n      <th>0</th>\n      <td>2018-01-02</td>\n      <td>1066.939941</td>\n      <td>1045.229980</td>\n      <td>1048.339966</td>\n      <td>1065.000000</td>\n      <td>1237600</td>\n    </tr>\n    <tr>\n      <th>1</th>\n      <td>2018-01-03</td>\n      <td>1086.290039</td>\n      <td>1063.209961</td>\n      <td>1064.310059</td>\n      <td>1082.479980</td>\n      <td>1430200</td>\n    </tr>\n    <tr>\n      <th>2</th>\n      <td>2018-01-04</td>\n      <td>1093.569946</td>\n      <td>1084.001953</td>\n      <td>1088.000000</td>\n      <td>1086.400024</td>\n      <td>1004600</td>\n    </tr>\n    <tr>\n      <th>3</th>\n      <td>2018-01-05</td>\n      <td>1104.250000</td>\n      <td>1092.000000</td>\n      <td>1094.000000</td>\n      <td>1102.229980</td>\n      <td>1279100</td>\n    </tr>\n    <tr>\n      <th>4</th>\n      <td>2018-01-08</td>\n      <td>1111.270020</td>\n      <td>1101.619995</td>\n      <td>1102.229980</td>\n      <td>1106.939941</td>\n      <td>1047600</td>\n    </tr>\n    <tr>\n      <th>...</th>\n      <td>...</td>\n      <td>...</td>\n      <td>...</td>\n      <td>...</td>\n      <td>...</td>\n      <td>...</td>\n    </tr>\n    <tr>\n      <th>246</th>\n      <td>2018-12-24</td>\n      <td>1003.539978</td>\n      <td>970.109985</td>\n      <td>973.900024</td>\n      <td>976.219971</td>\n      <td>1590300</td>\n    </tr>\n    <tr>\n      <th>247</th>\n      <td>2018-12-26</td>\n      <td>1040.000000</td>\n      <td>983.000000</td>\n      <td>989.010010</td>\n      <td>1039.459961</td>\n      <td>2373300</td>\n    </tr>\n    <tr>\n      <th>248</th>\n      <td>2018-12-27</td>\n      <td>1043.890015</td>\n      <td>997.000000</td>\n      <td>1017.150024</td>\n      <td>1043.880005</td>\n      <td>2109800</td>\n    </tr>\n    <tr>\n      <th>249</th>\n      <td>2018-12-28</td>\n      <td>1055.560059</td>\n      <td>1033.099976</td>\n      <td>1049.619995</td>\n      <td>1037.079956</td>\n      <td>1414800</td>\n    </tr>\n    <tr>\n      <th>250</th>\n      <td>2018-12-31</td>\n      <td>1052.699951</td>\n      <td>1023.590027</td>\n      <td>1050.959961</td>\n      <td>1035.609985</td>\n      <td>1493300</td>\n    </tr>\n  </tbody>\n</table>\n<p>251 rows × 6 columns</p>\n</div>"
     },
     "execution_count": 277,
     "metadata": {},
     "output_type": "execute_result"
    }
   ],
   "source": [
    "goog = pd.read_csv('C:/Users/toduc/OneDrive - National Economics University/Desktop/NEU/Machine Learning/Visualization/Data/goog.csv', sep=',')\n",
    "goog"
   ],
   "metadata": {
    "collapsed": false,
    "pycharm": {
     "name": "#%%\n"
    }
   }
  },
  {
   "cell_type": "code",
   "execution_count": 278,
   "outputs": [
    {
     "data": {
      "text/plain": "           date        high         low        open       close    volume\n0    2018-01-02  201.649994  195.419998  196.100006  201.070007  10966900\n1    2018-01-03  206.210007  201.500000  202.050003  205.050003   8591400\n2    2018-01-04  207.050003  204.000000  206.199997  205.630005   6029600\n3    2018-01-05  210.020004  205.589996  207.250000  209.990005   7033200\n4    2018-01-08  212.500000  208.440002  210.020004  212.050003   5580200\n..          ...         ...         ...         ...         ...       ...\n246  2018-12-24  250.649994  233.679993  242.000000  233.880005   9547600\n247  2018-12-26  254.500000  231.229996  233.919998  253.669998  14402700\n248  2018-12-27  255.589996  240.100006  250.110001  255.570007  12235200\n249  2018-12-28  261.910004  249.800003  257.940002  256.079987  10992800\n250  2018-12-31  270.100006  260.000000  260.160004  267.660004  13508900\n\n[251 rows x 6 columns]",
      "text/html": "<div>\n<style scoped>\n    .dataframe tbody tr th:only-of-type {\n        vertical-align: middle;\n    }\n\n    .dataframe tbody tr th {\n        vertical-align: top;\n    }\n\n    .dataframe thead th {\n        text-align: right;\n    }\n</style>\n<table border=\"1\" class=\"dataframe\">\n  <thead>\n    <tr style=\"text-align: right;\">\n      <th></th>\n      <th>date</th>\n      <th>high</th>\n      <th>low</th>\n      <th>open</th>\n      <th>close</th>\n      <th>volume</th>\n    </tr>\n  </thead>\n  <tbody>\n    <tr>\n      <th>0</th>\n      <td>2018-01-02</td>\n      <td>201.649994</td>\n      <td>195.419998</td>\n      <td>196.100006</td>\n      <td>201.070007</td>\n      <td>10966900</td>\n    </tr>\n    <tr>\n      <th>1</th>\n      <td>2018-01-03</td>\n      <td>206.210007</td>\n      <td>201.500000</td>\n      <td>202.050003</td>\n      <td>205.050003</td>\n      <td>8591400</td>\n    </tr>\n    <tr>\n      <th>2</th>\n      <td>2018-01-04</td>\n      <td>207.050003</td>\n      <td>204.000000</td>\n      <td>206.199997</td>\n      <td>205.630005</td>\n      <td>6029600</td>\n    </tr>\n    <tr>\n      <th>3</th>\n      <td>2018-01-05</td>\n      <td>210.020004</td>\n      <td>205.589996</td>\n      <td>207.250000</td>\n      <td>209.990005</td>\n      <td>7033200</td>\n    </tr>\n    <tr>\n      <th>4</th>\n      <td>2018-01-08</td>\n      <td>212.500000</td>\n      <td>208.440002</td>\n      <td>210.020004</td>\n      <td>212.050003</td>\n      <td>5580200</td>\n    </tr>\n    <tr>\n      <th>...</th>\n      <td>...</td>\n      <td>...</td>\n      <td>...</td>\n      <td>...</td>\n      <td>...</td>\n      <td>...</td>\n    </tr>\n    <tr>\n      <th>246</th>\n      <td>2018-12-24</td>\n      <td>250.649994</td>\n      <td>233.679993</td>\n      <td>242.000000</td>\n      <td>233.880005</td>\n      <td>9547600</td>\n    </tr>\n    <tr>\n      <th>247</th>\n      <td>2018-12-26</td>\n      <td>254.500000</td>\n      <td>231.229996</td>\n      <td>233.919998</td>\n      <td>253.669998</td>\n      <td>14402700</td>\n    </tr>\n    <tr>\n      <th>248</th>\n      <td>2018-12-27</td>\n      <td>255.589996</td>\n      <td>240.100006</td>\n      <td>250.110001</td>\n      <td>255.570007</td>\n      <td>12235200</td>\n    </tr>\n    <tr>\n      <th>249</th>\n      <td>2018-12-28</td>\n      <td>261.910004</td>\n      <td>249.800003</td>\n      <td>257.940002</td>\n      <td>256.079987</td>\n      <td>10992800</td>\n    </tr>\n    <tr>\n      <th>250</th>\n      <td>2018-12-31</td>\n      <td>270.100006</td>\n      <td>260.000000</td>\n      <td>260.160004</td>\n      <td>267.660004</td>\n      <td>13508900</td>\n    </tr>\n  </tbody>\n</table>\n<p>251 rows × 6 columns</p>\n</div>"
     },
     "execution_count": 278,
     "metadata": {},
     "output_type": "execute_result"
    }
   ],
   "source": [
    "nflx = pd.read_csv('C:/Users/toduc/OneDrive - National Economics University/Desktop/NEU/Machine Learning/Visualization/Data/nflx.csv', sep=',')\n",
    "nflx"
   ],
   "metadata": {
    "collapsed": false,
    "pycharm": {
     "name": "#%%\n"
    }
   }
  },
  {
   "cell_type": "markdown",
   "source": [
    "b) Add a column to each dataframe, called ticker, indicating the ticker symbol it is for (Apple's is AAPL, for example);\n",
    "this is how you look up a stock. In this case, the filenames happen to be the ticker symbols."
   ],
   "metadata": {
    "collapsed": false
   }
  },
  {
   "cell_type": "code",
   "execution_count": 279,
   "outputs": [
    {
     "data": {
      "text/plain": "           date        high         low        open       close    volume  \\\n0    2018-01-02  181.580002  177.550003  177.679993  181.419998  18151900   \n1    2018-01-03  184.779999  181.330002  181.880005  184.669998  16886600   \n2    2018-01-04  186.210007  184.100006  184.899994  184.330002  13880900   \n3    2018-01-05  186.899994  184.929993  185.589996  186.850006  13574500   \n4    2018-01-08  188.899994  186.330002  187.199997  188.279999  17994700   \n..          ...         ...         ...         ...         ...       ...   \n246  2018-12-24  129.740005  123.019997  123.099998  124.059998  22066000   \n247  2018-12-26  134.240005  125.889999  126.000000  134.179993  39723400   \n248  2018-12-27  134.990005  129.669998  132.440002  134.520004  31202500   \n249  2018-12-28  135.919998  132.199997  135.339996  133.199997  22627600   \n250  2018-12-31  134.639999  129.949997  134.449997  131.089996  24625300   \n\n    ticker  \n0       fb  \n1       fb  \n2       fb  \n3       fb  \n4       fb  \n..     ...  \n246     fb  \n247     fb  \n248     fb  \n249     fb  \n250     fb  \n\n[251 rows x 7 columns]",
      "text/html": "<div>\n<style scoped>\n    .dataframe tbody tr th:only-of-type {\n        vertical-align: middle;\n    }\n\n    .dataframe tbody tr th {\n        vertical-align: top;\n    }\n\n    .dataframe thead th {\n        text-align: right;\n    }\n</style>\n<table border=\"1\" class=\"dataframe\">\n  <thead>\n    <tr style=\"text-align: right;\">\n      <th></th>\n      <th>date</th>\n      <th>high</th>\n      <th>low</th>\n      <th>open</th>\n      <th>close</th>\n      <th>volume</th>\n      <th>ticker</th>\n    </tr>\n  </thead>\n  <tbody>\n    <tr>\n      <th>0</th>\n      <td>2018-01-02</td>\n      <td>181.580002</td>\n      <td>177.550003</td>\n      <td>177.679993</td>\n      <td>181.419998</td>\n      <td>18151900</td>\n      <td>fb</td>\n    </tr>\n    <tr>\n      <th>1</th>\n      <td>2018-01-03</td>\n      <td>184.779999</td>\n      <td>181.330002</td>\n      <td>181.880005</td>\n      <td>184.669998</td>\n      <td>16886600</td>\n      <td>fb</td>\n    </tr>\n    <tr>\n      <th>2</th>\n      <td>2018-01-04</td>\n      <td>186.210007</td>\n      <td>184.100006</td>\n      <td>184.899994</td>\n      <td>184.330002</td>\n      <td>13880900</td>\n      <td>fb</td>\n    </tr>\n    <tr>\n      <th>3</th>\n      <td>2018-01-05</td>\n      <td>186.899994</td>\n      <td>184.929993</td>\n      <td>185.589996</td>\n      <td>186.850006</td>\n      <td>13574500</td>\n      <td>fb</td>\n    </tr>\n    <tr>\n      <th>4</th>\n      <td>2018-01-08</td>\n      <td>188.899994</td>\n      <td>186.330002</td>\n      <td>187.199997</td>\n      <td>188.279999</td>\n      <td>17994700</td>\n      <td>fb</td>\n    </tr>\n    <tr>\n      <th>...</th>\n      <td>...</td>\n      <td>...</td>\n      <td>...</td>\n      <td>...</td>\n      <td>...</td>\n      <td>...</td>\n      <td>...</td>\n    </tr>\n    <tr>\n      <th>246</th>\n      <td>2018-12-24</td>\n      <td>129.740005</td>\n      <td>123.019997</td>\n      <td>123.099998</td>\n      <td>124.059998</td>\n      <td>22066000</td>\n      <td>fb</td>\n    </tr>\n    <tr>\n      <th>247</th>\n      <td>2018-12-26</td>\n      <td>134.240005</td>\n      <td>125.889999</td>\n      <td>126.000000</td>\n      <td>134.179993</td>\n      <td>39723400</td>\n      <td>fb</td>\n    </tr>\n    <tr>\n      <th>248</th>\n      <td>2018-12-27</td>\n      <td>134.990005</td>\n      <td>129.669998</td>\n      <td>132.440002</td>\n      <td>134.520004</td>\n      <td>31202500</td>\n      <td>fb</td>\n    </tr>\n    <tr>\n      <th>249</th>\n      <td>2018-12-28</td>\n      <td>135.919998</td>\n      <td>132.199997</td>\n      <td>135.339996</td>\n      <td>133.199997</td>\n      <td>22627600</td>\n      <td>fb</td>\n    </tr>\n    <tr>\n      <th>250</th>\n      <td>2018-12-31</td>\n      <td>134.639999</td>\n      <td>129.949997</td>\n      <td>134.449997</td>\n      <td>131.089996</td>\n      <td>24625300</td>\n      <td>fb</td>\n    </tr>\n  </tbody>\n</table>\n<p>251 rows × 7 columns</p>\n</div>"
     },
     "execution_count": 279,
     "metadata": {},
     "output_type": "execute_result"
    }
   ],
   "source": [
    "fb['ticker'] = 'fb'\n",
    "fb"
   ],
   "metadata": {
    "collapsed": false,
    "pycharm": {
     "name": "#%%\n"
    }
   }
  },
  {
   "cell_type": "code",
   "execution_count": 280,
   "outputs": [
    {
     "data": {
      "text/plain": "           date       high        low       open      close       volume  \\\n0    2018-01-02  43.075001  42.314999  42.540001  43.064999  102223600.0   \n1    2018-01-03  43.637501  42.990002  43.132500  43.057499  118071600.0   \n2    2018-01-04  43.367500  43.020000  43.134998  43.257500   89738400.0   \n3    2018-01-05  43.842499  43.262501  43.360001  43.750000   94640000.0   \n4    2018-01-08  43.902500  43.482498  43.587502  43.587502   82271200.0   \n..          ...        ...        ...        ...        ...          ...   \n246  2018-12-24  37.887501  36.647499  37.037498  36.707500  148676800.0   \n247  2018-12-26  39.307499  36.680000  37.075001  39.292500  234330000.0   \n248  2018-12-27  39.192501  37.517502  38.959999  39.037498  212468400.0   \n249  2018-12-28  39.630001  38.637501  39.375000  39.057499  169165600.0   \n250  2018-12-31  39.840000  39.119999  39.632500  39.435001  140014000.0   \n\n    ticker  \n0     aapl  \n1     aapl  \n2     aapl  \n3     aapl  \n4     aapl  \n..     ...  \n246   aapl  \n247   aapl  \n248   aapl  \n249   aapl  \n250   aapl  \n\n[251 rows x 7 columns]",
      "text/html": "<div>\n<style scoped>\n    .dataframe tbody tr th:only-of-type {\n        vertical-align: middle;\n    }\n\n    .dataframe tbody tr th {\n        vertical-align: top;\n    }\n\n    .dataframe thead th {\n        text-align: right;\n    }\n</style>\n<table border=\"1\" class=\"dataframe\">\n  <thead>\n    <tr style=\"text-align: right;\">\n      <th></th>\n      <th>date</th>\n      <th>high</th>\n      <th>low</th>\n      <th>open</th>\n      <th>close</th>\n      <th>volume</th>\n      <th>ticker</th>\n    </tr>\n  </thead>\n  <tbody>\n    <tr>\n      <th>0</th>\n      <td>2018-01-02</td>\n      <td>43.075001</td>\n      <td>42.314999</td>\n      <td>42.540001</td>\n      <td>43.064999</td>\n      <td>102223600.0</td>\n      <td>aapl</td>\n    </tr>\n    <tr>\n      <th>1</th>\n      <td>2018-01-03</td>\n      <td>43.637501</td>\n      <td>42.990002</td>\n      <td>43.132500</td>\n      <td>43.057499</td>\n      <td>118071600.0</td>\n      <td>aapl</td>\n    </tr>\n    <tr>\n      <th>2</th>\n      <td>2018-01-04</td>\n      <td>43.367500</td>\n      <td>43.020000</td>\n      <td>43.134998</td>\n      <td>43.257500</td>\n      <td>89738400.0</td>\n      <td>aapl</td>\n    </tr>\n    <tr>\n      <th>3</th>\n      <td>2018-01-05</td>\n      <td>43.842499</td>\n      <td>43.262501</td>\n      <td>43.360001</td>\n      <td>43.750000</td>\n      <td>94640000.0</td>\n      <td>aapl</td>\n    </tr>\n    <tr>\n      <th>4</th>\n      <td>2018-01-08</td>\n      <td>43.902500</td>\n      <td>43.482498</td>\n      <td>43.587502</td>\n      <td>43.587502</td>\n      <td>82271200.0</td>\n      <td>aapl</td>\n    </tr>\n    <tr>\n      <th>...</th>\n      <td>...</td>\n      <td>...</td>\n      <td>...</td>\n      <td>...</td>\n      <td>...</td>\n      <td>...</td>\n      <td>...</td>\n    </tr>\n    <tr>\n      <th>246</th>\n      <td>2018-12-24</td>\n      <td>37.887501</td>\n      <td>36.647499</td>\n      <td>37.037498</td>\n      <td>36.707500</td>\n      <td>148676800.0</td>\n      <td>aapl</td>\n    </tr>\n    <tr>\n      <th>247</th>\n      <td>2018-12-26</td>\n      <td>39.307499</td>\n      <td>36.680000</td>\n      <td>37.075001</td>\n      <td>39.292500</td>\n      <td>234330000.0</td>\n      <td>aapl</td>\n    </tr>\n    <tr>\n      <th>248</th>\n      <td>2018-12-27</td>\n      <td>39.192501</td>\n      <td>37.517502</td>\n      <td>38.959999</td>\n      <td>39.037498</td>\n      <td>212468400.0</td>\n      <td>aapl</td>\n    </tr>\n    <tr>\n      <th>249</th>\n      <td>2018-12-28</td>\n      <td>39.630001</td>\n      <td>38.637501</td>\n      <td>39.375000</td>\n      <td>39.057499</td>\n      <td>169165600.0</td>\n      <td>aapl</td>\n    </tr>\n    <tr>\n      <th>250</th>\n      <td>2018-12-31</td>\n      <td>39.840000</td>\n      <td>39.119999</td>\n      <td>39.632500</td>\n      <td>39.435001</td>\n      <td>140014000.0</td>\n      <td>aapl</td>\n    </tr>\n  </tbody>\n</table>\n<p>251 rows × 7 columns</p>\n</div>"
     },
     "execution_count": 280,
     "metadata": {},
     "output_type": "execute_result"
    }
   ],
   "source": [
    "aapl['ticker'] = 'aapl'\n",
    "aapl"
   ],
   "metadata": {
    "collapsed": false,
    "pycharm": {
     "name": "#%%\n"
    }
   }
  },
  {
   "cell_type": "code",
   "execution_count": 281,
   "outputs": [
    {
     "data": {
      "text/plain": "           date         high          low         open        close    volume  \\\n0    2018-01-02  1190.000000  1170.510010  1172.000000  1189.010010   2694500   \n1    2018-01-03  1205.489990  1188.300049  1188.300049  1204.199951   3108800   \n2    2018-01-04  1215.869995  1204.660034  1205.000000  1209.589966   3022100   \n3    2018-01-05  1229.140015  1210.000000  1217.510010  1229.140015   3544700   \n4    2018-01-08  1253.079956  1232.030029  1236.000000  1246.869995   4279500   \n..          ...          ...          ...          ...          ...       ...   \n246  2018-12-24  1396.030029  1307.000000  1346.000000  1343.959961   7220000   \n247  2018-12-26  1473.160034  1363.010010  1368.890015  1470.900024  10411800   \n248  2018-12-27  1469.000000  1390.310059  1454.199951  1461.640015   9722000   \n249  2018-12-28  1513.469971  1449.000000  1473.349976  1478.020020   8829000   \n250  2018-12-31  1520.760010  1487.000000  1510.800049  1501.969971   6954500   \n\n    ticker  \n0     amzn  \n1     amzn  \n2     amzn  \n3     amzn  \n4     amzn  \n..     ...  \n246   amzn  \n247   amzn  \n248   amzn  \n249   amzn  \n250   amzn  \n\n[251 rows x 7 columns]",
      "text/html": "<div>\n<style scoped>\n    .dataframe tbody tr th:only-of-type {\n        vertical-align: middle;\n    }\n\n    .dataframe tbody tr th {\n        vertical-align: top;\n    }\n\n    .dataframe thead th {\n        text-align: right;\n    }\n</style>\n<table border=\"1\" class=\"dataframe\">\n  <thead>\n    <tr style=\"text-align: right;\">\n      <th></th>\n      <th>date</th>\n      <th>high</th>\n      <th>low</th>\n      <th>open</th>\n      <th>close</th>\n      <th>volume</th>\n      <th>ticker</th>\n    </tr>\n  </thead>\n  <tbody>\n    <tr>\n      <th>0</th>\n      <td>2018-01-02</td>\n      <td>1190.000000</td>\n      <td>1170.510010</td>\n      <td>1172.000000</td>\n      <td>1189.010010</td>\n      <td>2694500</td>\n      <td>amzn</td>\n    </tr>\n    <tr>\n      <th>1</th>\n      <td>2018-01-03</td>\n      <td>1205.489990</td>\n      <td>1188.300049</td>\n      <td>1188.300049</td>\n      <td>1204.199951</td>\n      <td>3108800</td>\n      <td>amzn</td>\n    </tr>\n    <tr>\n      <th>2</th>\n      <td>2018-01-04</td>\n      <td>1215.869995</td>\n      <td>1204.660034</td>\n      <td>1205.000000</td>\n      <td>1209.589966</td>\n      <td>3022100</td>\n      <td>amzn</td>\n    </tr>\n    <tr>\n      <th>3</th>\n      <td>2018-01-05</td>\n      <td>1229.140015</td>\n      <td>1210.000000</td>\n      <td>1217.510010</td>\n      <td>1229.140015</td>\n      <td>3544700</td>\n      <td>amzn</td>\n    </tr>\n    <tr>\n      <th>4</th>\n      <td>2018-01-08</td>\n      <td>1253.079956</td>\n      <td>1232.030029</td>\n      <td>1236.000000</td>\n      <td>1246.869995</td>\n      <td>4279500</td>\n      <td>amzn</td>\n    </tr>\n    <tr>\n      <th>...</th>\n      <td>...</td>\n      <td>...</td>\n      <td>...</td>\n      <td>...</td>\n      <td>...</td>\n      <td>...</td>\n      <td>...</td>\n    </tr>\n    <tr>\n      <th>246</th>\n      <td>2018-12-24</td>\n      <td>1396.030029</td>\n      <td>1307.000000</td>\n      <td>1346.000000</td>\n      <td>1343.959961</td>\n      <td>7220000</td>\n      <td>amzn</td>\n    </tr>\n    <tr>\n      <th>247</th>\n      <td>2018-12-26</td>\n      <td>1473.160034</td>\n      <td>1363.010010</td>\n      <td>1368.890015</td>\n      <td>1470.900024</td>\n      <td>10411800</td>\n      <td>amzn</td>\n    </tr>\n    <tr>\n      <th>248</th>\n      <td>2018-12-27</td>\n      <td>1469.000000</td>\n      <td>1390.310059</td>\n      <td>1454.199951</td>\n      <td>1461.640015</td>\n      <td>9722000</td>\n      <td>amzn</td>\n    </tr>\n    <tr>\n      <th>249</th>\n      <td>2018-12-28</td>\n      <td>1513.469971</td>\n      <td>1449.000000</td>\n      <td>1473.349976</td>\n      <td>1478.020020</td>\n      <td>8829000</td>\n      <td>amzn</td>\n    </tr>\n    <tr>\n      <th>250</th>\n      <td>2018-12-31</td>\n      <td>1520.760010</td>\n      <td>1487.000000</td>\n      <td>1510.800049</td>\n      <td>1501.969971</td>\n      <td>6954500</td>\n      <td>amzn</td>\n    </tr>\n  </tbody>\n</table>\n<p>251 rows × 7 columns</p>\n</div>"
     },
     "execution_count": 281,
     "metadata": {},
     "output_type": "execute_result"
    }
   ],
   "source": [
    "amzn['ticker'] = 'amzn'\n",
    "amzn"
   ],
   "metadata": {
    "collapsed": false,
    "pycharm": {
     "name": "#%%\n"
    }
   }
  },
  {
   "cell_type": "code",
   "execution_count": 282,
   "outputs": [
    {
     "data": {
      "text/plain": "           date         high          low         open        close   volume  \\\n0    2018-01-02  1066.939941  1045.229980  1048.339966  1065.000000  1237600   \n1    2018-01-03  1086.290039  1063.209961  1064.310059  1082.479980  1430200   \n2    2018-01-04  1093.569946  1084.001953  1088.000000  1086.400024  1004600   \n3    2018-01-05  1104.250000  1092.000000  1094.000000  1102.229980  1279100   \n4    2018-01-08  1111.270020  1101.619995  1102.229980  1106.939941  1047600   \n..          ...          ...          ...          ...          ...      ...   \n246  2018-12-24  1003.539978   970.109985   973.900024   976.219971  1590300   \n247  2018-12-26  1040.000000   983.000000   989.010010  1039.459961  2373300   \n248  2018-12-27  1043.890015   997.000000  1017.150024  1043.880005  2109800   \n249  2018-12-28  1055.560059  1033.099976  1049.619995  1037.079956  1414800   \n250  2018-12-31  1052.699951  1023.590027  1050.959961  1035.609985  1493300   \n\n    ticker  \n0     goog  \n1     goog  \n2     goog  \n3     goog  \n4     goog  \n..     ...  \n246   goog  \n247   goog  \n248   goog  \n249   goog  \n250   goog  \n\n[251 rows x 7 columns]",
      "text/html": "<div>\n<style scoped>\n    .dataframe tbody tr th:only-of-type {\n        vertical-align: middle;\n    }\n\n    .dataframe tbody tr th {\n        vertical-align: top;\n    }\n\n    .dataframe thead th {\n        text-align: right;\n    }\n</style>\n<table border=\"1\" class=\"dataframe\">\n  <thead>\n    <tr style=\"text-align: right;\">\n      <th></th>\n      <th>date</th>\n      <th>high</th>\n      <th>low</th>\n      <th>open</th>\n      <th>close</th>\n      <th>volume</th>\n      <th>ticker</th>\n    </tr>\n  </thead>\n  <tbody>\n    <tr>\n      <th>0</th>\n      <td>2018-01-02</td>\n      <td>1066.939941</td>\n      <td>1045.229980</td>\n      <td>1048.339966</td>\n      <td>1065.000000</td>\n      <td>1237600</td>\n      <td>goog</td>\n    </tr>\n    <tr>\n      <th>1</th>\n      <td>2018-01-03</td>\n      <td>1086.290039</td>\n      <td>1063.209961</td>\n      <td>1064.310059</td>\n      <td>1082.479980</td>\n      <td>1430200</td>\n      <td>goog</td>\n    </tr>\n    <tr>\n      <th>2</th>\n      <td>2018-01-04</td>\n      <td>1093.569946</td>\n      <td>1084.001953</td>\n      <td>1088.000000</td>\n      <td>1086.400024</td>\n      <td>1004600</td>\n      <td>goog</td>\n    </tr>\n    <tr>\n      <th>3</th>\n      <td>2018-01-05</td>\n      <td>1104.250000</td>\n      <td>1092.000000</td>\n      <td>1094.000000</td>\n      <td>1102.229980</td>\n      <td>1279100</td>\n      <td>goog</td>\n    </tr>\n    <tr>\n      <th>4</th>\n      <td>2018-01-08</td>\n      <td>1111.270020</td>\n      <td>1101.619995</td>\n      <td>1102.229980</td>\n      <td>1106.939941</td>\n      <td>1047600</td>\n      <td>goog</td>\n    </tr>\n    <tr>\n      <th>...</th>\n      <td>...</td>\n      <td>...</td>\n      <td>...</td>\n      <td>...</td>\n      <td>...</td>\n      <td>...</td>\n      <td>...</td>\n    </tr>\n    <tr>\n      <th>246</th>\n      <td>2018-12-24</td>\n      <td>1003.539978</td>\n      <td>970.109985</td>\n      <td>973.900024</td>\n      <td>976.219971</td>\n      <td>1590300</td>\n      <td>goog</td>\n    </tr>\n    <tr>\n      <th>247</th>\n      <td>2018-12-26</td>\n      <td>1040.000000</td>\n      <td>983.000000</td>\n      <td>989.010010</td>\n      <td>1039.459961</td>\n      <td>2373300</td>\n      <td>goog</td>\n    </tr>\n    <tr>\n      <th>248</th>\n      <td>2018-12-27</td>\n      <td>1043.890015</td>\n      <td>997.000000</td>\n      <td>1017.150024</td>\n      <td>1043.880005</td>\n      <td>2109800</td>\n      <td>goog</td>\n    </tr>\n    <tr>\n      <th>249</th>\n      <td>2018-12-28</td>\n      <td>1055.560059</td>\n      <td>1033.099976</td>\n      <td>1049.619995</td>\n      <td>1037.079956</td>\n      <td>1414800</td>\n      <td>goog</td>\n    </tr>\n    <tr>\n      <th>250</th>\n      <td>2018-12-31</td>\n      <td>1052.699951</td>\n      <td>1023.590027</td>\n      <td>1050.959961</td>\n      <td>1035.609985</td>\n      <td>1493300</td>\n      <td>goog</td>\n    </tr>\n  </tbody>\n</table>\n<p>251 rows × 7 columns</p>\n</div>"
     },
     "execution_count": 282,
     "metadata": {},
     "output_type": "execute_result"
    }
   ],
   "source": [
    "goog['ticker'] = 'goog'\n",
    "goog"
   ],
   "metadata": {
    "collapsed": false,
    "pycharm": {
     "name": "#%%\n"
    }
   }
  },
  {
   "cell_type": "code",
   "execution_count": 283,
   "outputs": [
    {
     "data": {
      "text/plain": "           date        high         low        open       close    volume  \\\n0    2018-01-02  201.649994  195.419998  196.100006  201.070007  10966900   \n1    2018-01-03  206.210007  201.500000  202.050003  205.050003   8591400   \n2    2018-01-04  207.050003  204.000000  206.199997  205.630005   6029600   \n3    2018-01-05  210.020004  205.589996  207.250000  209.990005   7033200   \n4    2018-01-08  212.500000  208.440002  210.020004  212.050003   5580200   \n..          ...         ...         ...         ...         ...       ...   \n246  2018-12-24  250.649994  233.679993  242.000000  233.880005   9547600   \n247  2018-12-26  254.500000  231.229996  233.919998  253.669998  14402700   \n248  2018-12-27  255.589996  240.100006  250.110001  255.570007  12235200   \n249  2018-12-28  261.910004  249.800003  257.940002  256.079987  10992800   \n250  2018-12-31  270.100006  260.000000  260.160004  267.660004  13508900   \n\n    ticker  \n0     nflx  \n1     nflx  \n2     nflx  \n3     nflx  \n4     nflx  \n..     ...  \n246   nflx  \n247   nflx  \n248   nflx  \n249   nflx  \n250   nflx  \n\n[251 rows x 7 columns]",
      "text/html": "<div>\n<style scoped>\n    .dataframe tbody tr th:only-of-type {\n        vertical-align: middle;\n    }\n\n    .dataframe tbody tr th {\n        vertical-align: top;\n    }\n\n    .dataframe thead th {\n        text-align: right;\n    }\n</style>\n<table border=\"1\" class=\"dataframe\">\n  <thead>\n    <tr style=\"text-align: right;\">\n      <th></th>\n      <th>date</th>\n      <th>high</th>\n      <th>low</th>\n      <th>open</th>\n      <th>close</th>\n      <th>volume</th>\n      <th>ticker</th>\n    </tr>\n  </thead>\n  <tbody>\n    <tr>\n      <th>0</th>\n      <td>2018-01-02</td>\n      <td>201.649994</td>\n      <td>195.419998</td>\n      <td>196.100006</td>\n      <td>201.070007</td>\n      <td>10966900</td>\n      <td>nflx</td>\n    </tr>\n    <tr>\n      <th>1</th>\n      <td>2018-01-03</td>\n      <td>206.210007</td>\n      <td>201.500000</td>\n      <td>202.050003</td>\n      <td>205.050003</td>\n      <td>8591400</td>\n      <td>nflx</td>\n    </tr>\n    <tr>\n      <th>2</th>\n      <td>2018-01-04</td>\n      <td>207.050003</td>\n      <td>204.000000</td>\n      <td>206.199997</td>\n      <td>205.630005</td>\n      <td>6029600</td>\n      <td>nflx</td>\n    </tr>\n    <tr>\n      <th>3</th>\n      <td>2018-01-05</td>\n      <td>210.020004</td>\n      <td>205.589996</td>\n      <td>207.250000</td>\n      <td>209.990005</td>\n      <td>7033200</td>\n      <td>nflx</td>\n    </tr>\n    <tr>\n      <th>4</th>\n      <td>2018-01-08</td>\n      <td>212.500000</td>\n      <td>208.440002</td>\n      <td>210.020004</td>\n      <td>212.050003</td>\n      <td>5580200</td>\n      <td>nflx</td>\n    </tr>\n    <tr>\n      <th>...</th>\n      <td>...</td>\n      <td>...</td>\n      <td>...</td>\n      <td>...</td>\n      <td>...</td>\n      <td>...</td>\n      <td>...</td>\n    </tr>\n    <tr>\n      <th>246</th>\n      <td>2018-12-24</td>\n      <td>250.649994</td>\n      <td>233.679993</td>\n      <td>242.000000</td>\n      <td>233.880005</td>\n      <td>9547600</td>\n      <td>nflx</td>\n    </tr>\n    <tr>\n      <th>247</th>\n      <td>2018-12-26</td>\n      <td>254.500000</td>\n      <td>231.229996</td>\n      <td>233.919998</td>\n      <td>253.669998</td>\n      <td>14402700</td>\n      <td>nflx</td>\n    </tr>\n    <tr>\n      <th>248</th>\n      <td>2018-12-27</td>\n      <td>255.589996</td>\n      <td>240.100006</td>\n      <td>250.110001</td>\n      <td>255.570007</td>\n      <td>12235200</td>\n      <td>nflx</td>\n    </tr>\n    <tr>\n      <th>249</th>\n      <td>2018-12-28</td>\n      <td>261.910004</td>\n      <td>249.800003</td>\n      <td>257.940002</td>\n      <td>256.079987</td>\n      <td>10992800</td>\n      <td>nflx</td>\n    </tr>\n    <tr>\n      <th>250</th>\n      <td>2018-12-31</td>\n      <td>270.100006</td>\n      <td>260.000000</td>\n      <td>260.160004</td>\n      <td>267.660004</td>\n      <td>13508900</td>\n      <td>nflx</td>\n    </tr>\n  </tbody>\n</table>\n<p>251 rows × 7 columns</p>\n</div>"
     },
     "execution_count": 283,
     "metadata": {},
     "output_type": "execute_result"
    }
   ],
   "source": [
    "nflx['ticker'] = 'nflx'\n",
    "nflx"
   ],
   "metadata": {
    "collapsed": false,
    "pycharm": {
     "name": "#%%\n"
    }
   }
  },
  {
   "cell_type": "markdown",
   "source": [
    "c) Append them together into a single dataframe. (concat)"
   ],
   "metadata": {
    "collapsed": false
   }
  },
  {
   "cell_type": "code",
   "execution_count": 284,
   "outputs": [
    {
     "data": {
      "text/plain": "           date         high          low         open        close  \\\n0    2018-01-02   181.580002   177.550003   177.679993   181.419998   \n1    2018-01-03   184.779999   181.330002   181.880005   184.669998   \n2    2018-01-04   186.210007   184.100006   184.899994   184.330002   \n3    2018-01-05   186.899994   184.929993   185.589996   186.850006   \n4    2018-01-08   188.899994   186.330002   187.199997   188.279999   \n..          ...          ...          ...          ...          ...   \n246  2018-12-24  1003.539978   970.109985   973.900024   976.219971   \n247  2018-12-26  1040.000000   983.000000   989.010010  1039.459961   \n248  2018-12-27  1043.890015   997.000000  1017.150024  1043.880005   \n249  2018-12-28  1055.560059  1033.099976  1049.619995  1037.079956   \n250  2018-12-31  1052.699951  1023.590027  1050.959961  1035.609985   \n\n         volume ticker  \n0    18151900.0     fb  \n1    16886600.0     fb  \n2    13880900.0     fb  \n3    13574500.0     fb  \n4    17994700.0     fb  \n..          ...    ...  \n246   1590300.0   goog  \n247   2373300.0   goog  \n248   2109800.0   goog  \n249   1414800.0   goog  \n250   1493300.0   goog  \n\n[1255 rows x 7 columns]",
      "text/html": "<div>\n<style scoped>\n    .dataframe tbody tr th:only-of-type {\n        vertical-align: middle;\n    }\n\n    .dataframe tbody tr th {\n        vertical-align: top;\n    }\n\n    .dataframe thead th {\n        text-align: right;\n    }\n</style>\n<table border=\"1\" class=\"dataframe\">\n  <thead>\n    <tr style=\"text-align: right;\">\n      <th></th>\n      <th>date</th>\n      <th>high</th>\n      <th>low</th>\n      <th>open</th>\n      <th>close</th>\n      <th>volume</th>\n      <th>ticker</th>\n    </tr>\n  </thead>\n  <tbody>\n    <tr>\n      <th>0</th>\n      <td>2018-01-02</td>\n      <td>181.580002</td>\n      <td>177.550003</td>\n      <td>177.679993</td>\n      <td>181.419998</td>\n      <td>18151900.0</td>\n      <td>fb</td>\n    </tr>\n    <tr>\n      <th>1</th>\n      <td>2018-01-03</td>\n      <td>184.779999</td>\n      <td>181.330002</td>\n      <td>181.880005</td>\n      <td>184.669998</td>\n      <td>16886600.0</td>\n      <td>fb</td>\n    </tr>\n    <tr>\n      <th>2</th>\n      <td>2018-01-04</td>\n      <td>186.210007</td>\n      <td>184.100006</td>\n      <td>184.899994</td>\n      <td>184.330002</td>\n      <td>13880900.0</td>\n      <td>fb</td>\n    </tr>\n    <tr>\n      <th>3</th>\n      <td>2018-01-05</td>\n      <td>186.899994</td>\n      <td>184.929993</td>\n      <td>185.589996</td>\n      <td>186.850006</td>\n      <td>13574500.0</td>\n      <td>fb</td>\n    </tr>\n    <tr>\n      <th>4</th>\n      <td>2018-01-08</td>\n      <td>188.899994</td>\n      <td>186.330002</td>\n      <td>187.199997</td>\n      <td>188.279999</td>\n      <td>17994700.0</td>\n      <td>fb</td>\n    </tr>\n    <tr>\n      <th>...</th>\n      <td>...</td>\n      <td>...</td>\n      <td>...</td>\n      <td>...</td>\n      <td>...</td>\n      <td>...</td>\n      <td>...</td>\n    </tr>\n    <tr>\n      <th>246</th>\n      <td>2018-12-24</td>\n      <td>1003.539978</td>\n      <td>970.109985</td>\n      <td>973.900024</td>\n      <td>976.219971</td>\n      <td>1590300.0</td>\n      <td>goog</td>\n    </tr>\n    <tr>\n      <th>247</th>\n      <td>2018-12-26</td>\n      <td>1040.000000</td>\n      <td>983.000000</td>\n      <td>989.010010</td>\n      <td>1039.459961</td>\n      <td>2373300.0</td>\n      <td>goog</td>\n    </tr>\n    <tr>\n      <th>248</th>\n      <td>2018-12-27</td>\n      <td>1043.890015</td>\n      <td>997.000000</td>\n      <td>1017.150024</td>\n      <td>1043.880005</td>\n      <td>2109800.0</td>\n      <td>goog</td>\n    </tr>\n    <tr>\n      <th>249</th>\n      <td>2018-12-28</td>\n      <td>1055.560059</td>\n      <td>1033.099976</td>\n      <td>1049.619995</td>\n      <td>1037.079956</td>\n      <td>1414800.0</td>\n      <td>goog</td>\n    </tr>\n    <tr>\n      <th>250</th>\n      <td>2018-12-31</td>\n      <td>1052.699951</td>\n      <td>1023.590027</td>\n      <td>1050.959961</td>\n      <td>1035.609985</td>\n      <td>1493300.0</td>\n      <td>goog</td>\n    </tr>\n  </tbody>\n</table>\n<p>1255 rows × 7 columns</p>\n</div>"
     },
     "execution_count": 284,
     "metadata": {},
     "output_type": "execute_result"
    }
   ],
   "source": [
    "faang = pd.concat([fb,aapl,amzn,nflx,goog])\n",
    "faang"
   ],
   "metadata": {
    "collapsed": false,
    "pycharm": {
     "name": "#%%\n"
    }
   }
  },
  {
   "cell_type": "markdown",
   "source": [
    "d) Save the result in a CSV file called faang.csv. (to_csv)"
   ],
   "metadata": {
    "collapsed": false
   }
  },
  {
   "cell_type": "code",
   "execution_count": 285,
   "outputs": [],
   "source": [
    "faang.to_csv('faang.csv', index=True)"
   ],
   "metadata": {
    "collapsed": false,
    "pycharm": {
     "name": "#%%\n"
    }
   }
  },
  {
   "cell_type": "code",
   "execution_count": 286,
   "outputs": [
    {
     "data": {
      "text/plain": "            date         high          low         open        close  \\\n0     2018-01-02   181.580002   177.550003   177.679993   181.419998   \n1     2018-01-03   184.779999   181.330002   181.880005   184.669998   \n2     2018-01-04   186.210007   184.100006   184.899994   184.330002   \n3     2018-01-05   186.899994   184.929993   185.589996   186.850006   \n4     2018-01-08   188.899994   186.330002   187.199997   188.279999   \n...          ...          ...          ...          ...          ...   \n1250  2018-12-24  1003.539978   970.109985   973.900024   976.219971   \n1251  2018-12-26  1040.000000   983.000000   989.010010  1039.459961   \n1252  2018-12-27  1043.890015   997.000000  1017.150024  1043.880005   \n1253  2018-12-28  1055.560059  1033.099976  1049.619995  1037.079956   \n1254  2018-12-31  1052.699951  1023.590027  1050.959961  1035.609985   \n\n          volume ticker  \n0     18151900.0     fb  \n1     16886600.0     fb  \n2     13880900.0     fb  \n3     13574500.0     fb  \n4     17994700.0     fb  \n...          ...    ...  \n1250   1590300.0   goog  \n1251   2373300.0   goog  \n1252   2109800.0   goog  \n1253   1414800.0   goog  \n1254   1493300.0   goog  \n\n[1255 rows x 7 columns]",
      "text/html": "<div>\n<style scoped>\n    .dataframe tbody tr th:only-of-type {\n        vertical-align: middle;\n    }\n\n    .dataframe tbody tr th {\n        vertical-align: top;\n    }\n\n    .dataframe thead th {\n        text-align: right;\n    }\n</style>\n<table border=\"1\" class=\"dataframe\">\n  <thead>\n    <tr style=\"text-align: right;\">\n      <th></th>\n      <th>date</th>\n      <th>high</th>\n      <th>low</th>\n      <th>open</th>\n      <th>close</th>\n      <th>volume</th>\n      <th>ticker</th>\n    </tr>\n  </thead>\n  <tbody>\n    <tr>\n      <th>0</th>\n      <td>2018-01-02</td>\n      <td>181.580002</td>\n      <td>177.550003</td>\n      <td>177.679993</td>\n      <td>181.419998</td>\n      <td>18151900.0</td>\n      <td>fb</td>\n    </tr>\n    <tr>\n      <th>1</th>\n      <td>2018-01-03</td>\n      <td>184.779999</td>\n      <td>181.330002</td>\n      <td>181.880005</td>\n      <td>184.669998</td>\n      <td>16886600.0</td>\n      <td>fb</td>\n    </tr>\n    <tr>\n      <th>2</th>\n      <td>2018-01-04</td>\n      <td>186.210007</td>\n      <td>184.100006</td>\n      <td>184.899994</td>\n      <td>184.330002</td>\n      <td>13880900.0</td>\n      <td>fb</td>\n    </tr>\n    <tr>\n      <th>3</th>\n      <td>2018-01-05</td>\n      <td>186.899994</td>\n      <td>184.929993</td>\n      <td>185.589996</td>\n      <td>186.850006</td>\n      <td>13574500.0</td>\n      <td>fb</td>\n    </tr>\n    <tr>\n      <th>4</th>\n      <td>2018-01-08</td>\n      <td>188.899994</td>\n      <td>186.330002</td>\n      <td>187.199997</td>\n      <td>188.279999</td>\n      <td>17994700.0</td>\n      <td>fb</td>\n    </tr>\n    <tr>\n      <th>...</th>\n      <td>...</td>\n      <td>...</td>\n      <td>...</td>\n      <td>...</td>\n      <td>...</td>\n      <td>...</td>\n      <td>...</td>\n    </tr>\n    <tr>\n      <th>1250</th>\n      <td>2018-12-24</td>\n      <td>1003.539978</td>\n      <td>970.109985</td>\n      <td>973.900024</td>\n      <td>976.219971</td>\n      <td>1590300.0</td>\n      <td>goog</td>\n    </tr>\n    <tr>\n      <th>1251</th>\n      <td>2018-12-26</td>\n      <td>1040.000000</td>\n      <td>983.000000</td>\n      <td>989.010010</td>\n      <td>1039.459961</td>\n      <td>2373300.0</td>\n      <td>goog</td>\n    </tr>\n    <tr>\n      <th>1252</th>\n      <td>2018-12-27</td>\n      <td>1043.890015</td>\n      <td>997.000000</td>\n      <td>1017.150024</td>\n      <td>1043.880005</td>\n      <td>2109800.0</td>\n      <td>goog</td>\n    </tr>\n    <tr>\n      <th>1253</th>\n      <td>2018-12-28</td>\n      <td>1055.560059</td>\n      <td>1033.099976</td>\n      <td>1049.619995</td>\n      <td>1037.079956</td>\n      <td>1414800.0</td>\n      <td>goog</td>\n    </tr>\n    <tr>\n      <th>1254</th>\n      <td>2018-12-31</td>\n      <td>1052.699951</td>\n      <td>1023.590027</td>\n      <td>1050.959961</td>\n      <td>1035.609985</td>\n      <td>1493300.0</td>\n      <td>goog</td>\n    </tr>\n  </tbody>\n</table>\n<p>1255 rows × 7 columns</p>\n</div>"
     },
     "execution_count": 286,
     "metadata": {},
     "output_type": "execute_result"
    }
   ],
   "source": [
    "faang = pd.read_csv('faang.csv')\n",
    "faang = faang.drop(['Unnamed: 0'],axis=1)\n",
    "faang"
   ],
   "metadata": {
    "collapsed": false,
    "pycharm": {
     "name": "#%%\n"
    }
   }
  },
  {
   "cell_type": "markdown",
   "source": [
    "e) With faang, use type conversion to cast the values of the date column into datetimes and the volume column into\n",
    "integers. Then, sort by date and ticker."
   ],
   "metadata": {
    "collapsed": false
   }
  },
  {
   "cell_type": "code",
   "execution_count": 287,
   "outputs": [
    {
     "data": {
      "text/plain": "            date         high          low         open        close  \\\n0     2018-01-02   181.580002   177.550003   177.679993   181.419998   \n1     2018-01-03   184.779999   181.330002   181.880005   184.669998   \n2     2018-01-04   186.210007   184.100006   184.899994   184.330002   \n3     2018-01-05   186.899994   184.929993   185.589996   186.850006   \n4     2018-01-08   188.899994   186.330002   187.199997   188.279999   \n...          ...          ...          ...          ...          ...   \n1250  2018-12-24  1003.539978   970.109985   973.900024   976.219971   \n1251  2018-12-26  1040.000000   983.000000   989.010010  1039.459961   \n1252  2018-12-27  1043.890015   997.000000  1017.150024  1043.880005   \n1253  2018-12-28  1055.560059  1033.099976  1049.619995  1037.079956   \n1254  2018-12-31  1052.699951  1023.590027  1050.959961  1035.609985   \n\n          volume ticker  \n0     18151900.0     fb  \n1     16886600.0     fb  \n2     13880900.0     fb  \n3     13574500.0     fb  \n4     17994700.0     fb  \n...          ...    ...  \n1250   1590300.0   goog  \n1251   2373300.0   goog  \n1252   2109800.0   goog  \n1253   1414800.0   goog  \n1254   1493300.0   goog  \n\n[1255 rows x 7 columns]",
      "text/html": "<div>\n<style scoped>\n    .dataframe tbody tr th:only-of-type {\n        vertical-align: middle;\n    }\n\n    .dataframe tbody tr th {\n        vertical-align: top;\n    }\n\n    .dataframe thead th {\n        text-align: right;\n    }\n</style>\n<table border=\"1\" class=\"dataframe\">\n  <thead>\n    <tr style=\"text-align: right;\">\n      <th></th>\n      <th>date</th>\n      <th>high</th>\n      <th>low</th>\n      <th>open</th>\n      <th>close</th>\n      <th>volume</th>\n      <th>ticker</th>\n    </tr>\n  </thead>\n  <tbody>\n    <tr>\n      <th>0</th>\n      <td>2018-01-02</td>\n      <td>181.580002</td>\n      <td>177.550003</td>\n      <td>177.679993</td>\n      <td>181.419998</td>\n      <td>18151900.0</td>\n      <td>fb</td>\n    </tr>\n    <tr>\n      <th>1</th>\n      <td>2018-01-03</td>\n      <td>184.779999</td>\n      <td>181.330002</td>\n      <td>181.880005</td>\n      <td>184.669998</td>\n      <td>16886600.0</td>\n      <td>fb</td>\n    </tr>\n    <tr>\n      <th>2</th>\n      <td>2018-01-04</td>\n      <td>186.210007</td>\n      <td>184.100006</td>\n      <td>184.899994</td>\n      <td>184.330002</td>\n      <td>13880900.0</td>\n      <td>fb</td>\n    </tr>\n    <tr>\n      <th>3</th>\n      <td>2018-01-05</td>\n      <td>186.899994</td>\n      <td>184.929993</td>\n      <td>185.589996</td>\n      <td>186.850006</td>\n      <td>13574500.0</td>\n      <td>fb</td>\n    </tr>\n    <tr>\n      <th>4</th>\n      <td>2018-01-08</td>\n      <td>188.899994</td>\n      <td>186.330002</td>\n      <td>187.199997</td>\n      <td>188.279999</td>\n      <td>17994700.0</td>\n      <td>fb</td>\n    </tr>\n    <tr>\n      <th>...</th>\n      <td>...</td>\n      <td>...</td>\n      <td>...</td>\n      <td>...</td>\n      <td>...</td>\n      <td>...</td>\n      <td>...</td>\n    </tr>\n    <tr>\n      <th>1250</th>\n      <td>2018-12-24</td>\n      <td>1003.539978</td>\n      <td>970.109985</td>\n      <td>973.900024</td>\n      <td>976.219971</td>\n      <td>1590300.0</td>\n      <td>goog</td>\n    </tr>\n    <tr>\n      <th>1251</th>\n      <td>2018-12-26</td>\n      <td>1040.000000</td>\n      <td>983.000000</td>\n      <td>989.010010</td>\n      <td>1039.459961</td>\n      <td>2373300.0</td>\n      <td>goog</td>\n    </tr>\n    <tr>\n      <th>1252</th>\n      <td>2018-12-27</td>\n      <td>1043.890015</td>\n      <td>997.000000</td>\n      <td>1017.150024</td>\n      <td>1043.880005</td>\n      <td>2109800.0</td>\n      <td>goog</td>\n    </tr>\n    <tr>\n      <th>1253</th>\n      <td>2018-12-28</td>\n      <td>1055.560059</td>\n      <td>1033.099976</td>\n      <td>1049.619995</td>\n      <td>1037.079956</td>\n      <td>1414800.0</td>\n      <td>goog</td>\n    </tr>\n    <tr>\n      <th>1254</th>\n      <td>2018-12-31</td>\n      <td>1052.699951</td>\n      <td>1023.590027</td>\n      <td>1050.959961</td>\n      <td>1035.609985</td>\n      <td>1493300.0</td>\n      <td>goog</td>\n    </tr>\n  </tbody>\n</table>\n<p>1255 rows × 7 columns</p>\n</div>"
     },
     "execution_count": 287,
     "metadata": {},
     "output_type": "execute_result"
    }
   ],
   "source": [
    "faang.assign(\n",
    "    date = lambda x:pd.to_datetime(x.date),\n",
    "    volumn = lambda x: x['volume'].astype('int')\n",
    ")\n",
    "faang"
   ],
   "metadata": {
    "collapsed": false,
    "pycharm": {
     "name": "#%%\n"
    }
   }
  },
  {
   "cell_type": "code",
   "execution_count": 288,
   "outputs": [
    {
     "data": {
      "text/plain": "            date         high          low         open        close  \\\n0     2018-01-02   181.580002   177.550003   177.679993   181.419998   \n1     2018-01-03   184.779999   181.330002   181.880005   184.669998   \n2     2018-01-04   186.210007   184.100006   184.899994   184.330002   \n3     2018-01-05   186.899994   184.929993   185.589996   186.850006   \n4     2018-01-08   188.899994   186.330002   187.199997   188.279999   \n...          ...          ...          ...          ...          ...   \n1250  2018-12-24  1003.539978   970.109985   973.900024   976.219971   \n1251  2018-12-26  1040.000000   983.000000   989.010010  1039.459961   \n1252  2018-12-27  1043.890015   997.000000  1017.150024  1043.880005   \n1253  2018-12-28  1055.560059  1033.099976  1049.619995  1037.079956   \n1254  2018-12-31  1052.699951  1023.590027  1050.959961  1035.609985   \n\n          volume ticker  \n0     18151900.0     fb  \n1     16886600.0     fb  \n2     13880900.0     fb  \n3     13574500.0     fb  \n4     17994700.0     fb  \n...          ...    ...  \n1250   1590300.0   goog  \n1251   2373300.0   goog  \n1252   2109800.0   goog  \n1253   1414800.0   goog  \n1254   1493300.0   goog  \n\n[1255 rows x 7 columns]",
      "text/html": "<div>\n<style scoped>\n    .dataframe tbody tr th:only-of-type {\n        vertical-align: middle;\n    }\n\n    .dataframe tbody tr th {\n        vertical-align: top;\n    }\n\n    .dataframe thead th {\n        text-align: right;\n    }\n</style>\n<table border=\"1\" class=\"dataframe\">\n  <thead>\n    <tr style=\"text-align: right;\">\n      <th></th>\n      <th>date</th>\n      <th>high</th>\n      <th>low</th>\n      <th>open</th>\n      <th>close</th>\n      <th>volume</th>\n      <th>ticker</th>\n    </tr>\n  </thead>\n  <tbody>\n    <tr>\n      <th>0</th>\n      <td>2018-01-02</td>\n      <td>181.580002</td>\n      <td>177.550003</td>\n      <td>177.679993</td>\n      <td>181.419998</td>\n      <td>18151900.0</td>\n      <td>fb</td>\n    </tr>\n    <tr>\n      <th>1</th>\n      <td>2018-01-03</td>\n      <td>184.779999</td>\n      <td>181.330002</td>\n      <td>181.880005</td>\n      <td>184.669998</td>\n      <td>16886600.0</td>\n      <td>fb</td>\n    </tr>\n    <tr>\n      <th>2</th>\n      <td>2018-01-04</td>\n      <td>186.210007</td>\n      <td>184.100006</td>\n      <td>184.899994</td>\n      <td>184.330002</td>\n      <td>13880900.0</td>\n      <td>fb</td>\n    </tr>\n    <tr>\n      <th>3</th>\n      <td>2018-01-05</td>\n      <td>186.899994</td>\n      <td>184.929993</td>\n      <td>185.589996</td>\n      <td>186.850006</td>\n      <td>13574500.0</td>\n      <td>fb</td>\n    </tr>\n    <tr>\n      <th>4</th>\n      <td>2018-01-08</td>\n      <td>188.899994</td>\n      <td>186.330002</td>\n      <td>187.199997</td>\n      <td>188.279999</td>\n      <td>17994700.0</td>\n      <td>fb</td>\n    </tr>\n    <tr>\n      <th>...</th>\n      <td>...</td>\n      <td>...</td>\n      <td>...</td>\n      <td>...</td>\n      <td>...</td>\n      <td>...</td>\n      <td>...</td>\n    </tr>\n    <tr>\n      <th>1250</th>\n      <td>2018-12-24</td>\n      <td>1003.539978</td>\n      <td>970.109985</td>\n      <td>973.900024</td>\n      <td>976.219971</td>\n      <td>1590300.0</td>\n      <td>goog</td>\n    </tr>\n    <tr>\n      <th>1251</th>\n      <td>2018-12-26</td>\n      <td>1040.000000</td>\n      <td>983.000000</td>\n      <td>989.010010</td>\n      <td>1039.459961</td>\n      <td>2373300.0</td>\n      <td>goog</td>\n    </tr>\n    <tr>\n      <th>1252</th>\n      <td>2018-12-27</td>\n      <td>1043.890015</td>\n      <td>997.000000</td>\n      <td>1017.150024</td>\n      <td>1043.880005</td>\n      <td>2109800.0</td>\n      <td>goog</td>\n    </tr>\n    <tr>\n      <th>1253</th>\n      <td>2018-12-28</td>\n      <td>1055.560059</td>\n      <td>1033.099976</td>\n      <td>1049.619995</td>\n      <td>1037.079956</td>\n      <td>1414800.0</td>\n      <td>goog</td>\n    </tr>\n    <tr>\n      <th>1254</th>\n      <td>2018-12-31</td>\n      <td>1052.699951</td>\n      <td>1023.590027</td>\n      <td>1050.959961</td>\n      <td>1035.609985</td>\n      <td>1493300.0</td>\n      <td>goog</td>\n    </tr>\n  </tbody>\n</table>\n<p>1255 rows × 7 columns</p>\n</div>"
     },
     "execution_count": 288,
     "metadata": {},
     "output_type": "execute_result"
    }
   ],
   "source": [
    "faang.sort_values(by=['date', 'ticker'])\n",
    "faang"
   ],
   "metadata": {
    "collapsed": false,
    "pycharm": {
     "name": "#%%\n"
    }
   }
  },
  {
   "cell_type": "markdown",
   "source": [
    "f) Find the seven rows in faangwith the lowest value for volume"
   ],
   "metadata": {
    "collapsed": false
   }
  },
  {
   "cell_type": "code",
   "execution_count": 289,
   "outputs": [
    {
     "data": {
      "text/plain": "         date        high         low        open       close      volume  \\\n0  2018-01-02  181.580002  177.550003  177.679993  181.419998  18151900.0   \n1  2018-01-03  184.779999  181.330002  181.880005  184.669998  16886600.0   \n2  2018-01-04  186.210007  184.100006  184.899994  184.330002  13880900.0   \n3  2018-01-05  186.899994  184.929993  185.589996  186.850006  13574500.0   \n4  2018-01-08  188.899994  186.330002  187.199997  188.279999  17994700.0   \n5  2018-01-09  188.800003  187.100006  188.699997  187.869995  12393100.0   \n6  2018-01-10  187.889999  185.630005  186.940002  187.839996  10529900.0   \n\n  ticker  \n0     fb  \n1     fb  \n2     fb  \n3     fb  \n4     fb  \n5     fb  \n6     fb  ",
      "text/html": "<div>\n<style scoped>\n    .dataframe tbody tr th:only-of-type {\n        vertical-align: middle;\n    }\n\n    .dataframe tbody tr th {\n        vertical-align: top;\n    }\n\n    .dataframe thead th {\n        text-align: right;\n    }\n</style>\n<table border=\"1\" class=\"dataframe\">\n  <thead>\n    <tr style=\"text-align: right;\">\n      <th></th>\n      <th>date</th>\n      <th>high</th>\n      <th>low</th>\n      <th>open</th>\n      <th>close</th>\n      <th>volume</th>\n      <th>ticker</th>\n    </tr>\n  </thead>\n  <tbody>\n    <tr>\n      <th>0</th>\n      <td>2018-01-02</td>\n      <td>181.580002</td>\n      <td>177.550003</td>\n      <td>177.679993</td>\n      <td>181.419998</td>\n      <td>18151900.0</td>\n      <td>fb</td>\n    </tr>\n    <tr>\n      <th>1</th>\n      <td>2018-01-03</td>\n      <td>184.779999</td>\n      <td>181.330002</td>\n      <td>181.880005</td>\n      <td>184.669998</td>\n      <td>16886600.0</td>\n      <td>fb</td>\n    </tr>\n    <tr>\n      <th>2</th>\n      <td>2018-01-04</td>\n      <td>186.210007</td>\n      <td>184.100006</td>\n      <td>184.899994</td>\n      <td>184.330002</td>\n      <td>13880900.0</td>\n      <td>fb</td>\n    </tr>\n    <tr>\n      <th>3</th>\n      <td>2018-01-05</td>\n      <td>186.899994</td>\n      <td>184.929993</td>\n      <td>185.589996</td>\n      <td>186.850006</td>\n      <td>13574500.0</td>\n      <td>fb</td>\n    </tr>\n    <tr>\n      <th>4</th>\n      <td>2018-01-08</td>\n      <td>188.899994</td>\n      <td>186.330002</td>\n      <td>187.199997</td>\n      <td>188.279999</td>\n      <td>17994700.0</td>\n      <td>fb</td>\n    </tr>\n    <tr>\n      <th>5</th>\n      <td>2018-01-09</td>\n      <td>188.800003</td>\n      <td>187.100006</td>\n      <td>188.699997</td>\n      <td>187.869995</td>\n      <td>12393100.0</td>\n      <td>fb</td>\n    </tr>\n    <tr>\n      <th>6</th>\n      <td>2018-01-10</td>\n      <td>187.889999</td>\n      <td>185.630005</td>\n      <td>186.940002</td>\n      <td>187.839996</td>\n      <td>10529900.0</td>\n      <td>fb</td>\n    </tr>\n  </tbody>\n</table>\n</div>"
     },
     "execution_count": 289,
     "metadata": {},
     "output_type": "execute_result"
    }
   ],
   "source": [
    "faang.sort_values(by='volume', ascending=True)\n",
    "faang.head(7)"
   ],
   "metadata": {
    "collapsed": false,
    "pycharm": {
     "name": "#%%\n"
    }
   }
  },
  {
   "cell_type": "markdown",
   "source": [
    "# Ex. 2"
   ],
   "metadata": {
    "collapsed": false
   }
  },
  {
   "cell_type": "markdown",
   "source": [
    "a) Read in the covid19_cases.csv file."
   ],
   "metadata": {
    "collapsed": false,
    "pycharm": {
     "name": "#%% md\n"
    }
   }
  },
  {
   "cell_type": "code",
   "execution_count": 290,
   "outputs": [
    {
     "data": {
      "text/plain": "          dateRep  day  month  year  cases  deaths countriesAndTerritories  \\\n0      01/01/2020    1      1  2020      0       0               Lithuania   \n1      01/01/2020    1      1  2020      0       0                 Iceland   \n2      01/01/2020    1      1  2020      0       0                   Nepal   \n3      01/01/2020    1      1  2020      0       0              San_Marino   \n4      01/01/2020    1      1  2020      0       0                  Canada   \n...           ...  ...    ...   ...    ...     ...                     ...   \n43438  18/09/2020   18      9  2020    822       2                 Denmark   \n43439  18/09/2020   18      9  2020   4326      84                    Iraq   \n43440  18/09/2020   18      9  2020     90       0                 Bahamas   \n43441  18/09/2020   18      9  2020      0       0             Isle_of_Man   \n43442  18/09/2020   18      9  2020     34       8               Australia   \n\n      geoId countryterritoryCode  popData2019 continentExp  \\\n0        LT                  LTU    2794184.0       Europe   \n1        IS                  ISL     356991.0       Europe   \n2        NP                  NPL   28608715.0         Asia   \n3        SM                  SMR      34453.0       Europe   \n4        CA                  CAN   37411038.0      America   \n...     ...                  ...          ...          ...   \n43438    DK                  DNK    5806081.0       Europe   \n43439    IQ                  IRQ   39309789.0         Asia   \n43440    BS                  BHS     389486.0      America   \n43441    IM                  IMN      84589.0       Europe   \n43442    AU                  AUS   25203200.0      Oceania   \n\n       Cumulative_number_for_14_days_of_COVID-19_cases_per_100000  \n0                                                    NaN           \n1                                                    NaN           \n2                                                    NaN           \n3                                                    NaN           \n4                                                    NaN           \n...                                                  ...           \n43438                                          69.220529           \n43439                                         153.513925           \n43440                                         203.088173           \n43441                                           3.546560           \n43442                                           3.031361           \n\n[43443 rows x 12 columns]",
      "text/html": "<div>\n<style scoped>\n    .dataframe tbody tr th:only-of-type {\n        vertical-align: middle;\n    }\n\n    .dataframe tbody tr th {\n        vertical-align: top;\n    }\n\n    .dataframe thead th {\n        text-align: right;\n    }\n</style>\n<table border=\"1\" class=\"dataframe\">\n  <thead>\n    <tr style=\"text-align: right;\">\n      <th></th>\n      <th>dateRep</th>\n      <th>day</th>\n      <th>month</th>\n      <th>year</th>\n      <th>cases</th>\n      <th>deaths</th>\n      <th>countriesAndTerritories</th>\n      <th>geoId</th>\n      <th>countryterritoryCode</th>\n      <th>popData2019</th>\n      <th>continentExp</th>\n      <th>Cumulative_number_for_14_days_of_COVID-19_cases_per_100000</th>\n    </tr>\n  </thead>\n  <tbody>\n    <tr>\n      <th>0</th>\n      <td>01/01/2020</td>\n      <td>1</td>\n      <td>1</td>\n      <td>2020</td>\n      <td>0</td>\n      <td>0</td>\n      <td>Lithuania</td>\n      <td>LT</td>\n      <td>LTU</td>\n      <td>2794184.0</td>\n      <td>Europe</td>\n      <td>NaN</td>\n    </tr>\n    <tr>\n      <th>1</th>\n      <td>01/01/2020</td>\n      <td>1</td>\n      <td>1</td>\n      <td>2020</td>\n      <td>0</td>\n      <td>0</td>\n      <td>Iceland</td>\n      <td>IS</td>\n      <td>ISL</td>\n      <td>356991.0</td>\n      <td>Europe</td>\n      <td>NaN</td>\n    </tr>\n    <tr>\n      <th>2</th>\n      <td>01/01/2020</td>\n      <td>1</td>\n      <td>1</td>\n      <td>2020</td>\n      <td>0</td>\n      <td>0</td>\n      <td>Nepal</td>\n      <td>NP</td>\n      <td>NPL</td>\n      <td>28608715.0</td>\n      <td>Asia</td>\n      <td>NaN</td>\n    </tr>\n    <tr>\n      <th>3</th>\n      <td>01/01/2020</td>\n      <td>1</td>\n      <td>1</td>\n      <td>2020</td>\n      <td>0</td>\n      <td>0</td>\n      <td>San_Marino</td>\n      <td>SM</td>\n      <td>SMR</td>\n      <td>34453.0</td>\n      <td>Europe</td>\n      <td>NaN</td>\n    </tr>\n    <tr>\n      <th>4</th>\n      <td>01/01/2020</td>\n      <td>1</td>\n      <td>1</td>\n      <td>2020</td>\n      <td>0</td>\n      <td>0</td>\n      <td>Canada</td>\n      <td>CA</td>\n      <td>CAN</td>\n      <td>37411038.0</td>\n      <td>America</td>\n      <td>NaN</td>\n    </tr>\n    <tr>\n      <th>...</th>\n      <td>...</td>\n      <td>...</td>\n      <td>...</td>\n      <td>...</td>\n      <td>...</td>\n      <td>...</td>\n      <td>...</td>\n      <td>...</td>\n      <td>...</td>\n      <td>...</td>\n      <td>...</td>\n      <td>...</td>\n    </tr>\n    <tr>\n      <th>43438</th>\n      <td>18/09/2020</td>\n      <td>18</td>\n      <td>9</td>\n      <td>2020</td>\n      <td>822</td>\n      <td>2</td>\n      <td>Denmark</td>\n      <td>DK</td>\n      <td>DNK</td>\n      <td>5806081.0</td>\n      <td>Europe</td>\n      <td>69.220529</td>\n    </tr>\n    <tr>\n      <th>43439</th>\n      <td>18/09/2020</td>\n      <td>18</td>\n      <td>9</td>\n      <td>2020</td>\n      <td>4326</td>\n      <td>84</td>\n      <td>Iraq</td>\n      <td>IQ</td>\n      <td>IRQ</td>\n      <td>39309789.0</td>\n      <td>Asia</td>\n      <td>153.513925</td>\n    </tr>\n    <tr>\n      <th>43440</th>\n      <td>18/09/2020</td>\n      <td>18</td>\n      <td>9</td>\n      <td>2020</td>\n      <td>90</td>\n      <td>0</td>\n      <td>Bahamas</td>\n      <td>BS</td>\n      <td>BHS</td>\n      <td>389486.0</td>\n      <td>America</td>\n      <td>203.088173</td>\n    </tr>\n    <tr>\n      <th>43441</th>\n      <td>18/09/2020</td>\n      <td>18</td>\n      <td>9</td>\n      <td>2020</td>\n      <td>0</td>\n      <td>0</td>\n      <td>Isle_of_Man</td>\n      <td>IM</td>\n      <td>IMN</td>\n      <td>84589.0</td>\n      <td>Europe</td>\n      <td>3.546560</td>\n    </tr>\n    <tr>\n      <th>43442</th>\n      <td>18/09/2020</td>\n      <td>18</td>\n      <td>9</td>\n      <td>2020</td>\n      <td>34</td>\n      <td>8</td>\n      <td>Australia</td>\n      <td>AU</td>\n      <td>AUS</td>\n      <td>25203200.0</td>\n      <td>Oceania</td>\n      <td>3.031361</td>\n    </tr>\n  </tbody>\n</table>\n<p>43443 rows × 12 columns</p>\n</div>"
     },
     "execution_count": 290,
     "metadata": {},
     "output_type": "execute_result"
    }
   ],
   "source": [
    "covid = pd.read_csv('C:/Users/toduc/OneDrive - National Economics University/Desktop/NEU/Machine Learning/Visualization/Data/covid19_cases.csv', sep=',')\n",
    "covid"
   ],
   "metadata": {
    "collapsed": false,
    "pycharm": {
     "name": "#%%\n"
    }
   }
  },
  {
   "cell_type": "markdown",
   "source": [
    "b) Create a date column using the data in the dateRep column and the pd.to_datetime() function."
   ],
   "metadata": {
    "collapsed": false
   }
  },
  {
   "cell_type": "code",
   "execution_count": 291,
   "outputs": [
    {
     "data": {
      "text/plain": "       dateRep  day  month  year  cases  deaths  \\\n0   01/01/2020    1      1  2020      0       0   \n1   01/01/2020    1      1  2020      0       0   \n2   01/01/2020    1      1  2020      0       0   \n3   01/01/2020    1      1  2020      0       0   \n4   01/01/2020    1      1  2020      0       0   \n5   01/01/2020    1      1  2020      0       0   \n6   01/01/2020    1      1  2020      0       0   \n7   01/01/2020    1      1  2020      0       0   \n8   01/01/2020    1      1  2020      0       0   \n9   01/01/2020    1      1  2020      0       0   \n10  01/01/2020    1      1  2020      0       0   \n11  01/01/2020    1      1  2020      0       0   \n12  01/01/2020    1      1  2020      0       0   \n13  01/01/2020    1      1  2020      0       0   \n14  01/01/2020    1      1  2020      0       0   \n\n                       countriesAndTerritories     geoId countryterritoryCode  \\\n0                                    Lithuania        LT                  LTU   \n1                                      Iceland        IS                  ISL   \n2                                        Nepal        NP                  NPL   \n3                                   San_Marino        SM                  SMR   \n4                                       Canada        CA                  CAN   \n5                                      Czechia        CZ                  CZE   \n6                                      Finland        FI                  FIN   \n7                                      Algeria        DZ                  DZA   \n8                                      Belarus        BY                  BLR   \n9                                      Vietnam        VN                  VNM   \n10                                       India        IN                  IND   \n11                                     Armenia        AM                  ARM   \n12                                     Croatia        HR                  HRV   \n13  Cases_on_an_international_conveyance_Japan  JPG11668                  NaN   \n14                                       China        CN                  CHN   \n\n     popData2019 continentExp  \\\n0   2.794184e+06       Europe   \n1   3.569910e+05       Europe   \n2   2.860872e+07         Asia   \n3   3.445300e+04       Europe   \n4   3.741104e+07      America   \n5   1.064980e+07       Europe   \n6   5.517919e+06       Europe   \n7   4.305305e+07       Africa   \n8   9.452409e+06       Europe   \n9   9.646211e+07         Asia   \n10  1.366418e+09         Asia   \n11  2.957728e+06       Europe   \n12  4.076246e+06       Europe   \n13           NaN        Other   \n14  1.433784e+09         Asia   \n\n    Cumulative_number_for_14_days_of_COVID-19_cases_per_100000       date  \n0                                                 NaN          2020-01-01  \n1                                                 NaN          2020-01-01  \n2                                                 NaN          2020-01-01  \n3                                                 NaN          2020-01-01  \n4                                                 NaN          2020-01-01  \n5                                                 NaN          2020-01-01  \n6                                                 NaN          2020-01-01  \n7                                                 NaN          2020-01-01  \n8                                                 NaN          2020-01-01  \n9                                                 NaN          2020-01-01  \n10                                                NaN          2020-01-01  \n11                                                NaN          2020-01-01  \n12                                                NaN          2020-01-01  \n13                                                NaN          2020-01-01  \n14                                                NaN          2020-01-01  ",
      "text/html": "<div>\n<style scoped>\n    .dataframe tbody tr th:only-of-type {\n        vertical-align: middle;\n    }\n\n    .dataframe tbody tr th {\n        vertical-align: top;\n    }\n\n    .dataframe thead th {\n        text-align: right;\n    }\n</style>\n<table border=\"1\" class=\"dataframe\">\n  <thead>\n    <tr style=\"text-align: right;\">\n      <th></th>\n      <th>dateRep</th>\n      <th>day</th>\n      <th>month</th>\n      <th>year</th>\n      <th>cases</th>\n      <th>deaths</th>\n      <th>countriesAndTerritories</th>\n      <th>geoId</th>\n      <th>countryterritoryCode</th>\n      <th>popData2019</th>\n      <th>continentExp</th>\n      <th>Cumulative_number_for_14_days_of_COVID-19_cases_per_100000</th>\n      <th>date</th>\n    </tr>\n  </thead>\n  <tbody>\n    <tr>\n      <th>0</th>\n      <td>01/01/2020</td>\n      <td>1</td>\n      <td>1</td>\n      <td>2020</td>\n      <td>0</td>\n      <td>0</td>\n      <td>Lithuania</td>\n      <td>LT</td>\n      <td>LTU</td>\n      <td>2.794184e+06</td>\n      <td>Europe</td>\n      <td>NaN</td>\n      <td>2020-01-01</td>\n    </tr>\n    <tr>\n      <th>1</th>\n      <td>01/01/2020</td>\n      <td>1</td>\n      <td>1</td>\n      <td>2020</td>\n      <td>0</td>\n      <td>0</td>\n      <td>Iceland</td>\n      <td>IS</td>\n      <td>ISL</td>\n      <td>3.569910e+05</td>\n      <td>Europe</td>\n      <td>NaN</td>\n      <td>2020-01-01</td>\n    </tr>\n    <tr>\n      <th>2</th>\n      <td>01/01/2020</td>\n      <td>1</td>\n      <td>1</td>\n      <td>2020</td>\n      <td>0</td>\n      <td>0</td>\n      <td>Nepal</td>\n      <td>NP</td>\n      <td>NPL</td>\n      <td>2.860872e+07</td>\n      <td>Asia</td>\n      <td>NaN</td>\n      <td>2020-01-01</td>\n    </tr>\n    <tr>\n      <th>3</th>\n      <td>01/01/2020</td>\n      <td>1</td>\n      <td>1</td>\n      <td>2020</td>\n      <td>0</td>\n      <td>0</td>\n      <td>San_Marino</td>\n      <td>SM</td>\n      <td>SMR</td>\n      <td>3.445300e+04</td>\n      <td>Europe</td>\n      <td>NaN</td>\n      <td>2020-01-01</td>\n    </tr>\n    <tr>\n      <th>4</th>\n      <td>01/01/2020</td>\n      <td>1</td>\n      <td>1</td>\n      <td>2020</td>\n      <td>0</td>\n      <td>0</td>\n      <td>Canada</td>\n      <td>CA</td>\n      <td>CAN</td>\n      <td>3.741104e+07</td>\n      <td>America</td>\n      <td>NaN</td>\n      <td>2020-01-01</td>\n    </tr>\n    <tr>\n      <th>5</th>\n      <td>01/01/2020</td>\n      <td>1</td>\n      <td>1</td>\n      <td>2020</td>\n      <td>0</td>\n      <td>0</td>\n      <td>Czechia</td>\n      <td>CZ</td>\n      <td>CZE</td>\n      <td>1.064980e+07</td>\n      <td>Europe</td>\n      <td>NaN</td>\n      <td>2020-01-01</td>\n    </tr>\n    <tr>\n      <th>6</th>\n      <td>01/01/2020</td>\n      <td>1</td>\n      <td>1</td>\n      <td>2020</td>\n      <td>0</td>\n      <td>0</td>\n      <td>Finland</td>\n      <td>FI</td>\n      <td>FIN</td>\n      <td>5.517919e+06</td>\n      <td>Europe</td>\n      <td>NaN</td>\n      <td>2020-01-01</td>\n    </tr>\n    <tr>\n      <th>7</th>\n      <td>01/01/2020</td>\n      <td>1</td>\n      <td>1</td>\n      <td>2020</td>\n      <td>0</td>\n      <td>0</td>\n      <td>Algeria</td>\n      <td>DZ</td>\n      <td>DZA</td>\n      <td>4.305305e+07</td>\n      <td>Africa</td>\n      <td>NaN</td>\n      <td>2020-01-01</td>\n    </tr>\n    <tr>\n      <th>8</th>\n      <td>01/01/2020</td>\n      <td>1</td>\n      <td>1</td>\n      <td>2020</td>\n      <td>0</td>\n      <td>0</td>\n      <td>Belarus</td>\n      <td>BY</td>\n      <td>BLR</td>\n      <td>9.452409e+06</td>\n      <td>Europe</td>\n      <td>NaN</td>\n      <td>2020-01-01</td>\n    </tr>\n    <tr>\n      <th>9</th>\n      <td>01/01/2020</td>\n      <td>1</td>\n      <td>1</td>\n      <td>2020</td>\n      <td>0</td>\n      <td>0</td>\n      <td>Vietnam</td>\n      <td>VN</td>\n      <td>VNM</td>\n      <td>9.646211e+07</td>\n      <td>Asia</td>\n      <td>NaN</td>\n      <td>2020-01-01</td>\n    </tr>\n    <tr>\n      <th>10</th>\n      <td>01/01/2020</td>\n      <td>1</td>\n      <td>1</td>\n      <td>2020</td>\n      <td>0</td>\n      <td>0</td>\n      <td>India</td>\n      <td>IN</td>\n      <td>IND</td>\n      <td>1.366418e+09</td>\n      <td>Asia</td>\n      <td>NaN</td>\n      <td>2020-01-01</td>\n    </tr>\n    <tr>\n      <th>11</th>\n      <td>01/01/2020</td>\n      <td>1</td>\n      <td>1</td>\n      <td>2020</td>\n      <td>0</td>\n      <td>0</td>\n      <td>Armenia</td>\n      <td>AM</td>\n      <td>ARM</td>\n      <td>2.957728e+06</td>\n      <td>Europe</td>\n      <td>NaN</td>\n      <td>2020-01-01</td>\n    </tr>\n    <tr>\n      <th>12</th>\n      <td>01/01/2020</td>\n      <td>1</td>\n      <td>1</td>\n      <td>2020</td>\n      <td>0</td>\n      <td>0</td>\n      <td>Croatia</td>\n      <td>HR</td>\n      <td>HRV</td>\n      <td>4.076246e+06</td>\n      <td>Europe</td>\n      <td>NaN</td>\n      <td>2020-01-01</td>\n    </tr>\n    <tr>\n      <th>13</th>\n      <td>01/01/2020</td>\n      <td>1</td>\n      <td>1</td>\n      <td>2020</td>\n      <td>0</td>\n      <td>0</td>\n      <td>Cases_on_an_international_conveyance_Japan</td>\n      <td>JPG11668</td>\n      <td>NaN</td>\n      <td>NaN</td>\n      <td>Other</td>\n      <td>NaN</td>\n      <td>2020-01-01</td>\n    </tr>\n    <tr>\n      <th>14</th>\n      <td>01/01/2020</td>\n      <td>1</td>\n      <td>1</td>\n      <td>2020</td>\n      <td>0</td>\n      <td>0</td>\n      <td>China</td>\n      <td>CN</td>\n      <td>CHN</td>\n      <td>1.433784e+09</td>\n      <td>Asia</td>\n      <td>NaN</td>\n      <td>2020-01-01</td>\n    </tr>\n  </tbody>\n</table>\n</div>"
     },
     "execution_count": 291,
     "metadata": {},
     "output_type": "execute_result"
    }
   ],
   "source": [
    "covid['date'] = pd.to_datetime(covid['dateRep'])\n",
    "covid.head(15)"
   ],
   "metadata": {
    "collapsed": false,
    "pycharm": {
     "name": "#%%\n"
    }
   }
  },
  {
   "cell_type": "markdown",
   "source": [
    "c) Set the date column as the index and sort the index."
   ],
   "metadata": {
    "collapsed": false
   }
  },
  {
   "cell_type": "code",
   "execution_count": 292,
   "outputs": [
    {
     "data": {
      "text/plain": "          dateRep  day  month  year  cases  deaths countriesAndTerritories  \\\n0      01/01/2020    1      1  2020      0       0               Lithuania   \n36     01/01/2020    1      1  2020      0       0               Singapore   \n37     01/01/2020    1      1  2020      0       0                   Egypt   \n38     01/01/2020    1      1  2020      0       0              Azerbaijan   \n39     01/01/2020    1      1  2020      0       0             Switzerland   \n...           ...  ...    ...   ...    ...     ...                     ...   \n42053  12/09/2020   12      9  2020   1526      87                 Ecuador   \n42054  12/09/2020   12      9  2020      5       0                Thailand   \n42055  12/09/2020   12      9  2020    571       7              Uzbekistan   \n42031  12/09/2020   12      9  2020     96       2        French_Polynesia   \n42187  12/09/2020   12      9  2020     79       2                   Aruba   \n\n      geoId countryterritoryCode  popData2019 continentExp  \\\n0        LT                  LTU    2794184.0       Europe   \n36       SG                  SGP    5804343.0         Asia   \n37       EG                  EGY  100388076.0       Africa   \n38       AZ                  AZE   10047719.0       Europe   \n39       CH                  CHE    8544527.0       Europe   \n...     ...                  ...          ...          ...   \n42053    EC                  ECU   17373657.0      America   \n42054    TH                  THA   69625581.0         Asia   \n42055    UZ                  UZB   32981715.0         Asia   \n42031    PF                  PYF     279285.0      Oceania   \n42187    AW                  ABW     106310.0      America   \n\n       Cumulative_number_for_14_days_of_COVID-19_cases_per_100000       date  \n0                                                    NaN          2020-01-01  \n36                                                   NaN          2020-01-01  \n37                                                   NaN          2020-01-01  \n38                                                   NaN          2020-01-01  \n39                                                   NaN          2020-01-01  \n...                                                  ...                 ...  \n42053                                          14.913383          2020-12-09  \n42054                                           0.078994          2020-12-09  \n42055                                          16.812346          2020-12-09  \n42031                                         168.644933          2020-12-09  \n42187                                         933.120120          2020-12-09  \n\n[43443 rows x 13 columns]",
      "text/html": "<div>\n<style scoped>\n    .dataframe tbody tr th:only-of-type {\n        vertical-align: middle;\n    }\n\n    .dataframe tbody tr th {\n        vertical-align: top;\n    }\n\n    .dataframe thead th {\n        text-align: right;\n    }\n</style>\n<table border=\"1\" class=\"dataframe\">\n  <thead>\n    <tr style=\"text-align: right;\">\n      <th></th>\n      <th>dateRep</th>\n      <th>day</th>\n      <th>month</th>\n      <th>year</th>\n      <th>cases</th>\n      <th>deaths</th>\n      <th>countriesAndTerritories</th>\n      <th>geoId</th>\n      <th>countryterritoryCode</th>\n      <th>popData2019</th>\n      <th>continentExp</th>\n      <th>Cumulative_number_for_14_days_of_COVID-19_cases_per_100000</th>\n      <th>date</th>\n    </tr>\n  </thead>\n  <tbody>\n    <tr>\n      <th>0</th>\n      <td>01/01/2020</td>\n      <td>1</td>\n      <td>1</td>\n      <td>2020</td>\n      <td>0</td>\n      <td>0</td>\n      <td>Lithuania</td>\n      <td>LT</td>\n      <td>LTU</td>\n      <td>2794184.0</td>\n      <td>Europe</td>\n      <td>NaN</td>\n      <td>2020-01-01</td>\n    </tr>\n    <tr>\n      <th>36</th>\n      <td>01/01/2020</td>\n      <td>1</td>\n      <td>1</td>\n      <td>2020</td>\n      <td>0</td>\n      <td>0</td>\n      <td>Singapore</td>\n      <td>SG</td>\n      <td>SGP</td>\n      <td>5804343.0</td>\n      <td>Asia</td>\n      <td>NaN</td>\n      <td>2020-01-01</td>\n    </tr>\n    <tr>\n      <th>37</th>\n      <td>01/01/2020</td>\n      <td>1</td>\n      <td>1</td>\n      <td>2020</td>\n      <td>0</td>\n      <td>0</td>\n      <td>Egypt</td>\n      <td>EG</td>\n      <td>EGY</td>\n      <td>100388076.0</td>\n      <td>Africa</td>\n      <td>NaN</td>\n      <td>2020-01-01</td>\n    </tr>\n    <tr>\n      <th>38</th>\n      <td>01/01/2020</td>\n      <td>1</td>\n      <td>1</td>\n      <td>2020</td>\n      <td>0</td>\n      <td>0</td>\n      <td>Azerbaijan</td>\n      <td>AZ</td>\n      <td>AZE</td>\n      <td>10047719.0</td>\n      <td>Europe</td>\n      <td>NaN</td>\n      <td>2020-01-01</td>\n    </tr>\n    <tr>\n      <th>39</th>\n      <td>01/01/2020</td>\n      <td>1</td>\n      <td>1</td>\n      <td>2020</td>\n      <td>0</td>\n      <td>0</td>\n      <td>Switzerland</td>\n      <td>CH</td>\n      <td>CHE</td>\n      <td>8544527.0</td>\n      <td>Europe</td>\n      <td>NaN</td>\n      <td>2020-01-01</td>\n    </tr>\n    <tr>\n      <th>...</th>\n      <td>...</td>\n      <td>...</td>\n      <td>...</td>\n      <td>...</td>\n      <td>...</td>\n      <td>...</td>\n      <td>...</td>\n      <td>...</td>\n      <td>...</td>\n      <td>...</td>\n      <td>...</td>\n      <td>...</td>\n      <td>...</td>\n    </tr>\n    <tr>\n      <th>42053</th>\n      <td>12/09/2020</td>\n      <td>12</td>\n      <td>9</td>\n      <td>2020</td>\n      <td>1526</td>\n      <td>87</td>\n      <td>Ecuador</td>\n      <td>EC</td>\n      <td>ECU</td>\n      <td>17373657.0</td>\n      <td>America</td>\n      <td>14.913383</td>\n      <td>2020-12-09</td>\n    </tr>\n    <tr>\n      <th>42054</th>\n      <td>12/09/2020</td>\n      <td>12</td>\n      <td>9</td>\n      <td>2020</td>\n      <td>5</td>\n      <td>0</td>\n      <td>Thailand</td>\n      <td>TH</td>\n      <td>THA</td>\n      <td>69625581.0</td>\n      <td>Asia</td>\n      <td>0.078994</td>\n      <td>2020-12-09</td>\n    </tr>\n    <tr>\n      <th>42055</th>\n      <td>12/09/2020</td>\n      <td>12</td>\n      <td>9</td>\n      <td>2020</td>\n      <td>571</td>\n      <td>7</td>\n      <td>Uzbekistan</td>\n      <td>UZ</td>\n      <td>UZB</td>\n      <td>32981715.0</td>\n      <td>Asia</td>\n      <td>16.812346</td>\n      <td>2020-12-09</td>\n    </tr>\n    <tr>\n      <th>42031</th>\n      <td>12/09/2020</td>\n      <td>12</td>\n      <td>9</td>\n      <td>2020</td>\n      <td>96</td>\n      <td>2</td>\n      <td>French_Polynesia</td>\n      <td>PF</td>\n      <td>PYF</td>\n      <td>279285.0</td>\n      <td>Oceania</td>\n      <td>168.644933</td>\n      <td>2020-12-09</td>\n    </tr>\n    <tr>\n      <th>42187</th>\n      <td>12/09/2020</td>\n      <td>12</td>\n      <td>9</td>\n      <td>2020</td>\n      <td>79</td>\n      <td>2</td>\n      <td>Aruba</td>\n      <td>AW</td>\n      <td>ABW</td>\n      <td>106310.0</td>\n      <td>America</td>\n      <td>933.120120</td>\n      <td>2020-12-09</td>\n    </tr>\n  </tbody>\n</table>\n<p>43443 rows × 13 columns</p>\n</div>"
     },
     "execution_count": 292,
     "metadata": {},
     "output_type": "execute_result"
    }
   ],
   "source": [
    "covid.sort_values(by='date', ascending=True)"
   ],
   "metadata": {
    "collapsed": false,
    "pycharm": {
     "name": "#%%\n"
    }
   }
  },
  {
   "cell_type": "markdown",
   "source": [
    "d) Replace all occurrences of United_States_of_Americaand United_ Kingdom with USA and UK, respectively. Hint: the replace() method can be run on the dataframeas a whole."
   ],
   "metadata": {
    "collapsed": false
   }
  },
  {
   "cell_type": "code",
   "execution_count": 293,
   "outputs": [],
   "source": [
    "covid['countriesAndTerritories'].replace({'United_States_of_America':'USA', 'United_Kingdom':'UK'}, inplace=True)"
   ],
   "metadata": {
    "collapsed": false,
    "pycharm": {
     "name": "#%%\n"
    }
   }
  },
  {
   "cell_type": "markdown",
   "source": [
    "e) Using the countriesAndTerritoriescolumn, filter the cleaned COVID-19 cases data down to Argentina, Brazil, China, Colombia, India, Italy, Mexico, Peru, Russia, Spain, Turkey, the UK, and the USA."
   ],
   "metadata": {
    "collapsed": false
   }
  },
  {
   "cell_type": "code",
   "execution_count": 294,
   "outputs": [
    {
     "data": {
      "text/plain": "          dateRep  day  month  year  cases  deaths countriesAndTerritories  \\\n10     01/01/2020    1      1  2020      0       0                   India   \n14     01/01/2020    1      1  2020      0       0                   China   \n21     01/01/2020    1      1  2020      0       0                  Mexico   \n27     01/01/2020    1      1  2020      0       0                     USA   \n29     01/01/2020    1      1  2020      0       0                   Spain   \n...           ...  ...    ...   ...    ...     ...                     ...   \n43384  18/09/2020   18      9  2020   3395      21                      UK   \n43411  18/09/2020   18      9  2020   7568     187                Colombia   \n43418  18/09/2020   18      9  2020  43567     831                     USA   \n43428  18/09/2020   18      9  2020   1583      13                   Italy   \n43434  18/09/2020   18      9  2020  14389      90                   Spain   \n\n      geoId countryterritoryCode   popData2019 continentExp  \\\n10       IN                  IND  1.366418e+09         Asia   \n14       CN                  CHN  1.433784e+09         Asia   \n21       MX                  MEX  1.275755e+08      America   \n27       US                  USA  3.290649e+08      America   \n29       ES                  ESP  4.693706e+07       Europe   \n...     ...                  ...           ...          ...   \n43384    UK                  GBR  6.664711e+07       Europe   \n43411    CO                  COL  5.033944e+07      America   \n43418    US                  USA  3.290649e+08      America   \n43428    IT                  ITA  6.035955e+07       Europe   \n43434    ES                  ESP  4.693706e+07       Europe   \n\n       Cumulative_number_for_14_days_of_COVID-19_cases_per_100000       date  \n10                                                   NaN          2020-01-01  \n14                                                   NaN          2020-01-01  \n21                                                   NaN          2020-01-01  \n27                                                   NaN          2020-01-01  \n29                                                   NaN          2020-01-01  \n...                                                  ...                 ...  \n43384                                          61.822634          2020-09-18  \n43411                                         203.361408          2020-09-18  \n43418                                         159.179230          2020-09-18  \n43428                                          33.321987          2020-09-18  \n43434                                         300.510940          2020-09-18  \n\n[3121 rows x 13 columns]",
      "text/html": "<div>\n<style scoped>\n    .dataframe tbody tr th:only-of-type {\n        vertical-align: middle;\n    }\n\n    .dataframe tbody tr th {\n        vertical-align: top;\n    }\n\n    .dataframe thead th {\n        text-align: right;\n    }\n</style>\n<table border=\"1\" class=\"dataframe\">\n  <thead>\n    <tr style=\"text-align: right;\">\n      <th></th>\n      <th>dateRep</th>\n      <th>day</th>\n      <th>month</th>\n      <th>year</th>\n      <th>cases</th>\n      <th>deaths</th>\n      <th>countriesAndTerritories</th>\n      <th>geoId</th>\n      <th>countryterritoryCode</th>\n      <th>popData2019</th>\n      <th>continentExp</th>\n      <th>Cumulative_number_for_14_days_of_COVID-19_cases_per_100000</th>\n      <th>date</th>\n    </tr>\n  </thead>\n  <tbody>\n    <tr>\n      <th>10</th>\n      <td>01/01/2020</td>\n      <td>1</td>\n      <td>1</td>\n      <td>2020</td>\n      <td>0</td>\n      <td>0</td>\n      <td>India</td>\n      <td>IN</td>\n      <td>IND</td>\n      <td>1.366418e+09</td>\n      <td>Asia</td>\n      <td>NaN</td>\n      <td>2020-01-01</td>\n    </tr>\n    <tr>\n      <th>14</th>\n      <td>01/01/2020</td>\n      <td>1</td>\n      <td>1</td>\n      <td>2020</td>\n      <td>0</td>\n      <td>0</td>\n      <td>China</td>\n      <td>CN</td>\n      <td>CHN</td>\n      <td>1.433784e+09</td>\n      <td>Asia</td>\n      <td>NaN</td>\n      <td>2020-01-01</td>\n    </tr>\n    <tr>\n      <th>21</th>\n      <td>01/01/2020</td>\n      <td>1</td>\n      <td>1</td>\n      <td>2020</td>\n      <td>0</td>\n      <td>0</td>\n      <td>Mexico</td>\n      <td>MX</td>\n      <td>MEX</td>\n      <td>1.275755e+08</td>\n      <td>America</td>\n      <td>NaN</td>\n      <td>2020-01-01</td>\n    </tr>\n    <tr>\n      <th>27</th>\n      <td>01/01/2020</td>\n      <td>1</td>\n      <td>1</td>\n      <td>2020</td>\n      <td>0</td>\n      <td>0</td>\n      <td>USA</td>\n      <td>US</td>\n      <td>USA</td>\n      <td>3.290649e+08</td>\n      <td>America</td>\n      <td>NaN</td>\n      <td>2020-01-01</td>\n    </tr>\n    <tr>\n      <th>29</th>\n      <td>01/01/2020</td>\n      <td>1</td>\n      <td>1</td>\n      <td>2020</td>\n      <td>0</td>\n      <td>0</td>\n      <td>Spain</td>\n      <td>ES</td>\n      <td>ESP</td>\n      <td>4.693706e+07</td>\n      <td>Europe</td>\n      <td>NaN</td>\n      <td>2020-01-01</td>\n    </tr>\n    <tr>\n      <th>...</th>\n      <td>...</td>\n      <td>...</td>\n      <td>...</td>\n      <td>...</td>\n      <td>...</td>\n      <td>...</td>\n      <td>...</td>\n      <td>...</td>\n      <td>...</td>\n      <td>...</td>\n      <td>...</td>\n      <td>...</td>\n      <td>...</td>\n    </tr>\n    <tr>\n      <th>43384</th>\n      <td>18/09/2020</td>\n      <td>18</td>\n      <td>9</td>\n      <td>2020</td>\n      <td>3395</td>\n      <td>21</td>\n      <td>UK</td>\n      <td>UK</td>\n      <td>GBR</td>\n      <td>6.664711e+07</td>\n      <td>Europe</td>\n      <td>61.822634</td>\n      <td>2020-09-18</td>\n    </tr>\n    <tr>\n      <th>43411</th>\n      <td>18/09/2020</td>\n      <td>18</td>\n      <td>9</td>\n      <td>2020</td>\n      <td>7568</td>\n      <td>187</td>\n      <td>Colombia</td>\n      <td>CO</td>\n      <td>COL</td>\n      <td>5.033944e+07</td>\n      <td>America</td>\n      <td>203.361408</td>\n      <td>2020-09-18</td>\n    </tr>\n    <tr>\n      <th>43418</th>\n      <td>18/09/2020</td>\n      <td>18</td>\n      <td>9</td>\n      <td>2020</td>\n      <td>43567</td>\n      <td>831</td>\n      <td>USA</td>\n      <td>US</td>\n      <td>USA</td>\n      <td>3.290649e+08</td>\n      <td>America</td>\n      <td>159.179230</td>\n      <td>2020-09-18</td>\n    </tr>\n    <tr>\n      <th>43428</th>\n      <td>18/09/2020</td>\n      <td>18</td>\n      <td>9</td>\n      <td>2020</td>\n      <td>1583</td>\n      <td>13</td>\n      <td>Italy</td>\n      <td>IT</td>\n      <td>ITA</td>\n      <td>6.035955e+07</td>\n      <td>Europe</td>\n      <td>33.321987</td>\n      <td>2020-09-18</td>\n    </tr>\n    <tr>\n      <th>43434</th>\n      <td>18/09/2020</td>\n      <td>18</td>\n      <td>9</td>\n      <td>2020</td>\n      <td>14389</td>\n      <td>90</td>\n      <td>Spain</td>\n      <td>ES</td>\n      <td>ESP</td>\n      <td>4.693706e+07</td>\n      <td>Europe</td>\n      <td>300.510940</td>\n      <td>2020-09-18</td>\n    </tr>\n  </tbody>\n</table>\n<p>3121 rows × 13 columns</p>\n</div>"
     },
     "execution_count": 294,
     "metadata": {},
     "output_type": "execute_result"
    }
   ],
   "source": [
    "covid[covid['countriesAndTerritories'].isin(['Argentina', 'Brazil', 'China', 'Colombia', 'India', 'Italy', 'Mexico'\n",
    "    , 'Peru', 'Russia', 'Spain', 'Turkey', 'UK', 'USA'])]"
   ],
   "metadata": {
    "collapsed": false,
    "pycharm": {
     "name": "#%%\n"
    }
   }
  },
  {
   "cell_type": "markdown",
   "source": [
    "f) Pivot the data so that the index contains the dates, the columns contain the country names, and the values are the case\n",
    " counts (the cases column). Be sure to fill in NaNvalues with 0."
   ],
   "metadata": {
    "collapsed": false,
    "pycharm": {
     "name": "#%% md\n"
    }
   }
  },
  {
   "cell_type": "code",
   "execution_count": 295,
   "outputs": [
    {
     "data": {
      "text/plain": "countriesAndTerritories  Afghanistan  Albania  Algeria  Andorra  Angola  \\\ndate                                                                      \n2020-01-01                       0.0      NaN      0.0      NaN     NaN   \n2020-01-02                       0.0      NaN      0.0      NaN     NaN   \n2020-01-03                       0.0      NaN      2.0      NaN     NaN   \n2020-01-04                      25.0     20.0    132.0      6.0     0.0   \n2020-01-05                     222.0      7.0    158.0      2.0     0.0   \n...                              ...      ...      ...      ...     ...   \n2020-12-05                     285.0      4.0    168.0      1.0     0.0   \n2020-12-06                     747.0     44.0    105.0      0.0     5.0   \n2020-12-07                      85.0     93.0    470.0      0.0    25.0   \n2020-12-08                     215.0    140.0    492.0      0.0     7.0   \n2020-12-09                      34.0    161.0    264.0     43.0   125.0   \n\ncountriesAndTerritories  Anguilla  Antigua_and_Barbuda  Argentina  Armenia  \\\ndate                                                                         \n2020-01-01                    NaN                  NaN        NaN      0.0   \n2020-01-02                    NaN                  NaN        NaN      0.0   \n2020-01-03                    NaN                  NaN        NaN      1.0   \n2020-01-04                    0.0                  0.0        0.0     39.0   \n2020-01-05                    0.0                  0.0      143.0     82.0   \n...                           ...                  ...        ...      ...   \n2020-12-05                    0.0                  0.0      245.0    146.0   \n2020-12-06                    0.0                  0.0     1373.0    612.0   \n2020-12-07                    0.0                  0.0     3367.0    577.0   \n2020-12-08                    0.0                  0.0     7369.0    160.0   \n2020-12-09                    0.0                  0.0    11905.0    177.0   \n\ncountriesAndTerritories  Aruba  ...  United_Republic_of_Tanzania  \\\ndate                            ...                                \n2020-01-01                 NaN  ...                          NaN   \n2020-01-02                 NaN  ...                          NaN   \n2020-01-03                 NaN  ...                          NaN   \n2020-01-04                 5.0  ...                          0.0   \n2020-01-05                 0.0  ...                          0.0   \n...                        ...  ...                          ...   \n2020-12-05                 0.0  ...                          0.0   \n2020-12-06                 0.0  ...                          0.0   \n2020-12-07                 0.0  ...                          0.0   \n2020-12-08                87.0  ...                          0.0   \n2020-12-09                79.0  ...                          0.0   \n\ncountriesAndTerritories  United_States_Virgin_Islands  Uruguay  Uzbekistan  \\\ndate                                                                         \n2020-01-01                                        NaN      NaN         NaN   \n2020-01-02                                        NaN      NaN         NaN   \n2020-01-03                                        NaN      NaN         NaN   \n2020-01-04                                        0.0      6.0        24.0   \n2020-01-05                                        0.0     13.0        44.0   \n...                                               ...      ...         ...   \n2020-12-05                                        0.0      4.0        91.0   \n2020-12-06                                        0.0      0.0       124.0   \n2020-12-07                                       14.0      1.0       307.0   \n2020-12-08                                       92.0     21.0       670.0   \n2020-12-09                                        0.0     14.0       571.0   \n\ncountriesAndTerritories  Venezuela  Vietnam  Western_Sahara  Yemen  Zambia  \\\ndate                                                                         \n2020-01-01                     NaN      0.0             NaN    NaN     NaN   \n2020-01-02                     NaN      0.0             NaN    NaN     NaN   \n2020-01-03                     NaN      0.0             NaN    NaN     NaN   \n2020-01-04                     0.0      6.0             NaN    NaN     0.0   \n2020-01-05                     2.0      0.0             0.0    0.0     9.0   \n...                            ...      ...             ...    ...     ...   \n2020-12-05                     8.0      0.0             0.0    5.0     0.0   \n2020-12-06                    76.0      0.0             0.0   31.0     0.0   \n2020-12-07                   375.0      0.0             0.0    9.0     0.0   \n2020-12-08                  2133.0     20.0             0.0    0.0    65.0   \n2020-12-09                   840.0      1.0             0.0    4.0   109.0   \n\ncountriesAndTerritories  Zimbabwe  \ndate                               \n2020-01-01                    NaN  \n2020-01-02                    NaN  \n2020-01-03                    NaN  \n2020-01-04                    1.0  \n2020-01-05                    0.0  \n...                           ...  \n2020-12-05                    1.0  \n2020-12-06                   12.0  \n2020-12-07                   40.0  \n2020-12-08                   70.0  \n2020-12-09                   26.0  \n\n[262 rows x 210 columns]",
      "text/html": "<div>\n<style scoped>\n    .dataframe tbody tr th:only-of-type {\n        vertical-align: middle;\n    }\n\n    .dataframe tbody tr th {\n        vertical-align: top;\n    }\n\n    .dataframe thead th {\n        text-align: right;\n    }\n</style>\n<table border=\"1\" class=\"dataframe\">\n  <thead>\n    <tr style=\"text-align: right;\">\n      <th>countriesAndTerritories</th>\n      <th>Afghanistan</th>\n      <th>Albania</th>\n      <th>Algeria</th>\n      <th>Andorra</th>\n      <th>Angola</th>\n      <th>Anguilla</th>\n      <th>Antigua_and_Barbuda</th>\n      <th>Argentina</th>\n      <th>Armenia</th>\n      <th>Aruba</th>\n      <th>...</th>\n      <th>United_Republic_of_Tanzania</th>\n      <th>United_States_Virgin_Islands</th>\n      <th>Uruguay</th>\n      <th>Uzbekistan</th>\n      <th>Venezuela</th>\n      <th>Vietnam</th>\n      <th>Western_Sahara</th>\n      <th>Yemen</th>\n      <th>Zambia</th>\n      <th>Zimbabwe</th>\n    </tr>\n    <tr>\n      <th>date</th>\n      <th></th>\n      <th></th>\n      <th></th>\n      <th></th>\n      <th></th>\n      <th></th>\n      <th></th>\n      <th></th>\n      <th></th>\n      <th></th>\n      <th></th>\n      <th></th>\n      <th></th>\n      <th></th>\n      <th></th>\n      <th></th>\n      <th></th>\n      <th></th>\n      <th></th>\n      <th></th>\n      <th></th>\n    </tr>\n  </thead>\n  <tbody>\n    <tr>\n      <th>2020-01-01</th>\n      <td>0.0</td>\n      <td>NaN</td>\n      <td>0.0</td>\n      <td>NaN</td>\n      <td>NaN</td>\n      <td>NaN</td>\n      <td>NaN</td>\n      <td>NaN</td>\n      <td>0.0</td>\n      <td>NaN</td>\n      <td>...</td>\n      <td>NaN</td>\n      <td>NaN</td>\n      <td>NaN</td>\n      <td>NaN</td>\n      <td>NaN</td>\n      <td>0.0</td>\n      <td>NaN</td>\n      <td>NaN</td>\n      <td>NaN</td>\n      <td>NaN</td>\n    </tr>\n    <tr>\n      <th>2020-01-02</th>\n      <td>0.0</td>\n      <td>NaN</td>\n      <td>0.0</td>\n      <td>NaN</td>\n      <td>NaN</td>\n      <td>NaN</td>\n      <td>NaN</td>\n      <td>NaN</td>\n      <td>0.0</td>\n      <td>NaN</td>\n      <td>...</td>\n      <td>NaN</td>\n      <td>NaN</td>\n      <td>NaN</td>\n      <td>NaN</td>\n      <td>NaN</td>\n      <td>0.0</td>\n      <td>NaN</td>\n      <td>NaN</td>\n      <td>NaN</td>\n      <td>NaN</td>\n    </tr>\n    <tr>\n      <th>2020-01-03</th>\n      <td>0.0</td>\n      <td>NaN</td>\n      <td>2.0</td>\n      <td>NaN</td>\n      <td>NaN</td>\n      <td>NaN</td>\n      <td>NaN</td>\n      <td>NaN</td>\n      <td>1.0</td>\n      <td>NaN</td>\n      <td>...</td>\n      <td>NaN</td>\n      <td>NaN</td>\n      <td>NaN</td>\n      <td>NaN</td>\n      <td>NaN</td>\n      <td>0.0</td>\n      <td>NaN</td>\n      <td>NaN</td>\n      <td>NaN</td>\n      <td>NaN</td>\n    </tr>\n    <tr>\n      <th>2020-01-04</th>\n      <td>25.0</td>\n      <td>20.0</td>\n      <td>132.0</td>\n      <td>6.0</td>\n      <td>0.0</td>\n      <td>0.0</td>\n      <td>0.0</td>\n      <td>0.0</td>\n      <td>39.0</td>\n      <td>5.0</td>\n      <td>...</td>\n      <td>0.0</td>\n      <td>0.0</td>\n      <td>6.0</td>\n      <td>24.0</td>\n      <td>0.0</td>\n      <td>6.0</td>\n      <td>NaN</td>\n      <td>NaN</td>\n      <td>0.0</td>\n      <td>1.0</td>\n    </tr>\n    <tr>\n      <th>2020-01-05</th>\n      <td>222.0</td>\n      <td>7.0</td>\n      <td>158.0</td>\n      <td>2.0</td>\n      <td>0.0</td>\n      <td>0.0</td>\n      <td>0.0</td>\n      <td>143.0</td>\n      <td>82.0</td>\n      <td>0.0</td>\n      <td>...</td>\n      <td>0.0</td>\n      <td>0.0</td>\n      <td>13.0</td>\n      <td>44.0</td>\n      <td>2.0</td>\n      <td>0.0</td>\n      <td>0.0</td>\n      <td>0.0</td>\n      <td>9.0</td>\n      <td>0.0</td>\n    </tr>\n    <tr>\n      <th>...</th>\n      <td>...</td>\n      <td>...</td>\n      <td>...</td>\n      <td>...</td>\n      <td>...</td>\n      <td>...</td>\n      <td>...</td>\n      <td>...</td>\n      <td>...</td>\n      <td>...</td>\n      <td>...</td>\n      <td>...</td>\n      <td>...</td>\n      <td>...</td>\n      <td>...</td>\n      <td>...</td>\n      <td>...</td>\n      <td>...</td>\n      <td>...</td>\n      <td>...</td>\n      <td>...</td>\n    </tr>\n    <tr>\n      <th>2020-12-05</th>\n      <td>285.0</td>\n      <td>4.0</td>\n      <td>168.0</td>\n      <td>1.0</td>\n      <td>0.0</td>\n      <td>0.0</td>\n      <td>0.0</td>\n      <td>245.0</td>\n      <td>146.0</td>\n      <td>0.0</td>\n      <td>...</td>\n      <td>0.0</td>\n      <td>0.0</td>\n      <td>4.0</td>\n      <td>91.0</td>\n      <td>8.0</td>\n      <td>0.0</td>\n      <td>0.0</td>\n      <td>5.0</td>\n      <td>0.0</td>\n      <td>1.0</td>\n    </tr>\n    <tr>\n      <th>2020-12-06</th>\n      <td>747.0</td>\n      <td>44.0</td>\n      <td>105.0</td>\n      <td>0.0</td>\n      <td>5.0</td>\n      <td>0.0</td>\n      <td>0.0</td>\n      <td>1373.0</td>\n      <td>612.0</td>\n      <td>0.0</td>\n      <td>...</td>\n      <td>0.0</td>\n      <td>0.0</td>\n      <td>0.0</td>\n      <td>124.0</td>\n      <td>76.0</td>\n      <td>0.0</td>\n      <td>0.0</td>\n      <td>31.0</td>\n      <td>0.0</td>\n      <td>12.0</td>\n    </tr>\n    <tr>\n      <th>2020-12-07</th>\n      <td>85.0</td>\n      <td>93.0</td>\n      <td>470.0</td>\n      <td>0.0</td>\n      <td>25.0</td>\n      <td>0.0</td>\n      <td>0.0</td>\n      <td>3367.0</td>\n      <td>577.0</td>\n      <td>0.0</td>\n      <td>...</td>\n      <td>0.0</td>\n      <td>14.0</td>\n      <td>1.0</td>\n      <td>307.0</td>\n      <td>375.0</td>\n      <td>0.0</td>\n      <td>0.0</td>\n      <td>9.0</td>\n      <td>0.0</td>\n      <td>40.0</td>\n    </tr>\n    <tr>\n      <th>2020-12-08</th>\n      <td>215.0</td>\n      <td>140.0</td>\n      <td>492.0</td>\n      <td>0.0</td>\n      <td>7.0</td>\n      <td>0.0</td>\n      <td>0.0</td>\n      <td>7369.0</td>\n      <td>160.0</td>\n      <td>87.0</td>\n      <td>...</td>\n      <td>0.0</td>\n      <td>92.0</td>\n      <td>21.0</td>\n      <td>670.0</td>\n      <td>2133.0</td>\n      <td>20.0</td>\n      <td>0.0</td>\n      <td>0.0</td>\n      <td>65.0</td>\n      <td>70.0</td>\n    </tr>\n    <tr>\n      <th>2020-12-09</th>\n      <td>34.0</td>\n      <td>161.0</td>\n      <td>264.0</td>\n      <td>43.0</td>\n      <td>125.0</td>\n      <td>0.0</td>\n      <td>0.0</td>\n      <td>11905.0</td>\n      <td>177.0</td>\n      <td>79.0</td>\n      <td>...</td>\n      <td>0.0</td>\n      <td>0.0</td>\n      <td>14.0</td>\n      <td>571.0</td>\n      <td>840.0</td>\n      <td>1.0</td>\n      <td>0.0</td>\n      <td>4.0</td>\n      <td>109.0</td>\n      <td>26.0</td>\n    </tr>\n  </tbody>\n</table>\n<p>262 rows × 210 columns</p>\n</div>"
     },
     "execution_count": 295,
     "metadata": {},
     "output_type": "execute_result"
    }
   ],
   "source": [
    "pivot = covid.pivot(index = 'date', columns='countriesAndTerritories', values='cases')\n",
    "pivot\n",
    "\n"
   ],
   "metadata": {
    "collapsed": false,
    "pycharm": {
     "name": "#%%\n"
    }
   }
  }
 ],
 "metadata": {
  "kernelspec": {
   "name": "pycharm-eaa1fcfe",
   "language": "python",
   "display_name": "PyCharm (Data-preparation)"
  },
  "language_info": {
   "codemirror_mode": {
    "name": "ipython",
    "version": 2
   },
   "file_extension": ".py",
   "mimetype": "text/x-python",
   "name": "python",
   "nbconvert_exporter": "python",
   "pygments_lexer": "ipython2",
   "version": "2.7.6"
  }
 },
 "nbformat": 4,
 "nbformat_minor": 0
}