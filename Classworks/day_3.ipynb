{
 "cells": [
  {
   "cell_type": "code",
   "execution_count": 3,
   "metadata": {
    "collapsed": true
   },
   "outputs": [],
   "source": [
    "import pandas as pd"
   ]
  },
  {
   "cell_type": "code",
   "execution_count": 4,
   "outputs": [
    {
     "data": {
      "text/plain": "    alert        type                                              title  \\\n0     NaN  earthquake  M 5.0 - 165km NNW of Flying Fish Cove, Christm...   \n1   green  earthquake            M 6.7 - 262km NW of Ozernovskiy, Russia   \n2   green  earthquake        M 5.6 - 128km SE of Kimbe, Papua New Guinea   \n3   green  earthquake         M 6.5 - 148km S of Severo-Kuril'sk, Russia   \n4   green  earthquake        M 6.2 - 94km SW of Kokopo, Papua New Guinea   \n..    ...         ...                                                ...   \n56    NaN  earthquake         M 5.4 - 228km S of Taron, Papua New Guinea   \n57    NaN  earthquake       M 5.1 - 278km SE of Pondaguitan, Philippines   \n58  green  earthquake               M 5.1 - 64km SSW of Kaktovik, Alaska   \n59    NaN  earthquake                M 5.2 - 126km N of Dili, East Timor   \n60    NaN  earthquake   M 5.1 - 34km NW of Finschhafen, Papua New Guinea   \n\n                                              place magType  mag  \\\n0   165km NNW of Flying Fish Cove, Christmas Island     mww  5.0   \n1                   262km NW of Ozernovskiy, Russia     mww  6.7   \n2               128km SE of Kimbe, Papua New Guinea     mww  5.6   \n3                148km S of Severo-Kuril'sk, Russia     mww  6.5   \n4               94km SW of Kokopo, Papua New Guinea     mww  6.2   \n..                                              ...     ...  ...   \n56               228km S of Taron, Papua New Guinea      mb  5.4   \n57             278km SE of Pondaguitan, Philippines      mb  5.1   \n58                     64km SSW of Kaktovik, Alaska      ml  5.1   \n59                      126km N of Dili, East Timor      mb  5.2   \n60         34km NW of Finschhafen, Papua New Guinea      mb  5.1   \n\n             time  \n0   1539459504090  \n1   1539429023560  \n2   1539312723620  \n3   1539213362130  \n4   1539208835130  \n..            ...  \n56  1537427126700  \n57  1537411002190  \n58  1537274456960  \n59  1537262729590  \n60  1537236235470  \n\n[61 rows x 7 columns]",
      "text/html": "<div>\n<style scoped>\n    .dataframe tbody tr th:only-of-type {\n        vertical-align: middle;\n    }\n\n    .dataframe tbody tr th {\n        vertical-align: top;\n    }\n\n    .dataframe thead th {\n        text-align: right;\n    }\n</style>\n<table border=\"1\" class=\"dataframe\">\n  <thead>\n    <tr style=\"text-align: right;\">\n      <th></th>\n      <th>alert</th>\n      <th>type</th>\n      <th>title</th>\n      <th>place</th>\n      <th>magType</th>\n      <th>mag</th>\n      <th>time</th>\n    </tr>\n  </thead>\n  <tbody>\n    <tr>\n      <th>0</th>\n      <td>NaN</td>\n      <td>earthquake</td>\n      <td>M 5.0 - 165km NNW of Flying Fish Cove, Christm...</td>\n      <td>165km NNW of Flying Fish Cove, Christmas Island</td>\n      <td>mww</td>\n      <td>5.0</td>\n      <td>1539459504090</td>\n    </tr>\n    <tr>\n      <th>1</th>\n      <td>green</td>\n      <td>earthquake</td>\n      <td>M 6.7 - 262km NW of Ozernovskiy, Russia</td>\n      <td>262km NW of Ozernovskiy, Russia</td>\n      <td>mww</td>\n      <td>6.7</td>\n      <td>1539429023560</td>\n    </tr>\n    <tr>\n      <th>2</th>\n      <td>green</td>\n      <td>earthquake</td>\n      <td>M 5.6 - 128km SE of Kimbe, Papua New Guinea</td>\n      <td>128km SE of Kimbe, Papua New Guinea</td>\n      <td>mww</td>\n      <td>5.6</td>\n      <td>1539312723620</td>\n    </tr>\n    <tr>\n      <th>3</th>\n      <td>green</td>\n      <td>earthquake</td>\n      <td>M 6.5 - 148km S of Severo-Kuril'sk, Russia</td>\n      <td>148km S of Severo-Kuril'sk, Russia</td>\n      <td>mww</td>\n      <td>6.5</td>\n      <td>1539213362130</td>\n    </tr>\n    <tr>\n      <th>4</th>\n      <td>green</td>\n      <td>earthquake</td>\n      <td>M 6.2 - 94km SW of Kokopo, Papua New Guinea</td>\n      <td>94km SW of Kokopo, Papua New Guinea</td>\n      <td>mww</td>\n      <td>6.2</td>\n      <td>1539208835130</td>\n    </tr>\n    <tr>\n      <th>...</th>\n      <td>...</td>\n      <td>...</td>\n      <td>...</td>\n      <td>...</td>\n      <td>...</td>\n      <td>...</td>\n      <td>...</td>\n    </tr>\n    <tr>\n      <th>56</th>\n      <td>NaN</td>\n      <td>earthquake</td>\n      <td>M 5.4 - 228km S of Taron, Papua New Guinea</td>\n      <td>228km S of Taron, Papua New Guinea</td>\n      <td>mb</td>\n      <td>5.4</td>\n      <td>1537427126700</td>\n    </tr>\n    <tr>\n      <th>57</th>\n      <td>NaN</td>\n      <td>earthquake</td>\n      <td>M 5.1 - 278km SE of Pondaguitan, Philippines</td>\n      <td>278km SE of Pondaguitan, Philippines</td>\n      <td>mb</td>\n      <td>5.1</td>\n      <td>1537411002190</td>\n    </tr>\n    <tr>\n      <th>58</th>\n      <td>green</td>\n      <td>earthquake</td>\n      <td>M 5.1 - 64km SSW of Kaktovik, Alaska</td>\n      <td>64km SSW of Kaktovik, Alaska</td>\n      <td>ml</td>\n      <td>5.1</td>\n      <td>1537274456960</td>\n    </tr>\n    <tr>\n      <th>59</th>\n      <td>NaN</td>\n      <td>earthquake</td>\n      <td>M 5.2 - 126km N of Dili, East Timor</td>\n      <td>126km N of Dili, East Timor</td>\n      <td>mb</td>\n      <td>5.2</td>\n      <td>1537262729590</td>\n    </tr>\n    <tr>\n      <th>60</th>\n      <td>NaN</td>\n      <td>earthquake</td>\n      <td>M 5.1 - 34km NW of Finschhafen, Papua New Guinea</td>\n      <td>34km NW of Finschhafen, Papua New Guinea</td>\n      <td>mb</td>\n      <td>5.1</td>\n      <td>1537236235470</td>\n    </tr>\n  </tbody>\n</table>\n<p>61 rows × 7 columns</p>\n</div>"
     },
     "execution_count": 4,
     "metadata": {},
     "output_type": "execute_result"
    }
   ],
   "source": [
    "data = pd.read_csv('C:/Users/toduc/OneDrive - National Economics University/Desktop/NEU/Machine Learning/Visualization/Data/tsunamis.csv', sep=',')\n",
    "data"
   ],
   "metadata": {
    "collapsed": false,
    "pycharm": {
     "name": "#%%\n"
    }
   }
  },
  {
   "cell_type": "code",
   "execution_count": 5,
   "outputs": [
    {
     "data": {
      "text/plain": "   alert        type                                              title  \\\n0    NaN  earthquake  M 5.0 - 165km NNW of Flying Fish Cove, Christm...   \n1  green  earthquake            M 6.7 - 262km NW of Ozernovskiy, Russia   \n2  green  earthquake        M 5.6 - 128km SE of Kimbe, Papua New Guinea   \n3  green  earthquake         M 6.5 - 148km S of Severo-Kuril'sk, Russia   \n4  green  earthquake        M 6.2 - 94km SW of Kokopo, Papua New Guinea   \n\n                                             place magType  mag           time  \n0  165km NNW of Flying Fish Cove, Christmas Island     mww  5.0  1539459504090  \n1                  262km NW of Ozernovskiy, Russia     mww  6.7  1539429023560  \n2              128km SE of Kimbe, Papua New Guinea     mww  5.6  1539312723620  \n3               148km S of Severo-Kuril'sk, Russia     mww  6.5  1539213362130  \n4              94km SW of Kokopo, Papua New Guinea     mww  6.2  1539208835130  ",
      "text/html": "<div>\n<style scoped>\n    .dataframe tbody tr th:only-of-type {\n        vertical-align: middle;\n    }\n\n    .dataframe tbody tr th {\n        vertical-align: top;\n    }\n\n    .dataframe thead th {\n        text-align: right;\n    }\n</style>\n<table border=\"1\" class=\"dataframe\">\n  <thead>\n    <tr style=\"text-align: right;\">\n      <th></th>\n      <th>alert</th>\n      <th>type</th>\n      <th>title</th>\n      <th>place</th>\n      <th>magType</th>\n      <th>mag</th>\n      <th>time</th>\n    </tr>\n  </thead>\n  <tbody>\n    <tr>\n      <th>0</th>\n      <td>NaN</td>\n      <td>earthquake</td>\n      <td>M 5.0 - 165km NNW of Flying Fish Cove, Christm...</td>\n      <td>165km NNW of Flying Fish Cove, Christmas Island</td>\n      <td>mww</td>\n      <td>5.0</td>\n      <td>1539459504090</td>\n    </tr>\n    <tr>\n      <th>1</th>\n      <td>green</td>\n      <td>earthquake</td>\n      <td>M 6.7 - 262km NW of Ozernovskiy, Russia</td>\n      <td>262km NW of Ozernovskiy, Russia</td>\n      <td>mww</td>\n      <td>6.7</td>\n      <td>1539429023560</td>\n    </tr>\n    <tr>\n      <th>2</th>\n      <td>green</td>\n      <td>earthquake</td>\n      <td>M 5.6 - 128km SE of Kimbe, Papua New Guinea</td>\n      <td>128km SE of Kimbe, Papua New Guinea</td>\n      <td>mww</td>\n      <td>5.6</td>\n      <td>1539312723620</td>\n    </tr>\n    <tr>\n      <th>3</th>\n      <td>green</td>\n      <td>earthquake</td>\n      <td>M 6.5 - 148km S of Severo-Kuril'sk, Russia</td>\n      <td>148km S of Severo-Kuril'sk, Russia</td>\n      <td>mww</td>\n      <td>6.5</td>\n      <td>1539213362130</td>\n    </tr>\n    <tr>\n      <th>4</th>\n      <td>green</td>\n      <td>earthquake</td>\n      <td>M 6.2 - 94km SW of Kokopo, Papua New Guinea</td>\n      <td>94km SW of Kokopo, Papua New Guinea</td>\n      <td>mww</td>\n      <td>6.2</td>\n      <td>1539208835130</td>\n    </tr>\n  </tbody>\n</table>\n</div>"
     },
     "execution_count": 5,
     "metadata": {},
     "output_type": "execute_result"
    }
   ],
   "source": [
    "data.head(3)"
   ],
   "metadata": {
    "collapsed": false,
    "pycharm": {
     "name": "#%%\n"
    }
   }
  },
  {
   "cell_type": "code",
   "execution_count": 8,
   "outputs": [
    {
     "data": {
      "text/plain": "    alert        type                                             title  \\\n56    NaN  earthquake        M 5.4 - 228km S of Taron, Papua New Guinea   \n57    NaN  earthquake      M 5.1 - 278km SE of Pondaguitan, Philippines   \n58  green  earthquake              M 5.1 - 64km SSW of Kaktovik, Alaska   \n59    NaN  earthquake               M 5.2 - 126km N of Dili, East Timor   \n60    NaN  earthquake  M 5.1 - 34km NW of Finschhafen, Papua New Guinea   \n\n                                       place magType  mag           time  \n56        228km S of Taron, Papua New Guinea      mb  5.4  1537427126700  \n57      278km SE of Pondaguitan, Philippines      mb  5.1  1537411002190  \n58              64km SSW of Kaktovik, Alaska      ml  5.1  1537274456960  \n59               126km N of Dili, East Timor      mb  5.2  1537262729590  \n60  34km NW of Finschhafen, Papua New Guinea      mb  5.1  1537236235470  ",
      "text/html": "<div>\n<style scoped>\n    .dataframe tbody tr th:only-of-type {\n        vertical-align: middle;\n    }\n\n    .dataframe tbody tr th {\n        vertical-align: top;\n    }\n\n    .dataframe thead th {\n        text-align: right;\n    }\n</style>\n<table border=\"1\" class=\"dataframe\">\n  <thead>\n    <tr style=\"text-align: right;\">\n      <th></th>\n      <th>alert</th>\n      <th>type</th>\n      <th>title</th>\n      <th>place</th>\n      <th>magType</th>\n      <th>mag</th>\n      <th>time</th>\n    </tr>\n  </thead>\n  <tbody>\n    <tr>\n      <th>56</th>\n      <td>NaN</td>\n      <td>earthquake</td>\n      <td>M 5.4 - 228km S of Taron, Papua New Guinea</td>\n      <td>228km S of Taron, Papua New Guinea</td>\n      <td>mb</td>\n      <td>5.4</td>\n      <td>1537427126700</td>\n    </tr>\n    <tr>\n      <th>57</th>\n      <td>NaN</td>\n      <td>earthquake</td>\n      <td>M 5.1 - 278km SE of Pondaguitan, Philippines</td>\n      <td>278km SE of Pondaguitan, Philippines</td>\n      <td>mb</td>\n      <td>5.1</td>\n      <td>1537411002190</td>\n    </tr>\n    <tr>\n      <th>58</th>\n      <td>green</td>\n      <td>earthquake</td>\n      <td>M 5.1 - 64km SSW of Kaktovik, Alaska</td>\n      <td>64km SSW of Kaktovik, Alaska</td>\n      <td>ml</td>\n      <td>5.1</td>\n      <td>1537274456960</td>\n    </tr>\n    <tr>\n      <th>59</th>\n      <td>NaN</td>\n      <td>earthquake</td>\n      <td>M 5.2 - 126km N of Dili, East Timor</td>\n      <td>126km N of Dili, East Timor</td>\n      <td>mb</td>\n      <td>5.2</td>\n      <td>1537262729590</td>\n    </tr>\n    <tr>\n      <th>60</th>\n      <td>NaN</td>\n      <td>earthquake</td>\n      <td>M 5.1 - 34km NW of Finschhafen, Papua New Guinea</td>\n      <td>34km NW of Finschhafen, Papua New Guinea</td>\n      <td>mb</td>\n      <td>5.1</td>\n      <td>1537236235470</td>\n    </tr>\n  </tbody>\n</table>\n</div>"
     },
     "execution_count": 8,
     "metadata": {},
     "output_type": "execute_result"
    }
   ],
   "source": [
    "data.tail()"
   ],
   "metadata": {
    "collapsed": false,
    "pycharm": {
     "name": "#%%\n"
    }
   }
  },
  {
   "cell_type": "code",
   "execution_count": 7,
   "outputs": [
    {
     "data": {
      "text/plain": "             mag          time\ncount  61.000000  6.100000e+01\nmean    5.358033  1.538420e+12\nstd     0.675741  5.569586e+08\nmin     3.830000  1.537236e+12\n25%     5.000000  1.538130e+12\n50%     5.200000  1.538305e+12\n75%     5.700000  1.538904e+12\nmax     7.500000  1.539460e+12",
      "text/html": "<div>\n<style scoped>\n    .dataframe tbody tr th:only-of-type {\n        vertical-align: middle;\n    }\n\n    .dataframe tbody tr th {\n        vertical-align: top;\n    }\n\n    .dataframe thead th {\n        text-align: right;\n    }\n</style>\n<table border=\"1\" class=\"dataframe\">\n  <thead>\n    <tr style=\"text-align: right;\">\n      <th></th>\n      <th>mag</th>\n      <th>time</th>\n    </tr>\n  </thead>\n  <tbody>\n    <tr>\n      <th>count</th>\n      <td>61.000000</td>\n      <td>6.100000e+01</td>\n    </tr>\n    <tr>\n      <th>mean</th>\n      <td>5.358033</td>\n      <td>1.538420e+12</td>\n    </tr>\n    <tr>\n      <th>std</th>\n      <td>0.675741</td>\n      <td>5.569586e+08</td>\n    </tr>\n    <tr>\n      <th>min</th>\n      <td>3.830000</td>\n      <td>1.537236e+12</td>\n    </tr>\n    <tr>\n      <th>25%</th>\n      <td>5.000000</td>\n      <td>1.538130e+12</td>\n    </tr>\n    <tr>\n      <th>50%</th>\n      <td>5.200000</td>\n      <td>1.538305e+12</td>\n    </tr>\n    <tr>\n      <th>75%</th>\n      <td>5.700000</td>\n      <td>1.538904e+12</td>\n    </tr>\n    <tr>\n      <th>max</th>\n      <td>7.500000</td>\n      <td>1.539460e+12</td>\n    </tr>\n  </tbody>\n</table>\n</div>"
     },
     "execution_count": 7,
     "metadata": {},
     "output_type": "execute_result"
    }
   ],
   "source": [
    "data.describe()"
   ],
   "metadata": {
    "collapsed": false,
    "pycharm": {
     "name": "#%%\n"
    }
   }
  },
  {
   "cell_type": "code",
   "execution_count": 6,
   "outputs": [
    {
     "data": {
      "text/plain": "alert       2\ntype        1\ntitle      61\nplace      60\nmagType     5\nmag        19\ntime       61\ndtype: int64"
     },
     "execution_count": 6,
     "metadata": {},
     "output_type": "execute_result"
    }
   ],
   "source": [
    "data.nunique()"
   ],
   "metadata": {
    "collapsed": false,
    "pycharm": {
     "name": "#%%\n"
    }
   }
  },
  {
   "cell_type": "code",
   "execution_count": 8,
   "outputs": [
    {
     "data": {
      "text/plain": "Index(['alert', 'type', 'title', 'place', 'magType', 'mag', 'time'], dtype='object')"
     },
     "execution_count": 8,
     "metadata": {},
     "output_type": "execute_result"
    }
   ],
   "source": [
    "data.columns"
   ],
   "metadata": {
    "collapsed": false,
    "pycharm": {
     "name": "#%%\n"
    }
   }
  },
  {
   "cell_type": "code",
   "execution_count": 9,
   "outputs": [
    {
     "data": {
      "text/plain": "array([5.  , 6.7 , 5.6 , 6.5 , 6.2 , 5.9 , 7.  , 6.1 , 5.3 , 5.4 , 4.  ,\n       5.1 , 3.83, 6.  , 5.2 , 4.41, 5.7 , 5.8 , 7.5 ])"
     },
     "execution_count": 9,
     "metadata": {},
     "output_type": "execute_result"
    }
   ],
   "source": [
    "data['mag'].unique()"
   ],
   "metadata": {
    "collapsed": false,
    "pycharm": {
     "name": "#%%\n"
    }
   }
  },
  {
   "cell_type": "code",
   "execution_count": 10,
   "outputs": [
    {
     "data": {
      "text/plain": "5.00    0.196721\n5.10    0.196721\n5.40    0.098361\n5.20    0.081967\n5.90    0.049180\n4.00    0.049180\n5.70    0.049180\n6.10    0.032787\n5.30    0.032787\n6.70    0.032787\n5.60    0.032787\n5.80    0.032787\n6.50    0.016393\n6.20    0.016393\n7.00    0.016393\n3.83    0.016393\n6.00    0.016393\n4.41    0.016393\n7.50    0.016393\nName: mag, dtype: float64"
     },
     "execution_count": 10,
     "metadata": {},
     "output_type": "execute_result"
    }
   ],
   "source": [
    "data['mag'].value_counts(normalize=True)"
   ],
   "metadata": {
    "collapsed": false,
    "pycharm": {
     "name": "#%%\n"
    }
   }
  },
  {
   "cell_type": "code",
   "execution_count": 12,
   "outputs": [
    {
     "data": {
      "text/plain": "    mag           time\n40  5.2  1538132811150\n41  5.7  1538131825150\n42  5.1  1538131664560\n43  5.4  1538131143050\n44  5.8  1538130304440\n45  5.7  1538129809140\n46  5.8  1538129660450\n47  7.5  1538128963480\n48  5.0  1538123098480\n49  5.4  1538118198440",
      "text/html": "<div>\n<style scoped>\n    .dataframe tbody tr th:only-of-type {\n        vertical-align: middle;\n    }\n\n    .dataframe tbody tr th {\n        vertical-align: top;\n    }\n\n    .dataframe thead th {\n        text-align: right;\n    }\n</style>\n<table border=\"1\" class=\"dataframe\">\n  <thead>\n    <tr style=\"text-align: right;\">\n      <th></th>\n      <th>mag</th>\n      <th>time</th>\n    </tr>\n  </thead>\n  <tbody>\n    <tr>\n      <th>40</th>\n      <td>5.2</td>\n      <td>1538132811150</td>\n    </tr>\n    <tr>\n      <th>41</th>\n      <td>5.7</td>\n      <td>1538131825150</td>\n    </tr>\n    <tr>\n      <th>42</th>\n      <td>5.1</td>\n      <td>1538131664560</td>\n    </tr>\n    <tr>\n      <th>43</th>\n      <td>5.4</td>\n      <td>1538131143050</td>\n    </tr>\n    <tr>\n      <th>44</th>\n      <td>5.8</td>\n      <td>1538130304440</td>\n    </tr>\n    <tr>\n      <th>45</th>\n      <td>5.7</td>\n      <td>1538129809140</td>\n    </tr>\n    <tr>\n      <th>46</th>\n      <td>5.8</td>\n      <td>1538129660450</td>\n    </tr>\n    <tr>\n      <th>47</th>\n      <td>7.5</td>\n      <td>1538128963480</td>\n    </tr>\n    <tr>\n      <th>48</th>\n      <td>5.0</td>\n      <td>1538123098480</td>\n    </tr>\n    <tr>\n      <th>49</th>\n      <td>5.4</td>\n      <td>1538118198440</td>\n    </tr>\n  </tbody>\n</table>\n</div>"
     },
     "execution_count": 12,
     "metadata": {},
     "output_type": "execute_result"
    }
   ],
   "source": [
    "data[['mag', 'time']][40:50]"
   ],
   "metadata": {
    "collapsed": false,
    "pycharm": {
     "name": "#%%\n"
    }
   }
  },
  {
   "cell_type": "code",
   "execution_count": 25,
   "outputs": [
    {
     "data": {
      "text/plain": "  alert  cdi      code                                             detail  \\\n0   NaN  NaN  37389218  https://earthquake.usgs.gov/fdsnws/event/1/que...   \n1   NaN  NaN  37389202  https://earthquake.usgs.gov/fdsnws/event/1/que...   \n2   NaN  4.4  37389194  https://earthquake.usgs.gov/fdsnws/event/1/que...   \n3   NaN  NaN  37389186  https://earthquake.usgs.gov/fdsnws/event/1/que...   \n4   NaN  NaN  73096941  https://earthquake.usgs.gov/fdsnws/event/1/que...   \n\n       dmin  felt    gap           ids   mag magType  ...  sources     status  \\\n0  0.008693   NaN   85.0  ,ci37389218,  1.35      ml  ...     ,ci,  automatic   \n1  0.020030   NaN   79.0  ,ci37389202,  1.29      ml  ...     ,ci,  automatic   \n2  0.021370  28.0   21.0  ,ci37389194,  3.42      ml  ...     ,ci,  automatic   \n3  0.026180   NaN   39.0  ,ci37389186,  0.44      ml  ...     ,ci,  automatic   \n4  0.077990   NaN  192.0  ,nc73096941,  2.16      md  ...     ,nc,  automatic   \n\n            time                          title  tsunami        type  \\\n0  1539475168010  M 1.4 - 9km NE of Aguanga, CA        0  earthquake   \n1  1539475129610  M 1.3 - 9km NE of Aguanga, CA        0  earthquake   \n2  1539475062610  M 3.4 - 8km NE of Aguanga, CA        0  earthquake   \n3  1539474978070  M 0.4 - 9km NE of Aguanga, CA        0  earthquake   \n4  1539474716050  M 2.2 - 10km NW of Avenal, CA        0  earthquake   \n\n                                               types     tz        updated  \\\n0         ,geoserve,nearby-cities,origin,phase-data, -480.0  1539475395144   \n1         ,geoserve,nearby-cities,origin,phase-data, -480.0  1539475253925   \n2  ,dyfi,focal-mechanism,geoserve,nearby-cities,o... -480.0  1539536756176   \n3         ,geoserve,nearby-cities,origin,phase-data, -480.0  1539475196167   \n4  ,geoserve,nearby-cities,origin,phase-data,scit... -480.0  1539477547926   \n\n                                                 url  \n0  https://earthquake.usgs.gov/earthquakes/eventp...  \n1  https://earthquake.usgs.gov/earthquakes/eventp...  \n2  https://earthquake.usgs.gov/earthquakes/eventp...  \n3  https://earthquake.usgs.gov/earthquakes/eventp...  \n4  https://earthquake.usgs.gov/earthquakes/eventp...  \n\n[5 rows x 26 columns]",
      "text/html": "<div>\n<style scoped>\n    .dataframe tbody tr th:only-of-type {\n        vertical-align: middle;\n    }\n\n    .dataframe tbody tr th {\n        vertical-align: top;\n    }\n\n    .dataframe thead th {\n        text-align: right;\n    }\n</style>\n<table border=\"1\" class=\"dataframe\">\n  <thead>\n    <tr style=\"text-align: right;\">\n      <th></th>\n      <th>alert</th>\n      <th>cdi</th>\n      <th>code</th>\n      <th>detail</th>\n      <th>dmin</th>\n      <th>felt</th>\n      <th>gap</th>\n      <th>ids</th>\n      <th>mag</th>\n      <th>magType</th>\n      <th>...</th>\n      <th>sources</th>\n      <th>status</th>\n      <th>time</th>\n      <th>title</th>\n      <th>tsunami</th>\n      <th>type</th>\n      <th>types</th>\n      <th>tz</th>\n      <th>updated</th>\n      <th>url</th>\n    </tr>\n  </thead>\n  <tbody>\n    <tr>\n      <th>0</th>\n      <td>NaN</td>\n      <td>NaN</td>\n      <td>37389218</td>\n      <td>https://earthquake.usgs.gov/fdsnws/event/1/que...</td>\n      <td>0.008693</td>\n      <td>NaN</td>\n      <td>85.0</td>\n      <td>,ci37389218,</td>\n      <td>1.35</td>\n      <td>ml</td>\n      <td>...</td>\n      <td>,ci,</td>\n      <td>automatic</td>\n      <td>1539475168010</td>\n      <td>M 1.4 - 9km NE of Aguanga, CA</td>\n      <td>0</td>\n      <td>earthquake</td>\n      <td>,geoserve,nearby-cities,origin,phase-data,</td>\n      <td>-480.0</td>\n      <td>1539475395144</td>\n      <td>https://earthquake.usgs.gov/earthquakes/eventp...</td>\n    </tr>\n    <tr>\n      <th>1</th>\n      <td>NaN</td>\n      <td>NaN</td>\n      <td>37389202</td>\n      <td>https://earthquake.usgs.gov/fdsnws/event/1/que...</td>\n      <td>0.020030</td>\n      <td>NaN</td>\n      <td>79.0</td>\n      <td>,ci37389202,</td>\n      <td>1.29</td>\n      <td>ml</td>\n      <td>...</td>\n      <td>,ci,</td>\n      <td>automatic</td>\n      <td>1539475129610</td>\n      <td>M 1.3 - 9km NE of Aguanga, CA</td>\n      <td>0</td>\n      <td>earthquake</td>\n      <td>,geoserve,nearby-cities,origin,phase-data,</td>\n      <td>-480.0</td>\n      <td>1539475253925</td>\n      <td>https://earthquake.usgs.gov/earthquakes/eventp...</td>\n    </tr>\n    <tr>\n      <th>2</th>\n      <td>NaN</td>\n      <td>4.4</td>\n      <td>37389194</td>\n      <td>https://earthquake.usgs.gov/fdsnws/event/1/que...</td>\n      <td>0.021370</td>\n      <td>28.0</td>\n      <td>21.0</td>\n      <td>,ci37389194,</td>\n      <td>3.42</td>\n      <td>ml</td>\n      <td>...</td>\n      <td>,ci,</td>\n      <td>automatic</td>\n      <td>1539475062610</td>\n      <td>M 3.4 - 8km NE of Aguanga, CA</td>\n      <td>0</td>\n      <td>earthquake</td>\n      <td>,dyfi,focal-mechanism,geoserve,nearby-cities,o...</td>\n      <td>-480.0</td>\n      <td>1539536756176</td>\n      <td>https://earthquake.usgs.gov/earthquakes/eventp...</td>\n    </tr>\n    <tr>\n      <th>3</th>\n      <td>NaN</td>\n      <td>NaN</td>\n      <td>37389186</td>\n      <td>https://earthquake.usgs.gov/fdsnws/event/1/que...</td>\n      <td>0.026180</td>\n      <td>NaN</td>\n      <td>39.0</td>\n      <td>,ci37389186,</td>\n      <td>0.44</td>\n      <td>ml</td>\n      <td>...</td>\n      <td>,ci,</td>\n      <td>automatic</td>\n      <td>1539474978070</td>\n      <td>M 0.4 - 9km NE of Aguanga, CA</td>\n      <td>0</td>\n      <td>earthquake</td>\n      <td>,geoserve,nearby-cities,origin,phase-data,</td>\n      <td>-480.0</td>\n      <td>1539475196167</td>\n      <td>https://earthquake.usgs.gov/earthquakes/eventp...</td>\n    </tr>\n    <tr>\n      <th>4</th>\n      <td>NaN</td>\n      <td>NaN</td>\n      <td>73096941</td>\n      <td>https://earthquake.usgs.gov/fdsnws/event/1/que...</td>\n      <td>0.077990</td>\n      <td>NaN</td>\n      <td>192.0</td>\n      <td>,nc73096941,</td>\n      <td>2.16</td>\n      <td>md</td>\n      <td>...</td>\n      <td>,nc,</td>\n      <td>automatic</td>\n      <td>1539474716050</td>\n      <td>M 2.2 - 10km NW of Avenal, CA</td>\n      <td>0</td>\n      <td>earthquake</td>\n      <td>,geoserve,nearby-cities,origin,phase-data,scit...</td>\n      <td>-480.0</td>\n      <td>1539477547926</td>\n      <td>https://earthquake.usgs.gov/earthquakes/eventp...</td>\n    </tr>\n  </tbody>\n</table>\n<p>5 rows × 26 columns</p>\n</div>"
     },
     "execution_count": 25,
     "metadata": {},
     "output_type": "execute_result"
    }
   ],
   "source": [
    "data = pd.read_csv('C:/Users/toduc/OneDrive - National Economics University/Desktop/NEU/Machine Learning/Visualization/Data/earthquakes.csv', sep=',')\n",
    "data.head()"
   ],
   "metadata": {
    "collapsed": false,
    "pycharm": {
     "name": "#%%\n"
    }
   }
  },
  {
   "cell_type": "code",
   "execution_count": 18,
   "outputs": [
    {
     "data": {
      "text/plain": "(9332, 26)"
     },
     "execution_count": 18,
     "metadata": {},
     "output_type": "execute_result"
    }
   ],
   "source": [
    "data.shape"
   ],
   "metadata": {
    "collapsed": false,
    "pycharm": {
     "name": "#%%\n"
    }
   }
  },
  {
   "cell_type": "code",
   "execution_count": 19,
   "outputs": [
    {
     "data": {
      "text/plain": "array(['ml', 'md', 'mb', 'mww', 'mb_lg', 'mwr', 'mw', 'mh', 'ms_20',\n       'mwb', nan], dtype=object)"
     },
     "execution_count": 19,
     "metadata": {},
     "output_type": "execute_result"
    }
   ],
   "source": [
    "data['magType'].unique()"
   ],
   "metadata": {
    "collapsed": false,
    "pycharm": {
     "name": "#%%\n"
    }
   }
  },
  {
   "cell_type": "code",
   "execution_count": 23,
   "outputs": [
    {
     "data": {
      "text/plain": "0       False\n1       False\n2        True\n3       False\n4       False\n        ...  \n9327    False\n9328    False\n9329    False\n9330    False\n9331    False\nName: mag, Length: 9332, dtype: bool"
     },
     "execution_count": 23,
     "metadata": {},
     "output_type": "execute_result"
    }
   ],
   "source": [
    "data['mag'] > 3"
   ],
   "metadata": {
    "collapsed": false,
    "pycharm": {
     "name": "#%%\n"
    }
   }
  },
  {
   "cell_type": "code",
   "execution_count": 24,
   "outputs": [
    {
     "data": {
      "text/plain": "892"
     },
     "execution_count": 24,
     "metadata": {},
     "output_type": "execute_result"
    }
   ],
   "source": [
    "sum(data['mag']>3)"
   ],
   "metadata": {
    "collapsed": false,
    "pycharm": {
     "name": "#%%\n"
    }
   }
  },
  {
   "cell_type": "code",
   "execution_count": 29,
   "outputs": [
    {
     "data": {
      "text/plain": "147"
     },
     "execution_count": 29,
     "metadata": {},
     "output_type": "execute_result"
    }
   ],
   "source": [
    "sum(data['place'].str.contains('Indonesia'))"
   ],
   "metadata": {
    "collapsed": false,
    "pycharm": {
     "name": "#%%\n"
    }
   }
  },
  {
   "cell_type": "code",
   "execution_count": null,
   "outputs": [],
   "source": [],
   "metadata": {
    "collapsed": false,
    "pycharm": {
     "name": "#%%\n"
    }
   }
  }
 ],
 "metadata": {
  "kernelspec": {
   "name": "pycharm-eaa1fcfe",
   "language": "python",
   "display_name": "PyCharm (Data-preparation)"
  },
  "language_info": {
   "codemirror_mode": {
    "name": "ipython",
    "version": 2
   },
   "file_extension": ".py",
   "mimetype": "text/x-python",
   "name": "python",
   "nbconvert_exporter": "python",
   "pygments_lexer": "ipython2",
   "version": "2.7.6"
  }
 },
 "nbformat": 4,
 "nbformat_minor": 0
}