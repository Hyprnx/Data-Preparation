{
 "cells": [
  {
   "cell_type": "code",
   "execution_count": 18,
   "metadata": {
    "collapsed": true
   },
   "outputs": [],
   "source": [
    "import pandas as pd"
   ]
  },
  {
   "cell_type": "code",
   "execution_count": 19,
   "outputs": [
    {
     "data": {
      "text/plain": "                      date datatype            station attributes  value\n0      2018-01-01T00:00:00     PRCP  GHCND:US1CTFR0039       ,,N,    0.0\n1      2018-01-01T00:00:00     PRCP  GHCND:US1NJBG0015       ,,N,    0.0\n2      2018-01-01T00:00:00     SNOW  GHCND:US1NJBG0015       ,,N,    0.0\n3      2018-01-01T00:00:00     PRCP  GHCND:US1NJBG0017       ,,N,    0.0\n4      2018-01-01T00:00:00     SNOW  GHCND:US1NJBG0017       ,,N,    0.0\n...                    ...      ...                ...        ...    ...\n78775  2018-12-31T00:00:00     WDF5  GHCND:USW00094789       ,,W,  130.0\n78776  2018-12-31T00:00:00     WSF2  GHCND:USW00094789       ,,W,    9.8\n78777  2018-12-31T00:00:00     WSF5  GHCND:USW00094789       ,,W,   12.5\n78778  2018-12-31T00:00:00     WT01  GHCND:USW00094789       ,,W,    1.0\n78779  2018-12-31T00:00:00     WT02  GHCND:USW00094789       ,,W,    1.0\n\n[78780 rows x 5 columns]",
      "text/html": "<div>\n<style scoped>\n    .dataframe tbody tr th:only-of-type {\n        vertical-align: middle;\n    }\n\n    .dataframe tbody tr th {\n        vertical-align: top;\n    }\n\n    .dataframe thead th {\n        text-align: right;\n    }\n</style>\n<table border=\"1\" class=\"dataframe\">\n  <thead>\n    <tr style=\"text-align: right;\">\n      <th></th>\n      <th>date</th>\n      <th>datatype</th>\n      <th>station</th>\n      <th>attributes</th>\n      <th>value</th>\n    </tr>\n  </thead>\n  <tbody>\n    <tr>\n      <th>0</th>\n      <td>2018-01-01T00:00:00</td>\n      <td>PRCP</td>\n      <td>GHCND:US1CTFR0039</td>\n      <td>,,N,</td>\n      <td>0.0</td>\n    </tr>\n    <tr>\n      <th>1</th>\n      <td>2018-01-01T00:00:00</td>\n      <td>PRCP</td>\n      <td>GHCND:US1NJBG0015</td>\n      <td>,,N,</td>\n      <td>0.0</td>\n    </tr>\n    <tr>\n      <th>2</th>\n      <td>2018-01-01T00:00:00</td>\n      <td>SNOW</td>\n      <td>GHCND:US1NJBG0015</td>\n      <td>,,N,</td>\n      <td>0.0</td>\n    </tr>\n    <tr>\n      <th>3</th>\n      <td>2018-01-01T00:00:00</td>\n      <td>PRCP</td>\n      <td>GHCND:US1NJBG0017</td>\n      <td>,,N,</td>\n      <td>0.0</td>\n    </tr>\n    <tr>\n      <th>4</th>\n      <td>2018-01-01T00:00:00</td>\n      <td>SNOW</td>\n      <td>GHCND:US1NJBG0017</td>\n      <td>,,N,</td>\n      <td>0.0</td>\n    </tr>\n    <tr>\n      <th>...</th>\n      <td>...</td>\n      <td>...</td>\n      <td>...</td>\n      <td>...</td>\n      <td>...</td>\n    </tr>\n    <tr>\n      <th>78775</th>\n      <td>2018-12-31T00:00:00</td>\n      <td>WDF5</td>\n      <td>GHCND:USW00094789</td>\n      <td>,,W,</td>\n      <td>130.0</td>\n    </tr>\n    <tr>\n      <th>78776</th>\n      <td>2018-12-31T00:00:00</td>\n      <td>WSF2</td>\n      <td>GHCND:USW00094789</td>\n      <td>,,W,</td>\n      <td>9.8</td>\n    </tr>\n    <tr>\n      <th>78777</th>\n      <td>2018-12-31T00:00:00</td>\n      <td>WSF5</td>\n      <td>GHCND:USW00094789</td>\n      <td>,,W,</td>\n      <td>12.5</td>\n    </tr>\n    <tr>\n      <th>78778</th>\n      <td>2018-12-31T00:00:00</td>\n      <td>WT01</td>\n      <td>GHCND:USW00094789</td>\n      <td>,,W,</td>\n      <td>1.0</td>\n    </tr>\n    <tr>\n      <th>78779</th>\n      <td>2018-12-31T00:00:00</td>\n      <td>WT02</td>\n      <td>GHCND:USW00094789</td>\n      <td>,,W,</td>\n      <td>1.0</td>\n    </tr>\n  </tbody>\n</table>\n<p>78780 rows × 5 columns</p>\n</div>"
     },
     "execution_count": 19,
     "metadata": {},
     "output_type": "execute_result"
    }
   ],
   "source": [
    "nyc2018 = pd.read_csv('C:/Users/toduc/OneDrive - National Economics University/Desktop/NEU/Machine Learning/Visualization/Data/nyc_weather_2018.csv', sep=',')\n",
    "nyc2018"
   ],
   "metadata": {
    "collapsed": false,
    "pycharm": {
     "name": "#%%\n"
    }
   }
  },
  {
   "cell_type": "code",
   "execution_count": 20,
   "outputs": [
    {
     "data": {
      "text/plain": "                    id                                 name   latitude  \\\n0    GHCND:US1CTFR0022              STAMFORD 2.6 SSW, CT US  41.064100   \n1    GHCND:US1CTFR0039                STAMFORD 4.2 S, CT US  41.037788   \n2    GHCND:US1NJBG0001            BERGENFIELD 0.3 SW, NJ US  40.921298   \n3    GHCND:US1NJBG0002        SADDLE BROOK TWP 0.6 E, NJ US  40.902694   \n4    GHCND:US1NJBG0003                 TENAFLY 1.3 W, NJ US  40.914670   \n..                 ...                                  ...        ...   \n274  GHCND:USW00054787  FARMINGDALE REPUBLIC AIRPORT, NY US  40.734170   \n275  GHCND:USW00094728          NY CITY CENTRAL PARK, NY US  40.778980   \n276  GHCND:USW00094741             TETERBORO AIRPORT, NJ US  40.850000   \n277  GHCND:USW00094745        WESTCHESTER CO AIRPORT, NY US  41.062360   \n278  GHCND:USW00094789     JFK INTERNATIONAL AIRPORT, NY US  40.639150   \n\n     longitude  elevation  \n0   -73.577000       36.6  \n1   -73.568176        6.4  \n2   -74.001983       20.1  \n3   -74.083358       16.8  \n4   -73.977500       21.6  \n..         ...        ...  \n274 -73.416940       24.7  \n275 -73.969250       42.7  \n276 -74.061390        2.7  \n277 -73.704630      111.9  \n278 -73.764010        3.4  \n\n[279 rows x 5 columns]",
      "text/html": "<div>\n<style scoped>\n    .dataframe tbody tr th:only-of-type {\n        vertical-align: middle;\n    }\n\n    .dataframe tbody tr th {\n        vertical-align: top;\n    }\n\n    .dataframe thead th {\n        text-align: right;\n    }\n</style>\n<table border=\"1\" class=\"dataframe\">\n  <thead>\n    <tr style=\"text-align: right;\">\n      <th></th>\n      <th>id</th>\n      <th>name</th>\n      <th>latitude</th>\n      <th>longitude</th>\n      <th>elevation</th>\n    </tr>\n  </thead>\n  <tbody>\n    <tr>\n      <th>0</th>\n      <td>GHCND:US1CTFR0022</td>\n      <td>STAMFORD 2.6 SSW, CT US</td>\n      <td>41.064100</td>\n      <td>-73.577000</td>\n      <td>36.6</td>\n    </tr>\n    <tr>\n      <th>1</th>\n      <td>GHCND:US1CTFR0039</td>\n      <td>STAMFORD 4.2 S, CT US</td>\n      <td>41.037788</td>\n      <td>-73.568176</td>\n      <td>6.4</td>\n    </tr>\n    <tr>\n      <th>2</th>\n      <td>GHCND:US1NJBG0001</td>\n      <td>BERGENFIELD 0.3 SW, NJ US</td>\n      <td>40.921298</td>\n      <td>-74.001983</td>\n      <td>20.1</td>\n    </tr>\n    <tr>\n      <th>3</th>\n      <td>GHCND:US1NJBG0002</td>\n      <td>SADDLE BROOK TWP 0.6 E, NJ US</td>\n      <td>40.902694</td>\n      <td>-74.083358</td>\n      <td>16.8</td>\n    </tr>\n    <tr>\n      <th>4</th>\n      <td>GHCND:US1NJBG0003</td>\n      <td>TENAFLY 1.3 W, NJ US</td>\n      <td>40.914670</td>\n      <td>-73.977500</td>\n      <td>21.6</td>\n    </tr>\n    <tr>\n      <th>...</th>\n      <td>...</td>\n      <td>...</td>\n      <td>...</td>\n      <td>...</td>\n      <td>...</td>\n    </tr>\n    <tr>\n      <th>274</th>\n      <td>GHCND:USW00054787</td>\n      <td>FARMINGDALE REPUBLIC AIRPORT, NY US</td>\n      <td>40.734170</td>\n      <td>-73.416940</td>\n      <td>24.7</td>\n    </tr>\n    <tr>\n      <th>275</th>\n      <td>GHCND:USW00094728</td>\n      <td>NY CITY CENTRAL PARK, NY US</td>\n      <td>40.778980</td>\n      <td>-73.969250</td>\n      <td>42.7</td>\n    </tr>\n    <tr>\n      <th>276</th>\n      <td>GHCND:USW00094741</td>\n      <td>TETERBORO AIRPORT, NJ US</td>\n      <td>40.850000</td>\n      <td>-74.061390</td>\n      <td>2.7</td>\n    </tr>\n    <tr>\n      <th>277</th>\n      <td>GHCND:USW00094745</td>\n      <td>WESTCHESTER CO AIRPORT, NY US</td>\n      <td>41.062360</td>\n      <td>-73.704630</td>\n      <td>111.9</td>\n    </tr>\n    <tr>\n      <th>278</th>\n      <td>GHCND:USW00094789</td>\n      <td>JFK INTERNATIONAL AIRPORT, NY US</td>\n      <td>40.639150</td>\n      <td>-73.764010</td>\n      <td>3.4</td>\n    </tr>\n  </tbody>\n</table>\n<p>279 rows × 5 columns</p>\n</div>"
     },
     "execution_count": 20,
     "metadata": {},
     "output_type": "execute_result"
    }
   ],
   "source": [
    "weather_stations = pd.read_csv('C:/Users/toduc/OneDrive - National Economics University/Desktop/NEU/Machine Learning/Visualization/Data/weather_stations.csv', sep=',')\n",
    "weather_stations"
   ],
   "metadata": {
    "collapsed": false,
    "pycharm": {
     "name": "#%%\n"
    }
   }
  },
  {
   "cell_type": "code",
   "execution_count": 21,
   "outputs": [],
   "source": [
    "new_nyc = nyc2018[nyc2018.datatype.str.contains(\"SNOW\")]\n",
    "# new_nyc"
   ],
   "metadata": {
    "collapsed": false,
    "pycharm": {
     "name": "#%%\n"
    }
   }
  },
  {
   "cell_type": "code",
   "execution_count": 22,
   "outputs": [],
   "source": [
    "# new_weather_station = weather_stations[weather_stations.station_name.str.contains(\"NJ US\")]\n",
    "# new_weather_station"
   ],
   "metadata": {
    "collapsed": false,
    "pycharm": {
     "name": "#%%\n"
    }
   }
  },
  {
   "cell_type": "code",
   "execution_count": 34,
   "outputs": [
    {
     "data": {
      "text/plain": "                      date datatype            station attributes  value  \\\n0      2018-01-01T00:00:00     PRCP  GHCND:US1CTFR0039       ,,N,    0.0   \n1      2018-01-02T00:00:00     PRCP  GHCND:US1CTFR0039       ,,N,    0.0   \n2      2018-01-03T00:00:00     PRCP  GHCND:US1CTFR0039       ,,N,    0.0   \n3      2018-01-05T00:00:00     DAPR  GHCND:US1CTFR0039       ,,N,    2.0   \n4      2018-01-05T00:00:00     MDPR  GHCND:US1CTFR0039       ,,N,   15.5   \n...                    ...      ...                ...        ...    ...   \n78775  2018-12-27T00:00:00     PRCP  GHCND:US1NYQN0029       ,,N,    0.0   \n78776  2018-12-28T00:00:00     PRCP  GHCND:US1NYQN0029       ,,N,    4.8   \n78777  2018-12-29T00:00:00     PRCP  GHCND:US1NYQN0029       ,,N,   29.0   \n78778  2018-12-30T00:00:00     PRCP  GHCND:US1NYQN0029       ,,N,    0.3   \n78779  2018-12-31T00:00:00     PRCP  GHCND:US1NYQN0029       ,,N,    0.0   \n\n                        name   latitude  longitude  elevation  \n0      STAMFORD 4.2 S, CT US  41.037788 -73.568176        6.4  \n1      STAMFORD 4.2 S, CT US  41.037788 -73.568176        6.4  \n2      STAMFORD 4.2 S, CT US  41.037788 -73.568176        6.4  \n3      STAMFORD 4.2 S, CT US  41.037788 -73.568176        6.4  \n4      STAMFORD 4.2 S, CT US  41.037788 -73.568176        6.4  \n...                      ...        ...        ...        ...  \n78775   QUEENS 2.1 NE, NY US  40.748246 -73.765371       24.7  \n78776   QUEENS 2.1 NE, NY US  40.748246 -73.765371       24.7  \n78777   QUEENS 2.1 NE, NY US  40.748246 -73.765371       24.7  \n78778   QUEENS 2.1 NE, NY US  40.748246 -73.765371       24.7  \n78779   QUEENS 2.1 NE, NY US  40.748246 -73.765371       24.7  \n\n[78780 rows x 9 columns]",
      "text/html": "<div>\n<style scoped>\n    .dataframe tbody tr th:only-of-type {\n        vertical-align: middle;\n    }\n\n    .dataframe tbody tr th {\n        vertical-align: top;\n    }\n\n    .dataframe thead th {\n        text-align: right;\n    }\n</style>\n<table border=\"1\" class=\"dataframe\">\n  <thead>\n    <tr style=\"text-align: right;\">\n      <th></th>\n      <th>date</th>\n      <th>datatype</th>\n      <th>station</th>\n      <th>attributes</th>\n      <th>value</th>\n      <th>name</th>\n      <th>latitude</th>\n      <th>longitude</th>\n      <th>elevation</th>\n    </tr>\n  </thead>\n  <tbody>\n    <tr>\n      <th>0</th>\n      <td>2018-01-01T00:00:00</td>\n      <td>PRCP</td>\n      <td>GHCND:US1CTFR0039</td>\n      <td>,,N,</td>\n      <td>0.0</td>\n      <td>STAMFORD 4.2 S, CT US</td>\n      <td>41.037788</td>\n      <td>-73.568176</td>\n      <td>6.4</td>\n    </tr>\n    <tr>\n      <th>1</th>\n      <td>2018-01-02T00:00:00</td>\n      <td>PRCP</td>\n      <td>GHCND:US1CTFR0039</td>\n      <td>,,N,</td>\n      <td>0.0</td>\n      <td>STAMFORD 4.2 S, CT US</td>\n      <td>41.037788</td>\n      <td>-73.568176</td>\n      <td>6.4</td>\n    </tr>\n    <tr>\n      <th>2</th>\n      <td>2018-01-03T00:00:00</td>\n      <td>PRCP</td>\n      <td>GHCND:US1CTFR0039</td>\n      <td>,,N,</td>\n      <td>0.0</td>\n      <td>STAMFORD 4.2 S, CT US</td>\n      <td>41.037788</td>\n      <td>-73.568176</td>\n      <td>6.4</td>\n    </tr>\n    <tr>\n      <th>3</th>\n      <td>2018-01-05T00:00:00</td>\n      <td>DAPR</td>\n      <td>GHCND:US1CTFR0039</td>\n      <td>,,N,</td>\n      <td>2.0</td>\n      <td>STAMFORD 4.2 S, CT US</td>\n      <td>41.037788</td>\n      <td>-73.568176</td>\n      <td>6.4</td>\n    </tr>\n    <tr>\n      <th>4</th>\n      <td>2018-01-05T00:00:00</td>\n      <td>MDPR</td>\n      <td>GHCND:US1CTFR0039</td>\n      <td>,,N,</td>\n      <td>15.5</td>\n      <td>STAMFORD 4.2 S, CT US</td>\n      <td>41.037788</td>\n      <td>-73.568176</td>\n      <td>6.4</td>\n    </tr>\n    <tr>\n      <th>...</th>\n      <td>...</td>\n      <td>...</td>\n      <td>...</td>\n      <td>...</td>\n      <td>...</td>\n      <td>...</td>\n      <td>...</td>\n      <td>...</td>\n      <td>...</td>\n    </tr>\n    <tr>\n      <th>78775</th>\n      <td>2018-12-27T00:00:00</td>\n      <td>PRCP</td>\n      <td>GHCND:US1NYQN0029</td>\n      <td>,,N,</td>\n      <td>0.0</td>\n      <td>QUEENS 2.1 NE, NY US</td>\n      <td>40.748246</td>\n      <td>-73.765371</td>\n      <td>24.7</td>\n    </tr>\n    <tr>\n      <th>78776</th>\n      <td>2018-12-28T00:00:00</td>\n      <td>PRCP</td>\n      <td>GHCND:US1NYQN0029</td>\n      <td>,,N,</td>\n      <td>4.8</td>\n      <td>QUEENS 2.1 NE, NY US</td>\n      <td>40.748246</td>\n      <td>-73.765371</td>\n      <td>24.7</td>\n    </tr>\n    <tr>\n      <th>78777</th>\n      <td>2018-12-29T00:00:00</td>\n      <td>PRCP</td>\n      <td>GHCND:US1NYQN0029</td>\n      <td>,,N,</td>\n      <td>29.0</td>\n      <td>QUEENS 2.1 NE, NY US</td>\n      <td>40.748246</td>\n      <td>-73.765371</td>\n      <td>24.7</td>\n    </tr>\n    <tr>\n      <th>78778</th>\n      <td>2018-12-30T00:00:00</td>\n      <td>PRCP</td>\n      <td>GHCND:US1NYQN0029</td>\n      <td>,,N,</td>\n      <td>0.3</td>\n      <td>QUEENS 2.1 NE, NY US</td>\n      <td>40.748246</td>\n      <td>-73.765371</td>\n      <td>24.7</td>\n    </tr>\n    <tr>\n      <th>78779</th>\n      <td>2018-12-31T00:00:00</td>\n      <td>PRCP</td>\n      <td>GHCND:US1NYQN0029</td>\n      <td>,,N,</td>\n      <td>0.0</td>\n      <td>QUEENS 2.1 NE, NY US</td>\n      <td>40.748246</td>\n      <td>-73.765371</td>\n      <td>24.7</td>\n    </tr>\n  </tbody>\n</table>\n<p>78780 rows × 9 columns</p>\n</div>"
     },
     "execution_count": 34,
     "metadata": {},
     "output_type": "execute_result"
    }
   ],
   "source": [
    "df = nyc2018.merge(weather_stations.rename(columns={'id':'station'}), on='station')\n",
    "df"
   ],
   "metadata": {
    "collapsed": false,
    "pycharm": {
     "name": "#%%\n"
    }
   }
  },
  {
   "cell_type": "code",
   "execution_count": 24,
   "outputs": [
    {
     "data": {
      "text/plain": "           date        high         low        open       close    volume\n0    2018-01-02  181.580002  177.550003  177.679993  181.419998  18151900\n1    2018-01-03  184.779999  181.330002  181.880005  184.669998  16886600\n2    2018-01-04  186.210007  184.100006  184.899994  184.330002  13880900\n3    2018-01-05  186.899994  184.929993  185.589996  186.850006  13574500\n4    2018-01-08  188.899994  186.330002  187.199997  188.279999  17994700\n..          ...         ...         ...         ...         ...       ...\n246  2018-12-24  129.740005  123.019997  123.099998  124.059998  22066000\n247  2018-12-26  134.240005  125.889999  126.000000  134.179993  39723400\n248  2018-12-27  134.990005  129.669998  132.440002  134.520004  31202500\n249  2018-12-28  135.919998  132.199997  135.339996  133.199997  22627600\n250  2018-12-31  134.639999  129.949997  134.449997  131.089996  24625300\n\n[251 rows x 6 columns]",
      "text/html": "<div>\n<style scoped>\n    .dataframe tbody tr th:only-of-type {\n        vertical-align: middle;\n    }\n\n    .dataframe tbody tr th {\n        vertical-align: top;\n    }\n\n    .dataframe thead th {\n        text-align: right;\n    }\n</style>\n<table border=\"1\" class=\"dataframe\">\n  <thead>\n    <tr style=\"text-align: right;\">\n      <th></th>\n      <th>date</th>\n      <th>high</th>\n      <th>low</th>\n      <th>open</th>\n      <th>close</th>\n      <th>volume</th>\n    </tr>\n  </thead>\n  <tbody>\n    <tr>\n      <th>0</th>\n      <td>2018-01-02</td>\n      <td>181.580002</td>\n      <td>177.550003</td>\n      <td>177.679993</td>\n      <td>181.419998</td>\n      <td>18151900</td>\n    </tr>\n    <tr>\n      <th>1</th>\n      <td>2018-01-03</td>\n      <td>184.779999</td>\n      <td>181.330002</td>\n      <td>181.880005</td>\n      <td>184.669998</td>\n      <td>16886600</td>\n    </tr>\n    <tr>\n      <th>2</th>\n      <td>2018-01-04</td>\n      <td>186.210007</td>\n      <td>184.100006</td>\n      <td>184.899994</td>\n      <td>184.330002</td>\n      <td>13880900</td>\n    </tr>\n    <tr>\n      <th>3</th>\n      <td>2018-01-05</td>\n      <td>186.899994</td>\n      <td>184.929993</td>\n      <td>185.589996</td>\n      <td>186.850006</td>\n      <td>13574500</td>\n    </tr>\n    <tr>\n      <th>4</th>\n      <td>2018-01-08</td>\n      <td>188.899994</td>\n      <td>186.330002</td>\n      <td>187.199997</td>\n      <td>188.279999</td>\n      <td>17994700</td>\n    </tr>\n    <tr>\n      <th>...</th>\n      <td>...</td>\n      <td>...</td>\n      <td>...</td>\n      <td>...</td>\n      <td>...</td>\n      <td>...</td>\n    </tr>\n    <tr>\n      <th>246</th>\n      <td>2018-12-24</td>\n      <td>129.740005</td>\n      <td>123.019997</td>\n      <td>123.099998</td>\n      <td>124.059998</td>\n      <td>22066000</td>\n    </tr>\n    <tr>\n      <th>247</th>\n      <td>2018-12-26</td>\n      <td>134.240005</td>\n      <td>125.889999</td>\n      <td>126.000000</td>\n      <td>134.179993</td>\n      <td>39723400</td>\n    </tr>\n    <tr>\n      <th>248</th>\n      <td>2018-12-27</td>\n      <td>134.990005</td>\n      <td>129.669998</td>\n      <td>132.440002</td>\n      <td>134.520004</td>\n      <td>31202500</td>\n    </tr>\n    <tr>\n      <th>249</th>\n      <td>2018-12-28</td>\n      <td>135.919998</td>\n      <td>132.199997</td>\n      <td>135.339996</td>\n      <td>133.199997</td>\n      <td>22627600</td>\n    </tr>\n    <tr>\n      <th>250</th>\n      <td>2018-12-31</td>\n      <td>134.639999</td>\n      <td>129.949997</td>\n      <td>134.449997</td>\n      <td>131.089996</td>\n      <td>24625300</td>\n    </tr>\n  </tbody>\n</table>\n<p>251 rows × 6 columns</p>\n</div>"
     },
     "execution_count": 24,
     "metadata": {},
     "output_type": "execute_result"
    }
   ],
   "source": [
    "fb = pd.read_csv('C:/Users/toduc/OneDrive - National Economics University/Desktop/NEU/Machine Learning/Visualization/Data/fb.csv', sep=',')\n",
    "fb"
   ],
   "metadata": {
    "collapsed": false,
    "pycharm": {
     "name": "#%%\n"
    }
   }
  },
  {
   "cell_type": "code",
   "execution_count": 25,
   "outputs": [
    {
     "data": {
      "text/plain": "           date        high         low        open       close    volume  \\\n0    2018-01-02  181.580002  177.550003  177.679993  181.419998  18151900   \n1    2018-01-03  184.779999  181.330002  181.880005  184.669998  16886600   \n2    2018-01-04  186.210007  184.100006  184.899994  184.330002  13880900   \n3    2018-01-05  186.899994  184.929993  185.589996  186.850006  13574500   \n4    2018-01-08  188.899994  186.330002  187.199997  188.279999  17994700   \n..          ...         ...         ...         ...         ...       ...   \n246  2018-12-24  129.740005  123.019997  123.099998  124.059998  22066000   \n247  2018-12-26  134.240005  125.889999  126.000000  134.179993  39723400   \n248  2018-12-27  134.990005  129.669998  132.440002  134.520004  31202500   \n249  2018-12-28  135.919998  132.199997  135.339996  133.199997  22627600   \n250  2018-12-31  134.639999  129.949997  134.449997  131.089996  24625300   \n\n     tmr_volume  \n0           NaN  \n1    18151900.0  \n2    16886600.0  \n3    13880900.0  \n4    13574500.0  \n..          ...  \n246  56901500.0  \n247  22066000.0  \n248  39723400.0  \n249  31202500.0  \n250  22627600.0  \n\n[251 rows x 7 columns]",
      "text/html": "<div>\n<style scoped>\n    .dataframe tbody tr th:only-of-type {\n        vertical-align: middle;\n    }\n\n    .dataframe tbody tr th {\n        vertical-align: top;\n    }\n\n    .dataframe thead th {\n        text-align: right;\n    }\n</style>\n<table border=\"1\" class=\"dataframe\">\n  <thead>\n    <tr style=\"text-align: right;\">\n      <th></th>\n      <th>date</th>\n      <th>high</th>\n      <th>low</th>\n      <th>open</th>\n      <th>close</th>\n      <th>volume</th>\n      <th>tmr_volume</th>\n    </tr>\n  </thead>\n  <tbody>\n    <tr>\n      <th>0</th>\n      <td>2018-01-02</td>\n      <td>181.580002</td>\n      <td>177.550003</td>\n      <td>177.679993</td>\n      <td>181.419998</td>\n      <td>18151900</td>\n      <td>NaN</td>\n    </tr>\n    <tr>\n      <th>1</th>\n      <td>2018-01-03</td>\n      <td>184.779999</td>\n      <td>181.330002</td>\n      <td>181.880005</td>\n      <td>184.669998</td>\n      <td>16886600</td>\n      <td>18151900.0</td>\n    </tr>\n    <tr>\n      <th>2</th>\n      <td>2018-01-04</td>\n      <td>186.210007</td>\n      <td>184.100006</td>\n      <td>184.899994</td>\n      <td>184.330002</td>\n      <td>13880900</td>\n      <td>16886600.0</td>\n    </tr>\n    <tr>\n      <th>3</th>\n      <td>2018-01-05</td>\n      <td>186.899994</td>\n      <td>184.929993</td>\n      <td>185.589996</td>\n      <td>186.850006</td>\n      <td>13574500</td>\n      <td>13880900.0</td>\n    </tr>\n    <tr>\n      <th>4</th>\n      <td>2018-01-08</td>\n      <td>188.899994</td>\n      <td>186.330002</td>\n      <td>187.199997</td>\n      <td>188.279999</td>\n      <td>17994700</td>\n      <td>13574500.0</td>\n    </tr>\n    <tr>\n      <th>...</th>\n      <td>...</td>\n      <td>...</td>\n      <td>...</td>\n      <td>...</td>\n      <td>...</td>\n      <td>...</td>\n      <td>...</td>\n    </tr>\n    <tr>\n      <th>246</th>\n      <td>2018-12-24</td>\n      <td>129.740005</td>\n      <td>123.019997</td>\n      <td>123.099998</td>\n      <td>124.059998</td>\n      <td>22066000</td>\n      <td>56901500.0</td>\n    </tr>\n    <tr>\n      <th>247</th>\n      <td>2018-12-26</td>\n      <td>134.240005</td>\n      <td>125.889999</td>\n      <td>126.000000</td>\n      <td>134.179993</td>\n      <td>39723400</td>\n      <td>22066000.0</td>\n    </tr>\n    <tr>\n      <th>248</th>\n      <td>2018-12-27</td>\n      <td>134.990005</td>\n      <td>129.669998</td>\n      <td>132.440002</td>\n      <td>134.520004</td>\n      <td>31202500</td>\n      <td>39723400.0</td>\n    </tr>\n    <tr>\n      <th>249</th>\n      <td>2018-12-28</td>\n      <td>135.919998</td>\n      <td>132.199997</td>\n      <td>135.339996</td>\n      <td>133.199997</td>\n      <td>22627600</td>\n      <td>31202500.0</td>\n    </tr>\n    <tr>\n      <th>250</th>\n      <td>2018-12-31</td>\n      <td>134.639999</td>\n      <td>129.949997</td>\n      <td>134.449997</td>\n      <td>131.089996</td>\n      <td>24625300</td>\n      <td>22627600.0</td>\n    </tr>\n  </tbody>\n</table>\n<p>251 rows × 7 columns</p>\n</div>"
     },
     "execution_count": 25,
     "metadata": {},
     "output_type": "execute_result"
    }
   ],
   "source": [
    "fb['tmr_volume'] = fb.volume.shift(1)\n",
    "fb"
   ],
   "metadata": {
    "collapsed": false,
    "pycharm": {
     "name": "#%%\n"
    }
   }
  },
  {
   "cell_type": "code",
   "execution_count": 26,
   "outputs": [
    {
     "data": {
      "text/plain": "           date        high         low        open       close    volume  \\\n0    2018-01-02  181.580002  177.550003  177.679993  181.419998  18151900   \n1    2018-01-03  184.779999  181.330002  181.880005  184.669998  16886600   \n2    2018-01-04  186.210007  184.100006  184.899994  184.330002  13880900   \n3    2018-01-05  186.899994  184.929993  185.589996  186.850006  13574500   \n4    2018-01-08  188.899994  186.330002  187.199997  188.279999  17994700   \n..          ...         ...         ...         ...         ...       ...   \n246  2018-12-24  129.740005  123.019997  123.099998  124.059998  22066000   \n247  2018-12-26  134.240005  125.889999  126.000000  134.179993  39723400   \n248  2018-12-27  134.990005  129.669998  132.440002  134.520004  31202500   \n249  2018-12-28  135.919998  132.199997  135.339996  133.199997  22627600   \n250  2018-12-31  134.639999  129.949997  134.449997  131.089996  24625300   \n\n     tmr_volume     ratio  \n0           NaN       NaN  \n1    18151900.0  0.930294  \n2    16886600.0  0.822007  \n3    13880900.0  0.977927  \n4    13574500.0  1.325625  \n..          ...       ...  \n246  56901500.0  0.387793  \n247  22066000.0  1.800208  \n248  39723400.0  0.785494  \n249  31202500.0  0.725185  \n250  22627600.0  1.088286  \n\n[251 rows x 8 columns]",
      "text/html": "<div>\n<style scoped>\n    .dataframe tbody tr th:only-of-type {\n        vertical-align: middle;\n    }\n\n    .dataframe tbody tr th {\n        vertical-align: top;\n    }\n\n    .dataframe thead th {\n        text-align: right;\n    }\n</style>\n<table border=\"1\" class=\"dataframe\">\n  <thead>\n    <tr style=\"text-align: right;\">\n      <th></th>\n      <th>date</th>\n      <th>high</th>\n      <th>low</th>\n      <th>open</th>\n      <th>close</th>\n      <th>volume</th>\n      <th>tmr_volume</th>\n      <th>ratio</th>\n    </tr>\n  </thead>\n  <tbody>\n    <tr>\n      <th>0</th>\n      <td>2018-01-02</td>\n      <td>181.580002</td>\n      <td>177.550003</td>\n      <td>177.679993</td>\n      <td>181.419998</td>\n      <td>18151900</td>\n      <td>NaN</td>\n      <td>NaN</td>\n    </tr>\n    <tr>\n      <th>1</th>\n      <td>2018-01-03</td>\n      <td>184.779999</td>\n      <td>181.330002</td>\n      <td>181.880005</td>\n      <td>184.669998</td>\n      <td>16886600</td>\n      <td>18151900.0</td>\n      <td>0.930294</td>\n    </tr>\n    <tr>\n      <th>2</th>\n      <td>2018-01-04</td>\n      <td>186.210007</td>\n      <td>184.100006</td>\n      <td>184.899994</td>\n      <td>184.330002</td>\n      <td>13880900</td>\n      <td>16886600.0</td>\n      <td>0.822007</td>\n    </tr>\n    <tr>\n      <th>3</th>\n      <td>2018-01-05</td>\n      <td>186.899994</td>\n      <td>184.929993</td>\n      <td>185.589996</td>\n      <td>186.850006</td>\n      <td>13574500</td>\n      <td>13880900.0</td>\n      <td>0.977927</td>\n    </tr>\n    <tr>\n      <th>4</th>\n      <td>2018-01-08</td>\n      <td>188.899994</td>\n      <td>186.330002</td>\n      <td>187.199997</td>\n      <td>188.279999</td>\n      <td>17994700</td>\n      <td>13574500.0</td>\n      <td>1.325625</td>\n    </tr>\n    <tr>\n      <th>...</th>\n      <td>...</td>\n      <td>...</td>\n      <td>...</td>\n      <td>...</td>\n      <td>...</td>\n      <td>...</td>\n      <td>...</td>\n      <td>...</td>\n    </tr>\n    <tr>\n      <th>246</th>\n      <td>2018-12-24</td>\n      <td>129.740005</td>\n      <td>123.019997</td>\n      <td>123.099998</td>\n      <td>124.059998</td>\n      <td>22066000</td>\n      <td>56901500.0</td>\n      <td>0.387793</td>\n    </tr>\n    <tr>\n      <th>247</th>\n      <td>2018-12-26</td>\n      <td>134.240005</td>\n      <td>125.889999</td>\n      <td>126.000000</td>\n      <td>134.179993</td>\n      <td>39723400</td>\n      <td>22066000.0</td>\n      <td>1.800208</td>\n    </tr>\n    <tr>\n      <th>248</th>\n      <td>2018-12-27</td>\n      <td>134.990005</td>\n      <td>129.669998</td>\n      <td>132.440002</td>\n      <td>134.520004</td>\n      <td>31202500</td>\n      <td>39723400.0</td>\n      <td>0.785494</td>\n    </tr>\n    <tr>\n      <th>249</th>\n      <td>2018-12-28</td>\n      <td>135.919998</td>\n      <td>132.199997</td>\n      <td>135.339996</td>\n      <td>133.199997</td>\n      <td>22627600</td>\n      <td>31202500.0</td>\n      <td>0.725185</td>\n    </tr>\n    <tr>\n      <th>250</th>\n      <td>2018-12-31</td>\n      <td>134.639999</td>\n      <td>129.949997</td>\n      <td>134.449997</td>\n      <td>131.089996</td>\n      <td>24625300</td>\n      <td>22627600.0</td>\n      <td>1.088286</td>\n    </tr>\n  </tbody>\n</table>\n<p>251 rows × 8 columns</p>\n</div>"
     },
     "execution_count": 26,
     "metadata": {},
     "output_type": "execute_result"
    }
   ],
   "source": [
    "new = fb.assign(ratio = lambda x: fb['volume'] / fb['tmr_volume'])\n",
    "new"
   ],
   "metadata": {
    "collapsed": false,
    "pycharm": {
     "name": "#%%\n"
    }
   }
  },
  {
   "cell_type": "code",
   "execution_count": 27,
   "outputs": [
    {
     "data": {
      "text/plain": "           date        high         low        open       close     volume  \\\n8    2018-01-12  181.479996  177.399994  178.059998  179.369995   77551300   \n52   2018-03-19  177.169998  170.059998  177.009995  172.559998   88140100   \n142  2018-07-26  180.130005  173.750000  174.889999  176.259995  169803700   \n182  2018-09-21  167.250000  162.809998  166.639999  162.929993   45994800   \n57   2018-03-26  161.100006  149.020004  160.820007  160.059998  126116600   \n..          ...         ...         ...         ...         ...        ...   \n183  2018-09-24  165.699997  160.880005  161.029999  165.410004   19222800   \n246  2018-12-24  129.740005  123.019997  123.099998  124.059998   22066000   \n80   2018-04-27  177.100006  172.600006  176.809998  173.589996   29804700   \n143  2018-07-27  179.929993  173.000000  179.869995  174.889999   60073700   \n0    2018-01-02  181.580002  177.550003  177.679993  181.419998   18151900   \n\n      tmr_volume     ratio  \n8      9588600.0  8.087865  \n52    24403400.0  3.611796  \n142   58954200.0  2.880265  \n182   18936000.0  2.428961  \n57    53609700.0  2.352496  \n..           ...       ...  \n183   45994800.0  0.417934  \n246   56901500.0  0.387793  \n80    77556900.0  0.384295  \n143  169803700.0  0.353783  \n0            NaN       NaN  \n\n[251 rows x 8 columns]",
      "text/html": "<div>\n<style scoped>\n    .dataframe tbody tr th:only-of-type {\n        vertical-align: middle;\n    }\n\n    .dataframe tbody tr th {\n        vertical-align: top;\n    }\n\n    .dataframe thead th {\n        text-align: right;\n    }\n</style>\n<table border=\"1\" class=\"dataframe\">\n  <thead>\n    <tr style=\"text-align: right;\">\n      <th></th>\n      <th>date</th>\n      <th>high</th>\n      <th>low</th>\n      <th>open</th>\n      <th>close</th>\n      <th>volume</th>\n      <th>tmr_volume</th>\n      <th>ratio</th>\n    </tr>\n  </thead>\n  <tbody>\n    <tr>\n      <th>8</th>\n      <td>2018-01-12</td>\n      <td>181.479996</td>\n      <td>177.399994</td>\n      <td>178.059998</td>\n      <td>179.369995</td>\n      <td>77551300</td>\n      <td>9588600.0</td>\n      <td>8.087865</td>\n    </tr>\n    <tr>\n      <th>52</th>\n      <td>2018-03-19</td>\n      <td>177.169998</td>\n      <td>170.059998</td>\n      <td>177.009995</td>\n      <td>172.559998</td>\n      <td>88140100</td>\n      <td>24403400.0</td>\n      <td>3.611796</td>\n    </tr>\n    <tr>\n      <th>142</th>\n      <td>2018-07-26</td>\n      <td>180.130005</td>\n      <td>173.750000</td>\n      <td>174.889999</td>\n      <td>176.259995</td>\n      <td>169803700</td>\n      <td>58954200.0</td>\n      <td>2.880265</td>\n    </tr>\n    <tr>\n      <th>182</th>\n      <td>2018-09-21</td>\n      <td>167.250000</td>\n      <td>162.809998</td>\n      <td>166.639999</td>\n      <td>162.929993</td>\n      <td>45994800</td>\n      <td>18936000.0</td>\n      <td>2.428961</td>\n    </tr>\n    <tr>\n      <th>57</th>\n      <td>2018-03-26</td>\n      <td>161.100006</td>\n      <td>149.020004</td>\n      <td>160.820007</td>\n      <td>160.059998</td>\n      <td>126116600</td>\n      <td>53609700.0</td>\n      <td>2.352496</td>\n    </tr>\n    <tr>\n      <th>...</th>\n      <td>...</td>\n      <td>...</td>\n      <td>...</td>\n      <td>...</td>\n      <td>...</td>\n      <td>...</td>\n      <td>...</td>\n      <td>...</td>\n    </tr>\n    <tr>\n      <th>183</th>\n      <td>2018-09-24</td>\n      <td>165.699997</td>\n      <td>160.880005</td>\n      <td>161.029999</td>\n      <td>165.410004</td>\n      <td>19222800</td>\n      <td>45994800.0</td>\n      <td>0.417934</td>\n    </tr>\n    <tr>\n      <th>246</th>\n      <td>2018-12-24</td>\n      <td>129.740005</td>\n      <td>123.019997</td>\n      <td>123.099998</td>\n      <td>124.059998</td>\n      <td>22066000</td>\n      <td>56901500.0</td>\n      <td>0.387793</td>\n    </tr>\n    <tr>\n      <th>80</th>\n      <td>2018-04-27</td>\n      <td>177.100006</td>\n      <td>172.600006</td>\n      <td>176.809998</td>\n      <td>173.589996</td>\n      <td>29804700</td>\n      <td>77556900.0</td>\n      <td>0.384295</td>\n    </tr>\n    <tr>\n      <th>143</th>\n      <td>2018-07-27</td>\n      <td>179.929993</td>\n      <td>173.000000</td>\n      <td>179.869995</td>\n      <td>174.889999</td>\n      <td>60073700</td>\n      <td>169803700.0</td>\n      <td>0.353783</td>\n    </tr>\n    <tr>\n      <th>0</th>\n      <td>2018-01-02</td>\n      <td>181.580002</td>\n      <td>177.550003</td>\n      <td>177.679993</td>\n      <td>181.419998</td>\n      <td>18151900</td>\n      <td>NaN</td>\n      <td>NaN</td>\n    </tr>\n  </tbody>\n</table>\n<p>251 rows × 8 columns</p>\n</div>"
     },
     "execution_count": 27,
     "metadata": {},
     "output_type": "execute_result"
    }
   ],
   "source": [
    "new.sort_values(by='ratio', ascending=False)"
   ],
   "metadata": {
    "collapsed": false,
    "pycharm": {
     "name": "#%%\n"
    }
   }
  },
  {
   "cell_type": "code",
   "execution_count": 28,
   "outputs": [
    {
     "data": {
      "text/plain": "     alert  cdi        code  \\\n0      NaN  NaN    37389218   \n1      NaN  NaN    37389202   \n2      NaN  4.4    37389194   \n3      NaN  NaN    37389186   \n4      NaN  NaN    73096941   \n...    ...  ...         ...   \n9327   NaN  NaN    73086771   \n9328   NaN  NaN    38063967   \n9329   NaN  NaN  2018261000   \n9330   NaN  NaN    38063959   \n9331   NaN  NaN    38063935   \n\n                                                 detail      dmin  felt  \\\n0     https://earthquake.usgs.gov/fdsnws/event/1/que...  0.008693   NaN   \n1     https://earthquake.usgs.gov/fdsnws/event/1/que...  0.020030   NaN   \n2     https://earthquake.usgs.gov/fdsnws/event/1/que...  0.021370  28.0   \n3     https://earthquake.usgs.gov/fdsnws/event/1/que...  0.026180   NaN   \n4     https://earthquake.usgs.gov/fdsnws/event/1/que...  0.077990   NaN   \n...                                                 ...       ...   ...   \n9327  https://earthquake.usgs.gov/fdsnws/event/1/que...  0.018060   NaN   \n9328  https://earthquake.usgs.gov/fdsnws/event/1/que...  0.030410   NaN   \n9329  https://earthquake.usgs.gov/fdsnws/event/1/que...  0.452600   NaN   \n9330  https://earthquake.usgs.gov/fdsnws/event/1/que...  0.018650   NaN   \n9331  https://earthquake.usgs.gov/fdsnws/event/1/que...  0.016980   NaN   \n\n        gap             ids   mag magType  ...  sources     status  \\\n0      85.0    ,ci37389218,  1.35      ml  ...     ,ci,  automatic   \n1      79.0    ,ci37389202,  1.29      ml  ...     ,ci,  automatic   \n2      21.0    ,ci37389194,  3.42      ml  ...     ,ci,  automatic   \n3      39.0    ,ci37389186,  0.44      ml  ...     ,ci,  automatic   \n4     192.0    ,nc73096941,  2.16      md  ...     ,nc,  automatic   \n...     ...             ...   ...     ...  ...      ...        ...   \n9327  185.0    ,nc73086771,  0.62      md  ...     ,nc,   reviewed   \n9328   50.0    ,ci38063967,  1.00      ml  ...     ,ci,   reviewed   \n9329  276.0  ,pr2018261000,  2.40      md  ...     ,pr,   reviewed   \n9330   61.0    ,ci38063959,  1.10      ml  ...     ,ci,   reviewed   \n9331   39.0    ,ci38063935,  0.66      ml  ...     ,ci,   reviewed   \n\n               time                                     title  tsunami  \\\n0     1539475168010             M 1.4 - 9km NE of Aguanga, CA        0   \n1     1539475129610             M 1.3 - 9km NE of Aguanga, CA        0   \n2     1539475062610             M 3.4 - 8km NE of Aguanga, CA        0   \n3     1539474978070             M 0.4 - 9km NE of Aguanga, CA        0   \n4     1539474716050             M 2.2 - 10km NW of Avenal, CA        0   \n...             ...                                       ...      ...   \n9327  1537230228060      M 0.6 - 9km ENE of Mammoth Lakes, CA        0   \n9328  1537230135130               M 1.0 - 3km W of Julian, CA        0   \n9329  1537229908180  M 2.4 - 35km NNE of Hatillo, Puerto Rico        0   \n9330  1537229545350             M 1.1 - 9km NE of Aguanga, CA        0   \n9331  1537228864470             M 0.7 - 9km NE of Aguanga, CA        0   \n\n            type                                              types     tz  \\\n0     earthquake         ,geoserve,nearby-cities,origin,phase-data, -480.0   \n1     earthquake         ,geoserve,nearby-cities,origin,phase-data, -480.0   \n2     earthquake  ,dyfi,focal-mechanism,geoserve,nearby-cities,o... -480.0   \n3     earthquake         ,geoserve,nearby-cities,origin,phase-data, -480.0   \n4     earthquake  ,geoserve,nearby-cities,origin,phase-data,scit... -480.0   \n...          ...                                                ...    ...   \n9327  earthquake         ,geoserve,nearby-cities,origin,phase-data, -480.0   \n9328  earthquake  ,geoserve,nearby-cities,origin,phase-data,scit... -480.0   \n9329  earthquake                       ,geoserve,origin,phase-data, -240.0   \n9330  earthquake  ,focal-mechanism,geoserve,nearby-cities,origin... -480.0   \n9331  earthquake  ,focal-mechanism,geoserve,nearby-cities,origin... -480.0   \n\n            updated                                                url  \n0     1539475395144  https://earthquake.usgs.gov/earthquakes/eventp...  \n1     1539475253925  https://earthquake.usgs.gov/earthquakes/eventp...  \n2     1539536756176  https://earthquake.usgs.gov/earthquakes/eventp...  \n3     1539475196167  https://earthquake.usgs.gov/earthquakes/eventp...  \n4     1539477547926  https://earthquake.usgs.gov/earthquakes/eventp...  \n...             ...                                                ...  \n9327  1537285598315  https://earthquake.usgs.gov/earthquakes/eventp...  \n9328  1537276800970  https://earthquake.usgs.gov/earthquakes/eventp...  \n9329  1537243777410  https://earthquake.usgs.gov/earthquakes/eventp...  \n9330  1537230211640  https://earthquake.usgs.gov/earthquakes/eventp...  \n9331  1537305830770  https://earthquake.usgs.gov/earthquakes/eventp...  \n\n[9332 rows x 26 columns]",
      "text/html": "<div>\n<style scoped>\n    .dataframe tbody tr th:only-of-type {\n        vertical-align: middle;\n    }\n\n    .dataframe tbody tr th {\n        vertical-align: top;\n    }\n\n    .dataframe thead th {\n        text-align: right;\n    }\n</style>\n<table border=\"1\" class=\"dataframe\">\n  <thead>\n    <tr style=\"text-align: right;\">\n      <th></th>\n      <th>alert</th>\n      <th>cdi</th>\n      <th>code</th>\n      <th>detail</th>\n      <th>dmin</th>\n      <th>felt</th>\n      <th>gap</th>\n      <th>ids</th>\n      <th>mag</th>\n      <th>magType</th>\n      <th>...</th>\n      <th>sources</th>\n      <th>status</th>\n      <th>time</th>\n      <th>title</th>\n      <th>tsunami</th>\n      <th>type</th>\n      <th>types</th>\n      <th>tz</th>\n      <th>updated</th>\n      <th>url</th>\n    </tr>\n  </thead>\n  <tbody>\n    <tr>\n      <th>0</th>\n      <td>NaN</td>\n      <td>NaN</td>\n      <td>37389218</td>\n      <td>https://earthquake.usgs.gov/fdsnws/event/1/que...</td>\n      <td>0.008693</td>\n      <td>NaN</td>\n      <td>85.0</td>\n      <td>,ci37389218,</td>\n      <td>1.35</td>\n      <td>ml</td>\n      <td>...</td>\n      <td>,ci,</td>\n      <td>automatic</td>\n      <td>1539475168010</td>\n      <td>M 1.4 - 9km NE of Aguanga, CA</td>\n      <td>0</td>\n      <td>earthquake</td>\n      <td>,geoserve,nearby-cities,origin,phase-data,</td>\n      <td>-480.0</td>\n      <td>1539475395144</td>\n      <td>https://earthquake.usgs.gov/earthquakes/eventp...</td>\n    </tr>\n    <tr>\n      <th>1</th>\n      <td>NaN</td>\n      <td>NaN</td>\n      <td>37389202</td>\n      <td>https://earthquake.usgs.gov/fdsnws/event/1/que...</td>\n      <td>0.020030</td>\n      <td>NaN</td>\n      <td>79.0</td>\n      <td>,ci37389202,</td>\n      <td>1.29</td>\n      <td>ml</td>\n      <td>...</td>\n      <td>,ci,</td>\n      <td>automatic</td>\n      <td>1539475129610</td>\n      <td>M 1.3 - 9km NE of Aguanga, CA</td>\n      <td>0</td>\n      <td>earthquake</td>\n      <td>,geoserve,nearby-cities,origin,phase-data,</td>\n      <td>-480.0</td>\n      <td>1539475253925</td>\n      <td>https://earthquake.usgs.gov/earthquakes/eventp...</td>\n    </tr>\n    <tr>\n      <th>2</th>\n      <td>NaN</td>\n      <td>4.4</td>\n      <td>37389194</td>\n      <td>https://earthquake.usgs.gov/fdsnws/event/1/que...</td>\n      <td>0.021370</td>\n      <td>28.0</td>\n      <td>21.0</td>\n      <td>,ci37389194,</td>\n      <td>3.42</td>\n      <td>ml</td>\n      <td>...</td>\n      <td>,ci,</td>\n      <td>automatic</td>\n      <td>1539475062610</td>\n      <td>M 3.4 - 8km NE of Aguanga, CA</td>\n      <td>0</td>\n      <td>earthquake</td>\n      <td>,dyfi,focal-mechanism,geoserve,nearby-cities,o...</td>\n      <td>-480.0</td>\n      <td>1539536756176</td>\n      <td>https://earthquake.usgs.gov/earthquakes/eventp...</td>\n    </tr>\n    <tr>\n      <th>3</th>\n      <td>NaN</td>\n      <td>NaN</td>\n      <td>37389186</td>\n      <td>https://earthquake.usgs.gov/fdsnws/event/1/que...</td>\n      <td>0.026180</td>\n      <td>NaN</td>\n      <td>39.0</td>\n      <td>,ci37389186,</td>\n      <td>0.44</td>\n      <td>ml</td>\n      <td>...</td>\n      <td>,ci,</td>\n      <td>automatic</td>\n      <td>1539474978070</td>\n      <td>M 0.4 - 9km NE of Aguanga, CA</td>\n      <td>0</td>\n      <td>earthquake</td>\n      <td>,geoserve,nearby-cities,origin,phase-data,</td>\n      <td>-480.0</td>\n      <td>1539475196167</td>\n      <td>https://earthquake.usgs.gov/earthquakes/eventp...</td>\n    </tr>\n    <tr>\n      <th>4</th>\n      <td>NaN</td>\n      <td>NaN</td>\n      <td>73096941</td>\n      <td>https://earthquake.usgs.gov/fdsnws/event/1/que...</td>\n      <td>0.077990</td>\n      <td>NaN</td>\n      <td>192.0</td>\n      <td>,nc73096941,</td>\n      <td>2.16</td>\n      <td>md</td>\n      <td>...</td>\n      <td>,nc,</td>\n      <td>automatic</td>\n      <td>1539474716050</td>\n      <td>M 2.2 - 10km NW of Avenal, CA</td>\n      <td>0</td>\n      <td>earthquake</td>\n      <td>,geoserve,nearby-cities,origin,phase-data,scit...</td>\n      <td>-480.0</td>\n      <td>1539477547926</td>\n      <td>https://earthquake.usgs.gov/earthquakes/eventp...</td>\n    </tr>\n    <tr>\n      <th>...</th>\n      <td>...</td>\n      <td>...</td>\n      <td>...</td>\n      <td>...</td>\n      <td>...</td>\n      <td>...</td>\n      <td>...</td>\n      <td>...</td>\n      <td>...</td>\n      <td>...</td>\n      <td>...</td>\n      <td>...</td>\n      <td>...</td>\n      <td>...</td>\n      <td>...</td>\n      <td>...</td>\n      <td>...</td>\n      <td>...</td>\n      <td>...</td>\n      <td>...</td>\n      <td>...</td>\n    </tr>\n    <tr>\n      <th>9327</th>\n      <td>NaN</td>\n      <td>NaN</td>\n      <td>73086771</td>\n      <td>https://earthquake.usgs.gov/fdsnws/event/1/que...</td>\n      <td>0.018060</td>\n      <td>NaN</td>\n      <td>185.0</td>\n      <td>,nc73086771,</td>\n      <td>0.62</td>\n      <td>md</td>\n      <td>...</td>\n      <td>,nc,</td>\n      <td>reviewed</td>\n      <td>1537230228060</td>\n      <td>M 0.6 - 9km ENE of Mammoth Lakes, CA</td>\n      <td>0</td>\n      <td>earthquake</td>\n      <td>,geoserve,nearby-cities,origin,phase-data,</td>\n      <td>-480.0</td>\n      <td>1537285598315</td>\n      <td>https://earthquake.usgs.gov/earthquakes/eventp...</td>\n    </tr>\n    <tr>\n      <th>9328</th>\n      <td>NaN</td>\n      <td>NaN</td>\n      <td>38063967</td>\n      <td>https://earthquake.usgs.gov/fdsnws/event/1/que...</td>\n      <td>0.030410</td>\n      <td>NaN</td>\n      <td>50.0</td>\n      <td>,ci38063967,</td>\n      <td>1.00</td>\n      <td>ml</td>\n      <td>...</td>\n      <td>,ci,</td>\n      <td>reviewed</td>\n      <td>1537230135130</td>\n      <td>M 1.0 - 3km W of Julian, CA</td>\n      <td>0</td>\n      <td>earthquake</td>\n      <td>,geoserve,nearby-cities,origin,phase-data,scit...</td>\n      <td>-480.0</td>\n      <td>1537276800970</td>\n      <td>https://earthquake.usgs.gov/earthquakes/eventp...</td>\n    </tr>\n    <tr>\n      <th>9329</th>\n      <td>NaN</td>\n      <td>NaN</td>\n      <td>2018261000</td>\n      <td>https://earthquake.usgs.gov/fdsnws/event/1/que...</td>\n      <td>0.452600</td>\n      <td>NaN</td>\n      <td>276.0</td>\n      <td>,pr2018261000,</td>\n      <td>2.40</td>\n      <td>md</td>\n      <td>...</td>\n      <td>,pr,</td>\n      <td>reviewed</td>\n      <td>1537229908180</td>\n      <td>M 2.4 - 35km NNE of Hatillo, Puerto Rico</td>\n      <td>0</td>\n      <td>earthquake</td>\n      <td>,geoserve,origin,phase-data,</td>\n      <td>-240.0</td>\n      <td>1537243777410</td>\n      <td>https://earthquake.usgs.gov/earthquakes/eventp...</td>\n    </tr>\n    <tr>\n      <th>9330</th>\n      <td>NaN</td>\n      <td>NaN</td>\n      <td>38063959</td>\n      <td>https://earthquake.usgs.gov/fdsnws/event/1/que...</td>\n      <td>0.018650</td>\n      <td>NaN</td>\n      <td>61.0</td>\n      <td>,ci38063959,</td>\n      <td>1.10</td>\n      <td>ml</td>\n      <td>...</td>\n      <td>,ci,</td>\n      <td>reviewed</td>\n      <td>1537229545350</td>\n      <td>M 1.1 - 9km NE of Aguanga, CA</td>\n      <td>0</td>\n      <td>earthquake</td>\n      <td>,focal-mechanism,geoserve,nearby-cities,origin...</td>\n      <td>-480.0</td>\n      <td>1537230211640</td>\n      <td>https://earthquake.usgs.gov/earthquakes/eventp...</td>\n    </tr>\n    <tr>\n      <th>9331</th>\n      <td>NaN</td>\n      <td>NaN</td>\n      <td>38063935</td>\n      <td>https://earthquake.usgs.gov/fdsnws/event/1/que...</td>\n      <td>0.016980</td>\n      <td>NaN</td>\n      <td>39.0</td>\n      <td>,ci38063935,</td>\n      <td>0.66</td>\n      <td>ml</td>\n      <td>...</td>\n      <td>,ci,</td>\n      <td>reviewed</td>\n      <td>1537228864470</td>\n      <td>M 0.7 - 9km NE of Aguanga, CA</td>\n      <td>0</td>\n      <td>earthquake</td>\n      <td>,focal-mechanism,geoserve,nearby-cities,origin...</td>\n      <td>-480.0</td>\n      <td>1537305830770</td>\n      <td>https://earthquake.usgs.gov/earthquakes/eventp...</td>\n    </tr>\n  </tbody>\n</table>\n<p>9332 rows × 26 columns</p>\n</div>"
     },
     "execution_count": 28,
     "metadata": {},
     "output_type": "execute_result"
    }
   ],
   "source": [
    "earthquakes = pd.read_csv('C:/Users/toduc/OneDrive - National Economics University/Desktop/NEU/Machine Learning/Visualization/Data/earthquakes.csv', sep=',')\n",
    "earthquakes"
   ],
   "metadata": {
    "collapsed": false,
    "pycharm": {
     "name": "#%%\n"
    }
   }
  },
  {
   "cell_type": "code",
   "execution_count": 29,
   "outputs": [
    {
     "data": {
      "text/plain": "     alert  cdi      code                                             detail  \\\n0      NaN  NaN  37389218  https://earthquake.usgs.gov/fdsnws/event/1/que...   \n1      NaN  NaN  37389202  https://earthquake.usgs.gov/fdsnws/event/1/que...   \n2      NaN  4.4  37389194  https://earthquake.usgs.gov/fdsnws/event/1/que...   \n3      NaN  NaN  37389186  https://earthquake.usgs.gov/fdsnws/event/1/que...   \n6      NaN  NaN  20280432  https://earthquake.usgs.gov/fdsnws/event/1/que...   \n...    ...  ...       ...                                                ...   \n9325   NaN  NaN  38063983  https://earthquake.usgs.gov/fdsnws/event/1/que...   \n9326   NaN  NaN  38063975  https://earthquake.usgs.gov/fdsnws/event/1/que...   \n9328   NaN  NaN  38063967  https://earthquake.usgs.gov/fdsnws/event/1/que...   \n9330   NaN  NaN  38063959  https://earthquake.usgs.gov/fdsnws/event/1/que...   \n9331   NaN  NaN  38063935  https://earthquake.usgs.gov/fdsnws/event/1/que...   \n\n          dmin  felt   gap           ids   mag magType  ...  sources  \\\n0     0.008693   NaN  85.0  ,ci37389218,  1.35      ml  ...     ,ci,   \n1     0.020030   NaN  79.0  ,ci37389202,  1.29      ml  ...     ,ci,   \n2     0.021370  28.0  21.0  ,ci37389194,  3.42      ml  ...     ,ci,   \n3     0.026180   NaN  39.0  ,ci37389186,  0.44      ml  ...     ,ci,   \n6          NaN   NaN   NaN  ,ak20280432,  1.70      ml  ...     ,ak,   \n...        ...   ...   ...           ...   ...     ...  ...      ...   \n9325  0.042720   NaN  56.0  ,ci38063983,  0.51      ml  ...     ,ci,   \n9326  0.036520   NaN  26.0  ,ci38063975,  1.82      ml  ...     ,ci,   \n9328  0.030410   NaN  50.0  ,ci38063967,  1.00      ml  ...     ,ci,   \n9330  0.018650   NaN  61.0  ,ci38063959,  1.10      ml  ...     ,ci,   \n9331  0.016980   NaN  39.0  ,ci38063935,  0.66      ml  ...     ,ci,   \n\n         status           time                                 title  tsunami  \\\n0     automatic  1539475168010         M 1.4 - 9km NE of Aguanga, CA        0   \n1     automatic  1539475129610         M 1.3 - 9km NE of Aguanga, CA        0   \n2     automatic  1539475062610         M 3.4 - 8km NE of Aguanga, CA        0   \n3     automatic  1539474978070         M 0.4 - 9km NE of Aguanga, CA        0   \n6     automatic  1539473176017  M 1.7 - 105km W of Talkeetna, Alaska        0   \n...         ...            ...                                   ...      ...   \n9325   reviewed  1537230344890         M 0.5 - 4km WNW of Julian, CA        0   \n9326   reviewed  1537230230260           M 1.8 - 4km W of Julian, CA        0   \n9328   reviewed  1537230135130           M 1.0 - 3km W of Julian, CA        0   \n9330   reviewed  1537229545350         M 1.1 - 9km NE of Aguanga, CA        0   \n9331   reviewed  1537228864470         M 0.7 - 9km NE of Aguanga, CA        0   \n\n            type                                              types     tz  \\\n0     earthquake         ,geoserve,nearby-cities,origin,phase-data, -480.0   \n1     earthquake         ,geoserve,nearby-cities,origin,phase-data, -480.0   \n2     earthquake  ,dyfi,focal-mechanism,geoserve,nearby-cities,o... -480.0   \n3     earthquake         ,geoserve,nearby-cities,origin,phase-data, -480.0   \n6     earthquake                                  ,geoserve,origin, -540.0   \n...          ...                                                ...    ...   \n9325  earthquake  ,geoserve,nearby-cities,origin,phase-data,scit... -480.0   \n9326  earthquake  ,focal-mechanism,geoserve,nearby-cities,origin... -480.0   \n9328  earthquake  ,geoserve,nearby-cities,origin,phase-data,scit... -480.0   \n9330  earthquake  ,focal-mechanism,geoserve,nearby-cities,origin... -480.0   \n9331  earthquake  ,focal-mechanism,geoserve,nearby-cities,origin... -480.0   \n\n            updated                                                url  \n0     1539475395144  https://earthquake.usgs.gov/earthquakes/eventp...  \n1     1539475253925  https://earthquake.usgs.gov/earthquakes/eventp...  \n2     1539536756176  https://earthquake.usgs.gov/earthquakes/eventp...  \n3     1539475196167  https://earthquake.usgs.gov/earthquakes/eventp...  \n6     1539473596465  https://earthquake.usgs.gov/earthquakes/eventp...  \n...             ...                                                ...  \n9325  1537290279205  https://earthquake.usgs.gov/earthquakes/eventp...  \n9326  1537276829920  https://earthquake.usgs.gov/earthquakes/eventp...  \n9328  1537276800970  https://earthquake.usgs.gov/earthquakes/eventp...  \n9330  1537230211640  https://earthquake.usgs.gov/earthquakes/eventp...  \n9331  1537305830770  https://earthquake.usgs.gov/earthquakes/eventp...  \n\n[6803 rows x 26 columns]",
      "text/html": "<div>\n<style scoped>\n    .dataframe tbody tr th:only-of-type {\n        vertical-align: middle;\n    }\n\n    .dataframe tbody tr th {\n        vertical-align: top;\n    }\n\n    .dataframe thead th {\n        text-align: right;\n    }\n</style>\n<table border=\"1\" class=\"dataframe\">\n  <thead>\n    <tr style=\"text-align: right;\">\n      <th></th>\n      <th>alert</th>\n      <th>cdi</th>\n      <th>code</th>\n      <th>detail</th>\n      <th>dmin</th>\n      <th>felt</th>\n      <th>gap</th>\n      <th>ids</th>\n      <th>mag</th>\n      <th>magType</th>\n      <th>...</th>\n      <th>sources</th>\n      <th>status</th>\n      <th>time</th>\n      <th>title</th>\n      <th>tsunami</th>\n      <th>type</th>\n      <th>types</th>\n      <th>tz</th>\n      <th>updated</th>\n      <th>url</th>\n    </tr>\n  </thead>\n  <tbody>\n    <tr>\n      <th>0</th>\n      <td>NaN</td>\n      <td>NaN</td>\n      <td>37389218</td>\n      <td>https://earthquake.usgs.gov/fdsnws/event/1/que...</td>\n      <td>0.008693</td>\n      <td>NaN</td>\n      <td>85.0</td>\n      <td>,ci37389218,</td>\n      <td>1.35</td>\n      <td>ml</td>\n      <td>...</td>\n      <td>,ci,</td>\n      <td>automatic</td>\n      <td>1539475168010</td>\n      <td>M 1.4 - 9km NE of Aguanga, CA</td>\n      <td>0</td>\n      <td>earthquake</td>\n      <td>,geoserve,nearby-cities,origin,phase-data,</td>\n      <td>-480.0</td>\n      <td>1539475395144</td>\n      <td>https://earthquake.usgs.gov/earthquakes/eventp...</td>\n    </tr>\n    <tr>\n      <th>1</th>\n      <td>NaN</td>\n      <td>NaN</td>\n      <td>37389202</td>\n      <td>https://earthquake.usgs.gov/fdsnws/event/1/que...</td>\n      <td>0.020030</td>\n      <td>NaN</td>\n      <td>79.0</td>\n      <td>,ci37389202,</td>\n      <td>1.29</td>\n      <td>ml</td>\n      <td>...</td>\n      <td>,ci,</td>\n      <td>automatic</td>\n      <td>1539475129610</td>\n      <td>M 1.3 - 9km NE of Aguanga, CA</td>\n      <td>0</td>\n      <td>earthquake</td>\n      <td>,geoserve,nearby-cities,origin,phase-data,</td>\n      <td>-480.0</td>\n      <td>1539475253925</td>\n      <td>https://earthquake.usgs.gov/earthquakes/eventp...</td>\n    </tr>\n    <tr>\n      <th>2</th>\n      <td>NaN</td>\n      <td>4.4</td>\n      <td>37389194</td>\n      <td>https://earthquake.usgs.gov/fdsnws/event/1/que...</td>\n      <td>0.021370</td>\n      <td>28.0</td>\n      <td>21.0</td>\n      <td>,ci37389194,</td>\n      <td>3.42</td>\n      <td>ml</td>\n      <td>...</td>\n      <td>,ci,</td>\n      <td>automatic</td>\n      <td>1539475062610</td>\n      <td>M 3.4 - 8km NE of Aguanga, CA</td>\n      <td>0</td>\n      <td>earthquake</td>\n      <td>,dyfi,focal-mechanism,geoserve,nearby-cities,o...</td>\n      <td>-480.0</td>\n      <td>1539536756176</td>\n      <td>https://earthquake.usgs.gov/earthquakes/eventp...</td>\n    </tr>\n    <tr>\n      <th>3</th>\n      <td>NaN</td>\n      <td>NaN</td>\n      <td>37389186</td>\n      <td>https://earthquake.usgs.gov/fdsnws/event/1/que...</td>\n      <td>0.026180</td>\n      <td>NaN</td>\n      <td>39.0</td>\n      <td>,ci37389186,</td>\n      <td>0.44</td>\n      <td>ml</td>\n      <td>...</td>\n      <td>,ci,</td>\n      <td>automatic</td>\n      <td>1539474978070</td>\n      <td>M 0.4 - 9km NE of Aguanga, CA</td>\n      <td>0</td>\n      <td>earthquake</td>\n      <td>,geoserve,nearby-cities,origin,phase-data,</td>\n      <td>-480.0</td>\n      <td>1539475196167</td>\n      <td>https://earthquake.usgs.gov/earthquakes/eventp...</td>\n    </tr>\n    <tr>\n      <th>6</th>\n      <td>NaN</td>\n      <td>NaN</td>\n      <td>20280432</td>\n      <td>https://earthquake.usgs.gov/fdsnws/event/1/que...</td>\n      <td>NaN</td>\n      <td>NaN</td>\n      <td>NaN</td>\n      <td>,ak20280432,</td>\n      <td>1.70</td>\n      <td>ml</td>\n      <td>...</td>\n      <td>,ak,</td>\n      <td>automatic</td>\n      <td>1539473176017</td>\n      <td>M 1.7 - 105km W of Talkeetna, Alaska</td>\n      <td>0</td>\n      <td>earthquake</td>\n      <td>,geoserve,origin,</td>\n      <td>-540.0</td>\n      <td>1539473596465</td>\n      <td>https://earthquake.usgs.gov/earthquakes/eventp...</td>\n    </tr>\n    <tr>\n      <th>...</th>\n      <td>...</td>\n      <td>...</td>\n      <td>...</td>\n      <td>...</td>\n      <td>...</td>\n      <td>...</td>\n      <td>...</td>\n      <td>...</td>\n      <td>...</td>\n      <td>...</td>\n      <td>...</td>\n      <td>...</td>\n      <td>...</td>\n      <td>...</td>\n      <td>...</td>\n      <td>...</td>\n      <td>...</td>\n      <td>...</td>\n      <td>...</td>\n      <td>...</td>\n      <td>...</td>\n    </tr>\n    <tr>\n      <th>9325</th>\n      <td>NaN</td>\n      <td>NaN</td>\n      <td>38063983</td>\n      <td>https://earthquake.usgs.gov/fdsnws/event/1/que...</td>\n      <td>0.042720</td>\n      <td>NaN</td>\n      <td>56.0</td>\n      <td>,ci38063983,</td>\n      <td>0.51</td>\n      <td>ml</td>\n      <td>...</td>\n      <td>,ci,</td>\n      <td>reviewed</td>\n      <td>1537230344890</td>\n      <td>M 0.5 - 4km WNW of Julian, CA</td>\n      <td>0</td>\n      <td>earthquake</td>\n      <td>,geoserve,nearby-cities,origin,phase-data,scit...</td>\n      <td>-480.0</td>\n      <td>1537290279205</td>\n      <td>https://earthquake.usgs.gov/earthquakes/eventp...</td>\n    </tr>\n    <tr>\n      <th>9326</th>\n      <td>NaN</td>\n      <td>NaN</td>\n      <td>38063975</td>\n      <td>https://earthquake.usgs.gov/fdsnws/event/1/que...</td>\n      <td>0.036520</td>\n      <td>NaN</td>\n      <td>26.0</td>\n      <td>,ci38063975,</td>\n      <td>1.82</td>\n      <td>ml</td>\n      <td>...</td>\n      <td>,ci,</td>\n      <td>reviewed</td>\n      <td>1537230230260</td>\n      <td>M 1.8 - 4km W of Julian, CA</td>\n      <td>0</td>\n      <td>earthquake</td>\n      <td>,focal-mechanism,geoserve,nearby-cities,origin...</td>\n      <td>-480.0</td>\n      <td>1537276829920</td>\n      <td>https://earthquake.usgs.gov/earthquakes/eventp...</td>\n    </tr>\n    <tr>\n      <th>9328</th>\n      <td>NaN</td>\n      <td>NaN</td>\n      <td>38063967</td>\n      <td>https://earthquake.usgs.gov/fdsnws/event/1/que...</td>\n      <td>0.030410</td>\n      <td>NaN</td>\n      <td>50.0</td>\n      <td>,ci38063967,</td>\n      <td>1.00</td>\n      <td>ml</td>\n      <td>...</td>\n      <td>,ci,</td>\n      <td>reviewed</td>\n      <td>1537230135130</td>\n      <td>M 1.0 - 3km W of Julian, CA</td>\n      <td>0</td>\n      <td>earthquake</td>\n      <td>,geoserve,nearby-cities,origin,phase-data,scit...</td>\n      <td>-480.0</td>\n      <td>1537276800970</td>\n      <td>https://earthquake.usgs.gov/earthquakes/eventp...</td>\n    </tr>\n    <tr>\n      <th>9330</th>\n      <td>NaN</td>\n      <td>NaN</td>\n      <td>38063959</td>\n      <td>https://earthquake.usgs.gov/fdsnws/event/1/que...</td>\n      <td>0.018650</td>\n      <td>NaN</td>\n      <td>61.0</td>\n      <td>,ci38063959,</td>\n      <td>1.10</td>\n      <td>ml</td>\n      <td>...</td>\n      <td>,ci,</td>\n      <td>reviewed</td>\n      <td>1537229545350</td>\n      <td>M 1.1 - 9km NE of Aguanga, CA</td>\n      <td>0</td>\n      <td>earthquake</td>\n      <td>,focal-mechanism,geoserve,nearby-cities,origin...</td>\n      <td>-480.0</td>\n      <td>1537230211640</td>\n      <td>https://earthquake.usgs.gov/earthquakes/eventp...</td>\n    </tr>\n    <tr>\n      <th>9331</th>\n      <td>NaN</td>\n      <td>NaN</td>\n      <td>38063935</td>\n      <td>https://earthquake.usgs.gov/fdsnws/event/1/que...</td>\n      <td>0.016980</td>\n      <td>NaN</td>\n      <td>39.0</td>\n      <td>,ci38063935,</td>\n      <td>0.66</td>\n      <td>ml</td>\n      <td>...</td>\n      <td>,ci,</td>\n      <td>reviewed</td>\n      <td>1537228864470</td>\n      <td>M 0.7 - 9km NE of Aguanga, CA</td>\n      <td>0</td>\n      <td>earthquake</td>\n      <td>,focal-mechanism,geoserve,nearby-cities,origin...</td>\n      <td>-480.0</td>\n      <td>1537305830770</td>\n      <td>https://earthquake.usgs.gov/earthquakes/eventp...</td>\n    </tr>\n  </tbody>\n</table>\n<p>6803 rows × 26 columns</p>\n</div>"
     },
     "execution_count": 29,
     "metadata": {},
     "output_type": "execute_result"
    }
   ],
   "source": [
    "data = earthquakes[earthquakes['magType'].str.contains('ml', na=False)]\n",
    "data"
   ],
   "metadata": {
    "collapsed": false,
    "pycharm": {
     "name": "#%%\n"
    }
   }
  },
  {
   "cell_type": "code",
   "execution_count": 30,
   "outputs": [
    {
     "data": {
      "text/plain": "0          medium\n1          medium\n2       dangerous\n3             low\n6          medium\n          ...    \n9325          low\n9326       medium\n9328          low\n9330       medium\n9331          low\nName: mag, Length: 6803, dtype: category\nCategories (4, object): ['low' < 'medium' < 'high' < 'dangerous']"
     },
     "execution_count": 30,
     "metadata": {},
     "output_type": "execute_result"
    }
   ],
   "source": [
    "binned = pd.cut(data.mag, bins=[0,1,2,3,4], labels=['low', 'medium', 'high', 'dangerous'])\n",
    "binned"
   ],
   "metadata": {
    "collapsed": false,
    "pycharm": {
     "name": "#%%\n"
    }
   }
  },
  {
   "cell_type": "code",
   "execution_count": 31,
   "outputs": [
    {
     "data": {
      "text/plain": "medium       3105\nlow          2207\nhigh          862\ndangerous     122\nName: mag, dtype: int64"
     },
     "execution_count": 31,
     "metadata": {},
     "output_type": "execute_result"
    }
   ],
   "source": [
    "binned.value_counts()"
   ],
   "metadata": {
    "collapsed": false,
    "pycharm": {
     "name": "#%%\n"
    }
   }
  },
  {
   "cell_type": "code",
   "execution_count": 32,
   "outputs": [
    {
     "data": {
      "text/plain": "             date datatype            station  value  \\\n0      2018-01-01     PRCP  GHCND:US1CTFR0039    0.0   \n1      2018-01-01     PRCP  GHCND:US1NJBG0015    0.0   \n2      2018-01-01     SNOW  GHCND:US1NJBG0015    0.0   \n3      2018-01-01     PRCP  GHCND:US1NJBG0017    0.0   \n4      2018-01-01     SNOW  GHCND:US1NJBG0017    0.0   \n...           ...      ...                ...    ...   \n80251  2018-12-31     WDF5  GHCND:USW00094789  130.0   \n80252  2018-12-31     WSF2  GHCND:USW00094789    9.8   \n80253  2018-12-31     WSF5  GHCND:USW00094789   12.5   \n80254  2018-12-31     WT01  GHCND:USW00094789    1.0   \n80255  2018-12-31     WT02  GHCND:USW00094789    1.0   \n\n                           station_name  \n0                 STAMFORD 4.2 S, CT US  \n1        NORTH ARLINGTON 0.7 WNW, NJ US  \n2        NORTH ARLINGTON 0.7 WNW, NJ US  \n3              GLEN ROCK 0.7 SSE, NJ US  \n4              GLEN ROCK 0.7 SSE, NJ US  \n...                                 ...  \n80251  JFK INTERNATIONAL AIRPORT, NY US  \n80252  JFK INTERNATIONAL AIRPORT, NY US  \n80253  JFK INTERNATIONAL AIRPORT, NY US  \n80254  JFK INTERNATIONAL AIRPORT, NY US  \n80255  JFK INTERNATIONAL AIRPORT, NY US  \n\n[80256 rows x 5 columns]",
      "text/html": "<div>\n<style scoped>\n    .dataframe tbody tr th:only-of-type {\n        vertical-align: middle;\n    }\n\n    .dataframe tbody tr th {\n        vertical-align: top;\n    }\n\n    .dataframe thead th {\n        text-align: right;\n    }\n</style>\n<table border=\"1\" class=\"dataframe\">\n  <thead>\n    <tr style=\"text-align: right;\">\n      <th></th>\n      <th>date</th>\n      <th>datatype</th>\n      <th>station</th>\n      <th>value</th>\n      <th>station_name</th>\n    </tr>\n  </thead>\n  <tbody>\n    <tr>\n      <th>0</th>\n      <td>2018-01-01</td>\n      <td>PRCP</td>\n      <td>GHCND:US1CTFR0039</td>\n      <td>0.0</td>\n      <td>STAMFORD 4.2 S, CT US</td>\n    </tr>\n    <tr>\n      <th>1</th>\n      <td>2018-01-01</td>\n      <td>PRCP</td>\n      <td>GHCND:US1NJBG0015</td>\n      <td>0.0</td>\n      <td>NORTH ARLINGTON 0.7 WNW, NJ US</td>\n    </tr>\n    <tr>\n      <th>2</th>\n      <td>2018-01-01</td>\n      <td>SNOW</td>\n      <td>GHCND:US1NJBG0015</td>\n      <td>0.0</td>\n      <td>NORTH ARLINGTON 0.7 WNW, NJ US</td>\n    </tr>\n    <tr>\n      <th>3</th>\n      <td>2018-01-01</td>\n      <td>PRCP</td>\n      <td>GHCND:US1NJBG0017</td>\n      <td>0.0</td>\n      <td>GLEN ROCK 0.7 SSE, NJ US</td>\n    </tr>\n    <tr>\n      <th>4</th>\n      <td>2018-01-01</td>\n      <td>SNOW</td>\n      <td>GHCND:US1NJBG0017</td>\n      <td>0.0</td>\n      <td>GLEN ROCK 0.7 SSE, NJ US</td>\n    </tr>\n    <tr>\n      <th>...</th>\n      <td>...</td>\n      <td>...</td>\n      <td>...</td>\n      <td>...</td>\n      <td>...</td>\n    </tr>\n    <tr>\n      <th>80251</th>\n      <td>2018-12-31</td>\n      <td>WDF5</td>\n      <td>GHCND:USW00094789</td>\n      <td>130.0</td>\n      <td>JFK INTERNATIONAL AIRPORT, NY US</td>\n    </tr>\n    <tr>\n      <th>80252</th>\n      <td>2018-12-31</td>\n      <td>WSF2</td>\n      <td>GHCND:USW00094789</td>\n      <td>9.8</td>\n      <td>JFK INTERNATIONAL AIRPORT, NY US</td>\n    </tr>\n    <tr>\n      <th>80253</th>\n      <td>2018-12-31</td>\n      <td>WSF5</td>\n      <td>GHCND:USW00094789</td>\n      <td>12.5</td>\n      <td>JFK INTERNATIONAL AIRPORT, NY US</td>\n    </tr>\n    <tr>\n      <th>80254</th>\n      <td>2018-12-31</td>\n      <td>WT01</td>\n      <td>GHCND:USW00094789</td>\n      <td>1.0</td>\n      <td>JFK INTERNATIONAL AIRPORT, NY US</td>\n    </tr>\n    <tr>\n      <th>80255</th>\n      <td>2018-12-31</td>\n      <td>WT02</td>\n      <td>GHCND:USW00094789</td>\n      <td>1.0</td>\n      <td>JFK INTERNATIONAL AIRPORT, NY US</td>\n    </tr>\n  </tbody>\n</table>\n<p>80256 rows × 5 columns</p>\n</div>"
     },
     "execution_count": 32,
     "metadata": {},
     "output_type": "execute_result"
    }
   ],
   "source": [
    "weather_by_station= pd.read_csv('C:/Users/toduc/OneDrive - National Economics University/Desktop/NEU/Machine Learning/Visualization/Data/weather_by_station.csv', sep=',')\n",
    "weather_by_station"
   ],
   "metadata": {
    "collapsed": false,
    "pycharm": {
     "name": "#%%\n"
    }
   }
  },
  {
   "cell_type": "code",
   "execution_count": 36,
   "outputs": [
    {
     "name": "stderr",
     "output_type": "stream",
     "text": [
      "C:\\Users\\toduc\\AppData\\Local\\Temp/ipykernel_6040/1952747352.py:1: UserWarning: Pandas doesn't allow columns to be created via a new attribute name - see https://pandas.pydata.org/pandas-docs/stable/indexing.html#attribute-access\n",
      "  weather_by_station.date_index = pd.DatetimeIndex(pd.to_datetime(weather_by_station.date, format='%Y/%m/%d'))\n"
     ]
    }
   ],
   "source": [
    "weather_by_station.date_index = pd.DatetimeIndex(pd.to_datetime(weather_by_station.date, format='%Y/%m/%d'))\n",
    "weather_by_station['month'] = weather_by_station.date_index.month"
   ],
   "metadata": {
    "collapsed": false,
    "pycharm": {
     "name": "#%%\n"
    }
   }
  },
  {
   "cell_type": "code",
   "execution_count": 37,
   "outputs": [
    {
     "data": {
      "text/plain": "month  station          \n1      GHCND:US1CTFR0039      9.762857\n       GHCND:US1NJBG0003     14.255556\n       GHCND:US1NJBG0015      6.207692\n       GHCND:US1NJBG0017     11.339506\n       GHCND:US1NJBG0018     14.388889\n                               ...    \n12     GHCND:USW00054787    185.034708\n       GHCND:USW00094728      2.732143\n       GHCND:USW00094741    179.765398\n       GHCND:USW00094745    195.080069\n       GHCND:USW00094789     41.066298\nName: value, Length: 1153, dtype: float64"
     },
     "execution_count": 37,
     "metadata": {},
     "output_type": "execute_result"
    }
   ],
   "source": [
    "weather_by_station.groupby(['month', 'station']).value.mean()\n"
   ],
   "metadata": {
    "collapsed": false,
    "pycharm": {
     "name": "#%%\n"
    }
   }
  },
  {
   "cell_type": "code",
   "execution_count": 39,
   "outputs": [
    {
     "data": {
      "text/plain": "month  station            station          \n1      GHCND:US1CTFR0039  GHCND:US1CTFR0039     2\n       GHCND:US1NJBG0003  GHCND:US1NJBG0003     1\n       GHCND:US1NJBG0015  GHCND:US1NJBG0015    20\n       GHCND:US1NJBG0017  GHCND:US1NJBG0017    25\n       GHCND:US1NJBG0018  GHCND:US1NJBG0018    27\n                                               ..\n12     GHCND:USC00308577  GHCND:USC00308577    31\n       GHCND:USW00014732  GHCND:USW00014732    31\n       GHCND:USW00014734  GHCND:USW00014734    31\n       GHCND:USW00094728  GHCND:USW00094728    31\n       GHCND:USW00094789  GHCND:USW00094789    31\nName: station, Length: 841, dtype: int64"
     },
     "execution_count": 39,
     "metadata": {},
     "output_type": "execute_result"
    }
   ],
   "source": [
    "snow = weather_by_station[weather_by_station.datatype.str.contains('SNOW')]\n",
    "snow.groupby(['month', 'station']).station.value_counts()"
   ],
   "metadata": {
    "collapsed": false,
    "pycharm": {
     "name": "#%%\n"
    }
   }
  },
  {
   "cell_type": "code",
   "execution_count": null,
   "outputs": [],
   "source": [],
   "metadata": {
    "collapsed": false,
    "pycharm": {
     "name": "#%%\n"
    }
   }
  }
 ],
 "metadata": {
  "kernelspec": {
   "name": "pycharm-eaa1fcfe",
   "language": "python",
   "display_name": "PyCharm (Data-preparation)"
  },
  "language_info": {
   "codemirror_mode": {
    "name": "ipython",
    "version": 2
   },
   "file_extension": ".py",
   "mimetype": "text/x-python",
   "name": "python",
   "nbconvert_exporter": "python",
   "pygments_lexer": "ipython2",
   "version": "2.7.6"
  }
 },
 "nbformat": 4,
 "nbformat_minor": 0
}