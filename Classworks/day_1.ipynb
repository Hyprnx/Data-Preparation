{
 "cells": [
  {
   "cell_type": "code",
   "execution_count": 6,
   "metadata": {
    "collapsed": true
   },
   "outputs": [],
   "source": [
    "import numpy as np\n",
    "import pandas as pd\n",
    "import matplotlib.pyplot as plt"
   ]
  },
  {
   "cell_type": "code",
   "execution_count": 7,
   "outputs": [
    {
     "name": "stdout",
     "output_type": "stream",
     "text": [
      "11\n"
     ]
    }
   ],
   "source": [
    "x = np.array([1,2,3,5], dtype='int8')\n",
    "\n",
    "tol = 0\n",
    "for i in x:\n",
    "    tol += i\n",
    "\n",
    "print(tol)"
   ],
   "metadata": {
    "collapsed": false,
    "pycharm": {
     "name": "#%%\n"
    }
   }
  },
  {
   "cell_type": "code",
   "execution_count": 8,
   "outputs": [
    {
     "name": "stdout",
     "output_type": "stream",
     "text": [
      "[[1 0 3 5]\n",
      " [1 0 3 0]]\n"
     ]
    }
   ],
   "source": [
    "tdx =  np.array([[1,2,3,5],[1,2,3,6]], dtype='int8')\n",
    "\n",
    "for i in range(len(tdx)):\n",
    "    for j in range(len(tdx[i])):\n",
    "        if tdx[i][j] % 2 == 0:\n",
    "            tdx[i][j] = 0\n",
    "\n",
    "print(tdx)\n"
   ],
   "metadata": {
    "collapsed": false,
    "pycharm": {
     "name": "#%%\n"
    }
   }
  },
  {
   "cell_type": "code",
   "execution_count": 9,
   "outputs": [
    {
     "name": "stdout",
     "output_type": "stream",
     "text": [
      "[[0 1 1 1 0]\n",
      " [1 0 1 1 0]\n",
      " [1 1 0 1 0]\n",
      " [1 0 0 0 0]\n",
      " [0 1 0 1 1]]\n"
     ]
    }
   ],
   "source": [
    "def cal_sum(arr):\n",
    "    return np.sum(center) - arr[1,1]\n",
    "gol =  np.array([[0,1,1,1,0],\n",
    "                 [1,0,1,1,0],\n",
    "                 [1,1,0,1,0],\n",
    "                 [1,0,0,0,0],\n",
    "                 [0,1,0,1,1]], dtype='int8')\n",
    "gol_2 = gol.copy()\n",
    "center = gol_2[1:-1,1:-1]\n",
    "row, col = gol_2.shape\n",
    "for i in range(1, row-1):\n",
    "    for j in range(1, row-1):\n",
    "        tol = cal_sum(gol_2[i-1:i+2,j-1:j+2])\n",
    "        if gol_2[i,j] == 1:\n",
    "            if tol in range(2,4):\n",
    "                gol_2[i, j] = 0\n",
    "            else:\n",
    "                gol_2[i, j] = 1\n",
    "        if gol_2[i,j] == 0:\n",
    "            if tol in range(2,4):\n",
    "                gol_2[i, j] = 1\n",
    "            else:\n",
    "                gol_2[i, j] = 0\n",
    "\n",
    "print(gol_2)"
   ],
   "metadata": {
    "collapsed": false,
    "pycharm": {
     "name": "#%%\n"
    }
   }
  },
  {
   "cell_type": "code",
   "execution_count": 10,
   "outputs": [
    {
     "name": "stdout",
     "output_type": "stream",
     "text": [
      "median = 182.0, mean = 179.73809523809524, min = 163, max = 193\n"
     ]
    },
    {
     "data": {
      "text/plain": "<Figure size 640x480 with 1 Axes>",
      "image/png": "[encoded data removed]"
     },
     "metadata": {},
     "output_type": "display_data"
    }
   ],
   "source": [
    "data = pd.read_csv('C:/Users/toduc/OneDrive - National Economics University/Desktop/NEU/Machine Learning/Visualization/Data/president_heights.csv')\n",
    "height = np.array(data['height(cm)'])\n",
    "median = np.median(height)\n",
    "mean = np.mean(height)\n",
    "min = np.min(height)\n",
    "max = np.max(height)\n",
    "print(f'{median = }, {mean = }, {min = }, {max = }')\n",
    "# np.histogram(height)\n",
    "plt.hist(height, bins='auto')\n",
    "plt.show()\n"
   ],
   "metadata": {
    "collapsed": false,
    "pycharm": {
     "name": "#%%\n"
    }
   }
  }
 ],
 "metadata": {
  "kernelspec": {
   "name": "python38232bit5dc3511e4fa14b9aab2e4b4dfcc505c1",
   "language": "python",
   "display_name": "Python 3.8.2 32-bit"
  },
  "language_info": {
   "codemirror_mode": {
    "name": "ipython",
    "version": 2
   },
   "file_extension": ".py",
   "mimetype": "text/x-python",
   "name": "python",
   "nbconvert_exporter": "python",
   "pygments_lexer": "ipython2",
   "version": "2.7.6"
  }
 },
 "nbformat": 4,
 "nbformat_minor": 0
}